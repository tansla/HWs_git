{
  "cells": [
    {
      "cell_type": "markdown",
      "metadata": {
        "id": "RDmHTF5232la"
      },
      "source": [
        "# Dimensionality reduction"
      ]
    },
    {
      "cell_type": "markdown",
      "metadata": {
        "id": "kgpLAoVH32le"
      },
      "source": [
        "In this task you will practice dimensionality reduction.\n",
        "Use code cells to answer the Tasks and Markdown cells for the Questions (Q's)."
      ]
    },
    {
      "cell_type": "code",
      "execution_count": 68,
      "metadata": {
        "_cell_guid": "b1076dfc-b9ad-4769-8c92-a6c4dae69d19",
        "_uuid": "8f2839f25d086af736a60e9eeb907d3b93b6e0e5",
        "id": "7DLJ446A32lf",
        "trusted": true
      },
      "outputs": [],
      "source": [
        "import sklearn\n",
        "from sklearn.tree import DecisionTreeClassifier\n",
        "from sklearn.model_selection import train_test_split\n",
        "from sklearn.datasets import load_breast_cancer\n",
        "import pandas as pd\n",
        "from sklearn.metrics import accuracy_score\n",
        "from sklearn.decomposition import PCA\n",
        "from sklearn.datasets import load_wine\n",
        "from sklearn.linear_model import LogisticRegression\n",
        "import matplotlib.pyplot as plt\n",
        "import numpy as np\n"
      ]
    },
    {
      "cell_type": "markdown",
      "metadata": {
        "id": "QuqIaglD32lg"
      },
      "source": [
        "# Load data"
      ]
    },
    {
      "cell_type": "code",
      "execution_count": 171,
      "metadata": {
        "id": "Gi1DNp5-32lh",
        "trusted": true
      },
      "outputs": [],
      "source": [
        "(X, y) = load_wine(return_X_y=True)\n",
        "\n",
        "# split X into training and testing sets\n",
        "X_train, X_test, y_train, y_test = train_test_split(X, y, test_size=0.4, random_state=0,stratify=y)"
      ]
    },
    {
      "cell_type": "markdown",
      "metadata": {
        "id": "cB7dmNQP32lh"
      },
      "source": [
        "Lets take a quick look at the data:"
      ]
    },
    {
      "cell_type": "code",
      "execution_count": 29,
      "metadata": {
        "id": "ypYMfIuC32lh",
        "trusted": true
      },
      "outputs": [
        {
          "data": {
            "text/html": [
              "<div>\n",
              "<style scoped>\n",
              "    .dataframe tbody tr th:only-of-type {\n",
              "        vertical-align: middle;\n",
              "    }\n",
              "\n",
              "    .dataframe tbody tr th {\n",
              "        vertical-align: top;\n",
              "    }\n",
              "\n",
              "    .dataframe thead th {\n",
              "        text-align: right;\n",
              "    }\n",
              "</style>\n",
              "<table border=\"1\" class=\"dataframe\">\n",
              "  <thead>\n",
              "    <tr style=\"text-align: right;\">\n",
              "      <th></th>\n",
              "      <th>0</th>\n",
              "      <th>1</th>\n",
              "      <th>2</th>\n",
              "      <th>3</th>\n",
              "      <th>4</th>\n",
              "      <th>5</th>\n",
              "      <th>6</th>\n",
              "      <th>7</th>\n",
              "      <th>8</th>\n",
              "      <th>9</th>\n",
              "      <th>10</th>\n",
              "      <th>11</th>\n",
              "      <th>12</th>\n",
              "    </tr>\n",
              "  </thead>\n",
              "  <tbody>\n",
              "    <tr>\n",
              "      <th>count</th>\n",
              "      <td>106.000000</td>\n",
              "      <td>106.000000</td>\n",
              "      <td>106.000000</td>\n",
              "      <td>106.000000</td>\n",
              "      <td>106.000000</td>\n",
              "      <td>106.000000</td>\n",
              "      <td>106.000000</td>\n",
              "      <td>106.000000</td>\n",
              "      <td>106.000000</td>\n",
              "      <td>106.000000</td>\n",
              "      <td>106.000000</td>\n",
              "      <td>106.000000</td>\n",
              "      <td>106.000000</td>\n",
              "    </tr>\n",
              "    <tr>\n",
              "      <th>mean</th>\n",
              "      <td>13.031792</td>\n",
              "      <td>2.332642</td>\n",
              "      <td>2.367170</td>\n",
              "      <td>19.701887</td>\n",
              "      <td>98.556604</td>\n",
              "      <td>2.282170</td>\n",
              "      <td>1.981509</td>\n",
              "      <td>0.375755</td>\n",
              "      <td>1.620849</td>\n",
              "      <td>5.150472</td>\n",
              "      <td>0.951321</td>\n",
              "      <td>2.617830</td>\n",
              "      <td>756.915094</td>\n",
              "    </tr>\n",
              "    <tr>\n",
              "      <th>std</th>\n",
              "      <td>0.821117</td>\n",
              "      <td>1.126702</td>\n",
              "      <td>0.271797</td>\n",
              "      <td>3.159023</td>\n",
              "      <td>13.749514</td>\n",
              "      <td>0.573592</td>\n",
              "      <td>1.013492</td>\n",
              "      <td>0.124869</td>\n",
              "      <td>0.592705</td>\n",
              "      <td>2.443026</td>\n",
              "      <td>0.216509</td>\n",
              "      <td>0.680315</td>\n",
              "      <td>326.825135</td>\n",
              "    </tr>\n",
              "    <tr>\n",
              "      <th>min</th>\n",
              "      <td>11.460000</td>\n",
              "      <td>0.890000</td>\n",
              "      <td>1.700000</td>\n",
              "      <td>12.000000</td>\n",
              "      <td>70.000000</td>\n",
              "      <td>1.250000</td>\n",
              "      <td>0.470000</td>\n",
              "      <td>0.130000</td>\n",
              "      <td>0.420000</td>\n",
              "      <td>1.740000</td>\n",
              "      <td>0.480000</td>\n",
              "      <td>1.270000</td>\n",
              "      <td>278.000000</td>\n",
              "    </tr>\n",
              "    <tr>\n",
              "      <th>25%</th>\n",
              "      <td>12.332500</td>\n",
              "      <td>1.632500</td>\n",
              "      <td>2.210000</td>\n",
              "      <td>17.500000</td>\n",
              "      <td>88.000000</td>\n",
              "      <td>1.800000</td>\n",
              "      <td>1.017500</td>\n",
              "      <td>0.270000</td>\n",
              "      <td>1.252500</td>\n",
              "      <td>3.180000</td>\n",
              "      <td>0.802500</td>\n",
              "      <td>1.972500</td>\n",
              "      <td>510.000000</td>\n",
              "    </tr>\n",
              "    <tr>\n",
              "      <th>50%</th>\n",
              "      <td>13.135000</td>\n",
              "      <td>1.845000</td>\n",
              "      <td>2.350000</td>\n",
              "      <td>19.500000</td>\n",
              "      <td>97.000000</td>\n",
              "      <td>2.210000</td>\n",
              "      <td>2.035000</td>\n",
              "      <td>0.360000</td>\n",
              "      <td>1.545000</td>\n",
              "      <td>4.800000</td>\n",
              "      <td>0.960000</td>\n",
              "      <td>2.795000</td>\n",
              "      <td>675.000000</td>\n",
              "    </tr>\n",
              "    <tr>\n",
              "      <th>75%</th>\n",
              "      <td>13.677500</td>\n",
              "      <td>3.135000</td>\n",
              "      <td>2.580000</td>\n",
              "      <td>21.575000</td>\n",
              "      <td>105.750000</td>\n",
              "      <td>2.787500</td>\n",
              "      <td>2.855000</td>\n",
              "      <td>0.477500</td>\n",
              "      <td>1.970000</td>\n",
              "      <td>6.200000</td>\n",
              "      <td>1.097500</td>\n",
              "      <td>3.167500</td>\n",
              "      <td>1023.750000</td>\n",
              "    </tr>\n",
              "    <tr>\n",
              "      <th>max</th>\n",
              "      <td>14.830000</td>\n",
              "      <td>5.650000</td>\n",
              "      <td>3.230000</td>\n",
              "      <td>28.500000</td>\n",
              "      <td>151.000000</td>\n",
              "      <td>3.380000</td>\n",
              "      <td>5.080000</td>\n",
              "      <td>0.630000</td>\n",
              "      <td>3.580000</td>\n",
              "      <td>13.000000</td>\n",
              "      <td>1.420000</td>\n",
              "      <td>4.000000</td>\n",
              "      <td>1680.000000</td>\n",
              "    </tr>\n",
              "  </tbody>\n",
              "</table>\n",
              "</div>"
            ],
            "text/plain": [
              "               0           1           2           3           4           5   \\\n",
              "count  106.000000  106.000000  106.000000  106.000000  106.000000  106.000000   \n",
              "mean    13.031792    2.332642    2.367170   19.701887   98.556604    2.282170   \n",
              "std      0.821117    1.126702    0.271797    3.159023   13.749514    0.573592   \n",
              "min     11.460000    0.890000    1.700000   12.000000   70.000000    1.250000   \n",
              "25%     12.332500    1.632500    2.210000   17.500000   88.000000    1.800000   \n",
              "50%     13.135000    1.845000    2.350000   19.500000   97.000000    2.210000   \n",
              "75%     13.677500    3.135000    2.580000   21.575000  105.750000    2.787500   \n",
              "max     14.830000    5.650000    3.230000   28.500000  151.000000    3.380000   \n",
              "\n",
              "               6           7           8           9           10          11  \\\n",
              "count  106.000000  106.000000  106.000000  106.000000  106.000000  106.000000   \n",
              "mean     1.981509    0.375755    1.620849    5.150472    0.951321    2.617830   \n",
              "std      1.013492    0.124869    0.592705    2.443026    0.216509    0.680315   \n",
              "min      0.470000    0.130000    0.420000    1.740000    0.480000    1.270000   \n",
              "25%      1.017500    0.270000    1.252500    3.180000    0.802500    1.972500   \n",
              "50%      2.035000    0.360000    1.545000    4.800000    0.960000    2.795000   \n",
              "75%      2.855000    0.477500    1.970000    6.200000    1.097500    3.167500   \n",
              "max      5.080000    0.630000    3.580000   13.000000    1.420000    4.000000   \n",
              "\n",
              "                12  \n",
              "count   106.000000  \n",
              "mean    756.915094  \n",
              "std     326.825135  \n",
              "min     278.000000  \n",
              "25%     510.000000  \n",
              "50%     675.000000  \n",
              "75%    1023.750000  \n",
              "max    1680.000000  "
            ]
          },
          "execution_count": 29,
          "metadata": {},
          "output_type": "execute_result"
        }
      ],
      "source": [
        "pd.DataFrame(X_train).describe()"
      ]
    },
    {
      "cell_type": "markdown",
      "metadata": {
        "id": "snVONeVb32li"
      },
      "source": [
        "# PCA + SVM"
      ]
    },
    {
      "cell_type": "markdown",
      "metadata": {
        "id": "_dXgU9Dp32li"
      },
      "source": [
        "Task 1: Use X_train, y_train to train a SVM (SKlean's SVC) with the deafult parameters. You can read more about the algorithm in SKlearn's documentation.\n",
        "Make sure you normailize the data by using StandardScaler\n",
        "Evaulate the algorithm using accuracy score and X_test, y_test."
      ]
    },
    {
      "cell_type": "code",
      "execution_count": 215,
      "metadata": {},
      "outputs": [],
      "source": [
        "from sklearn.pipeline import make_pipeline\n",
        "from sklearn.preprocessing import StandardScaler\n",
        "from sklearn.svm import SVC\n",
        "from sklearn.decomposition import PCA\n",
        "from sklearn.linear_model import LogisticRegression\n",
        "\n",
        "def calc_score(model, do_pca=False):\n",
        "    if do_pca:\n",
        "        pp_svc = make_pipeline(StandardScaler(), PCA(), model())\n",
        "        text = f'For {model.__name__} after PCA'\n",
        "    else:\n",
        "        pp_svc = make_pipeline(StandardScaler(), model())\n",
        "        text = f'For {model.__name__} without PCA'\n",
        "    pp_svc.fit(X_train, y_train)\n",
        "    print(f'{text}, basic params on test: {pp_svc.score(X_test, y_test):.4f}')"
      ]
    },
    {
      "cell_type": "markdown",
      "metadata": {
        "id": "ZCNEfuqy32lj"
      },
      "source": [
        "Task 2: Now do the same, but use PCA.\n",
        "\n",
        "In this task, we want to keep all of the variance! No data is going to be discarded.\n",
        "You are asked to use the maximal number of componenets for PCA.\n",
        "\n",
        "Q1: Your co-worker says that the results should be at least as good as the results we had without PCA. Explain why might he say that.\n",
        "\n",
        "Print the accuracy of SVM + PCA."
      ]
    },
    {
      "cell_type": "code",
      "execution_count": 218,
      "metadata": {},
      "outputs": [
        {
          "name": "stdout",
          "output_type": "stream",
          "text": [
            "For SVC without PCA, basic params on test: 0.9861\n",
            "For SVC after PCA, basic params on test: 0.9861\n"
          ]
        }
      ],
      "source": [
        "calc_score(SVC)\n",
        "calc_score(SVC, True)"
      ]
    },
    {
      "cell_type": "markdown",
      "metadata": {
        "id": "Wa-zokqL32lj"
      },
      "source": [
        "Q2: Did the results improve\\stayed the same\\got worse? "
      ]
    },
    {
      "attachments": {},
      "cell_type": "markdown",
      "metadata": {},
      "source": [
        "### Answer:\n",
        "As long as we keep all the deems after PCA we do not change the orientation betwwen the points inside the data and therefore not change the result for the SVC that searching for the plane that stays the same relativly to the data."
      ]
    },
    {
      "cell_type": "markdown",
      "metadata": {
        "id": "lPdbsJQh32lj"
      },
      "source": [
        "# PCA + logistice regression"
      ]
    },
    {
      "cell_type": "markdown",
      "metadata": {
        "id": "p7ZOUCLC32lk"
      },
      "source": [
        "Task 3: repeat task 1 with logistic regression.\n",
        "\n",
        "Task 4: repeast task 2 with logistic regression."
      ]
    },
    {
      "cell_type": "code",
      "execution_count": 217,
      "metadata": {},
      "outputs": [
        {
          "name": "stdout",
          "output_type": "stream",
          "text": [
            "For LogisticRegression without PCA, basic params on test: 0.9861\n",
            "For LogisticRegression after PCA, basic params on test: 0.9861\n"
          ]
        }
      ],
      "source": [
        "calc_score(LogisticRegression)\n",
        "calc_score(LogisticRegression, True)"
      ]
    },
    {
      "cell_type": "markdown",
      "metadata": {
        "id": "PP1L5aqw32lk"
      },
      "source": [
        "Q3: Did the results improved\\stayed the same\\got worse?"
      ]
    },
    {
      "cell_type": "markdown",
      "metadata": {
        "id": "En4ptRLe32ll"
      },
      "source": [
        "Q4: How can you explain the difference between answers to Q2 and Q3. Hint: think about the nature of Logistic regression and the main difference of SVM from it. Hint: SVM assumes the data can be seperated by an hyperplan."
      ]
    },
    {
      "attachments": {},
      "cell_type": "markdown",
      "metadata": {},
      "source": [
        "### Answer:\n",
        "The result stays the same, while the Logistic Regression also works on how the data is related to itself and not sensitive for to how the data is on the space."
      ]
    },
    {
      "cell_type": "code",
      "execution_count": 170,
      "metadata": {},
      "outputs": [
        {
          "name": "stdout",
          "output_type": "stream",
          "text": [
            "For GaussianNB without PCA, basic params on test: 0.9722\n",
            "For GaussianNB after PCA, basic params on test: 0.9306\n",
            "For RandomForestClassifier without PCA, basic params on test: 0.9722\n",
            "For RandomForestClassifier after PCA, basic params on test: 0.9306\n"
          ]
        }
      ],
      "source": [
        "from sklearn.naive_bayes import GaussianNB\n",
        "from sklearn.ensemble import RandomForestClassifier\n",
        "\n",
        "calc_score(GaussianNB)\n",
        "calc_score(GaussianNB, True)\n",
        "calc_score(RandomForestClassifier)\n",
        "calc_score(RandomForestClassifier, True)\n"
      ]
    },
    {
      "attachments": {},
      "cell_type": "markdown",
      "metadata": {},
      "source": [
        "### Comments:\n",
        "When we try to use models that are places more in the space than relatively to the data the results are changing after the PCA even if we save whole dementionality. "
      ]
    },
    {
      "cell_type": "markdown",
      "metadata": {
        "id": "c_PfC__h32ll"
      },
      "source": [
        "# Visualizing"
      ]
    },
    {
      "cell_type": "markdown",
      "metadata": {
        "id": "lMpkIEQ632ll"
      },
      "source": [
        "Task 5: Use locally linear embedding in sklearn to visualize the data. Plot the results.\n",
        "Optimze the n_neighbors by running at least 5 times and use the best looking result you can find."
      ]
    },
    {
      "cell_type": "code",
      "execution_count": 234,
      "metadata": {},
      "outputs": [],
      "source": [
        "(X, y) = load_wine(return_X_y=True)\n",
        "\n",
        "# Let's define the function that will plot the data for the specific model:\n",
        "def plot_blobs(model, X, y):\n",
        "    pipeline = make_pipeline(StandardScaler(),model)\n",
        "    X_transformed = pipeline.fit_transform(X)\n",
        "    plots=[]\n",
        "    for k in range(len(np.unique(y))):    \n",
        "        X_lle=np.array([x for i,x in enumerate(X_transformed[:, 0]) if y[i]==k])\n",
        "        Y_lle=np.array([x for i,x in enumerate(X_transformed[:, 1]) if y[i]==k])\n",
        "        p= plt.scatter(X_lle, Y_lle)\n",
        "        plots.append(p)\n",
        "    plt.legend(plots,np.unique(y))\n",
        "    plt.title(f'{model}')\n",
        "    plt.show()\n"
      ]
    },
    {
      "cell_type": "code",
      "execution_count": 243,
      "metadata": {},
      "outputs": [
        {
          "data": {
            "image/png": "[encoded data removed]",
            "text/plain": [
              "<Figure size 432x288 with 1 Axes>"
            ]
          },
          "metadata": {
            "needs_background": "light"
          },
          "output_type": "display_data"
        }
      ],
      "source": [
        "model = PCA()\n",
        "plot_blobs(model, X, y)"
      ]
    },
    {
      "cell_type": "code",
      "execution_count": 244,
      "metadata": {},
      "outputs": [
        {
          "data": {
            "image/png": "[encoded data removed]",
            "text/plain": [
              "<Figure size 432x288 with 1 Axes>"
            ]
          },
          "metadata": {
            "needs_background": "light"
          },
          "output_type": "display_data"
        }
      ],
      "source": [
        "model = LocallyLinearEmbedding(n_components=2,n_neighbors=13)\n",
        "plot_blobs(model, X, y)\n"
      ]
    },
    {
      "cell_type": "markdown",
      "metadata": {
        "id": "WHC6gNno32ll"
      },
      "source": [
        "Task 6: Use t-SNE to visualize the data. Plot the results."
      ]
    },
    {
      "cell_type": "code",
      "execution_count": 236,
      "metadata": {},
      "outputs": [
        {
          "name": "stderr",
          "output_type": "stream",
          "text": [
            "/Users/tansla/anaconda3/lib/python3.7/site-packages/sklearn/manifold/_t_sne.py:783: FutureWarning: The default initialization in TSNE will change from 'random' to 'pca' in 1.2.\n",
            "  FutureWarning,\n",
            "/Users/tansla/anaconda3/lib/python3.7/site-packages/sklearn/manifold/_t_sne.py:793: FutureWarning: The default learning rate in TSNE will change from 200.0 to 'auto' in 1.2.\n",
            "  FutureWarning,\n"
          ]
        },
        {
          "data": {
            "image/png": "[encoded data removed]",
            "text/plain": [
              "<Figure size 432x288 with 1 Axes>"
            ]
          },
          "metadata": {
            "needs_background": "light"
          },
          "output_type": "display_data"
        }
      ],
      "source": [
        "from sklearn.manifold import TSNE\n",
        "\n",
        "tsne=TSNE(n_components=2)\n",
        "plot_blobs(tsne, X, y)"
      ]
    },
    {
      "cell_type": "markdown",
      "metadata": {
        "id": "7PTfZokr32ll"
      },
      "source": [
        "Task 7: Use UMAP to visualize the data. Plot the results."
      ]
    },
    {
      "cell_type": "code",
      "execution_count": 245,
      "metadata": {},
      "outputs": [
        {
          "data": {
            "image/png": "[encoded data removed]",
            "text/plain": [
              "<Figure size 432x288 with 1 Axes>"
            ]
          },
          "metadata": {
            "needs_background": "light"
          },
          "output_type": "display_data"
        }
      ],
      "source": [
        "import umap\n",
        "\n",
        "umap = umap.UMAP() \n",
        "plot_blobs(umap, X, y)\n"
      ]
    },
    {
      "cell_type": "markdown",
      "metadata": {
        "id": "3Z_GjviC32lm"
      },
      "source": [
        "Q5: If we run one of this visualziaing algorithms various times with the default parameters, are we guranteed to see the same results? Why?"
      ]
    },
    {
      "attachments": {},
      "cell_type": "markdown",
      "metadata": {},
      "source": [
        "### Answer:\n",
        "For the TSNE and UMAP results would not be the same each time, because:\n",
        "1. T-sne is based on probability distribution and has a cost function that is not convex\n",
        "2. UMAP ..."
      ]
    }
  ],
  "metadata": {
    "colab": {
      "provenance": []
    },
    "kernel_info": {
      "name": "python3"
    },
    "kernelspec": {
      "display_name": "Python 3",
      "language": "python",
      "name": "python3"
    },
    "language_info": {
      "codemirror_mode": {
        "name": "ipython",
        "version": 3
      },
      "file_extension": ".py",
      "mimetype": "text/x-python",
      "name": "python",
      "nbconvert_exporter": "python",
      "pygments_lexer": "ipython3",
      "version": "3.7.3"
    },
    "nteract": {
      "version": "0.15.0"
    },
    "vscode": {
      "interpreter": {
        "hash": "a6d966dc6d3bf27858c96a0cca082416ca45510cdfd9e0cf25e4971a54ae9926"
      }
    }
  },
  "nbformat": 4,
  "nbformat_minor": 0
}
