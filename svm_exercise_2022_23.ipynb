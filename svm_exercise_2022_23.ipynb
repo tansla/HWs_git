{
  "cells": [
    {
      "cell_type": "markdown",
      "metadata": {
        "id": "kHjry4MFiQZ6"
      },
      "source": [
        "# Support Vector Machine Exercise\n",
        "In this exercise you will learn about:\n",
        "1. Implementing SVM from scratch using a sub-gradient method called Pegasos (2011)\n",
        "2. The effect of imbalance and non-seperable classes on the SVM solution.\n",
        "3. Pratical SVM in scikit-learn on a simple example including hyper parameter optimization wrapper class to find optimal regularization, loss and multiclass technique.\n",
        "4. Optional reading material on one class, new probability interpretation of SVM"
      ]
    },
    {
      "cell_type": "code",
      "execution_count": 6,
      "metadata": {},
      "outputs": [],
      "source": [
        "import numpy as np\n",
        "from sklearn.datasets import load_breast_cancer\n",
        "from sklearn.svm import LinearSVC\n",
        "from sklearn.pipeline import make_pipeline\n",
        "from sklearn.pipeline import Pipeline\n",
        "from sklearn.preprocessing import StandardScaler\n",
        "from sklearn.model_selection import train_test_split\n",
        "from sklearn.base import BaseEstimator\n",
        "from sklearn.model_selection import validation_curve\n",
        "from sklearn.model_selection import learning_curve\n",
        "from sklearn.model_selection import GridSearchCV\n",
        "from sklearn.svm import LinearSVC\n",
        "from sklearn.pipeline import make_pipeline\n",
        "from sklearn.preprocessing import StandardScaler\n",
        "from sklearn.datasets import load_breast_cancer"
      ]
    },
    {
      "cell_type": "code",
      "execution_count": 245,
      "metadata": {},
      "outputs": [
        {
          "data": {
            "text/plain": [
              "'1.0.2'"
            ]
          },
          "execution_count": 245,
          "metadata": {},
          "output_type": "execute_result"
        }
      ],
      "source": [
        "import sklearn\n",
        "sklearn.__version__"
      ]
    },
    {
      "attachments": {},
      "cell_type": "markdown",
      "metadata": {
        "id": "JR8w86nqjxQe"
      },
      "source": [
        "## 1. Implementing the PEGASOS SVM\n",
        "We will implement the simplest SVM implementation. \n",
        "It is based on a paper by Shalev-Shwartz et al (see reading material below).\n",
        "The essense of the algorithm is copied below from the paper:\n",
        "\n",
        "<img src=\"https://snag.gy/Gpi1Mk.jpg\" width=\"600\" >\n",
        "<!-- ![alt text](https://snag.gy/Gpi1Mk.jpg) -->\n",
        "\n",
        "Here is a little more deailed explanation (it's recommended to read the full paper).\n",
        "\n",
        "<img src=\"https://snag.gy/koA0ue.jpg\" width=\"600\" >\n",
        "<!-- ![alt_text](https://snag.gy/koA0ue.jpg) -->\n",
        "\n",
        "1. Implement a class *PegasosSVM* which has parameter $\\lambda$ and $T$ and methods *fit* and *predict* and *decision_function* where the latter is the distance from the plane (aka model's output score).\n",
        "  * **although the above**, here you are required to pad the samples with 1, and not use bias (the separating hyperplane must go through the origin).\n",
        "  * don't forget labels should be {-1,1} - change them if it is {0,1}\n",
        "  * don't forget to normalize your features. You can use [StandardScaler](https://scikit-learn.org/stable/modules/generated/sklearn.preprocessing.StandardScaler.html) and [Pipeline](https://scikit-learn.org/stable/modules/generated/sklearn.pipeline.Pipeline.html) to create a pipeline which first standartize features and then learn.\n",
        "  * decision function is simply the Euclidean distance (with a sign that designates from which side of the decision plane the point is located) from the decision plane to each sample. So, if you query for some point, you will get a positive number if the point is above the plain and negative if it is below it. The value will give you the distance which you can use for a scoring, for example, after you normalize it. If a point is very near to the decision plane it will have a lower score than a point that is farther. Also, if your point is located inside the margins of the model, you may want to treat the score as a probability for assigning the point to one class or another.\n",
        "\n",
        "2. test your class on the breast cancer database [load_breast_cancer](https://scikit-learn.org/stable/modules/generated/sklearn.datasets.load_breast_cancer.html), and compare your results to the Native Scikit-learn implementation [LinearSVC](https://scikit-learn.org/stable/modules/generated/sklearn.svm.LinearSVC.html#sklearn.svm.LinearSVC)\n",
        "  * you can use [`cross_val_score`](https://scikit-learn.org/stable/modules/generated/sklearn.model_selection.cross_val_score.html)\n",
        "\n",
        "3. Analyze the effect of the hyper parameter $\\lambda$ on your training and test error. \n",
        "  * you can use scikit-learn's `validation_curve`\n",
        "\n",
        "4. Analyze the learning curve (performance as function of training size)\n",
        "  * you can use scikit-learn's `learning_curve`\n",
        "\n",
        "5. *Bonus: Mini-batches* . In the paper, the authors summed the loss over several samples before updating. Extend your class to support mini-batches and analyze the perfomance effect if exists. See more details below\n",
        "\n",
        "\n",
        "<img src=\"https://i.ibb.co/0BGwVz7/1.png\" width=\"600\" >\n",
        "<!-- ![](https://i.ibb.co/0BGwVz7/1.png) -->"
      ]
    },
    {
      "cell_type": "code",
      "execution_count": 215,
      "metadata": {
        "id": "owvj20y33dqr"
      },
      "outputs": [],
      "source": [
        "class svm(BaseEstimator):\n",
        "    def __init__(self, l=0.1, num_iteration=1000):\n",
        "        self.l = l\n",
        "        self.num_iteration = num_iteration\n",
        "        self.w = None\n",
        "    \n",
        "    @staticmethod\n",
        "    def pad(X):\n",
        "        return np.append(np.ones([X.shape[0],1]),X,axis=1)\n",
        "    \n",
        "    @staticmethod\n",
        "    def correct_labels(Y):\n",
        "        Y_corrected = Y.copy()\n",
        "        Y_corrected[Y_corrected == 0] = -1\n",
        "        return(Y_corrected)\n",
        "\n",
        "    def fit(self, X, Y):\n",
        "        return self._fit(self.pad(X),self.correct_labels(Y))\n",
        "\n",
        "    def _fit(self, X, Y):\n",
        "        len_x = X.shape[1]\n",
        "        self.w = np.zeros(len_x)\n",
        "        for t in range(1, self.num_iteration+1):\n",
        "            i = np.random.randint(0, len_x )\n",
        "            x, y = X[i], Y[i]\n",
        "            n = 1/(self.l * t)\n",
        "            if y * np.dot(self.w ,x) < 1:\n",
        "                self.w = (1 - n * self.l) * self.w + n * y * x\n",
        "            else: \n",
        "                self.w = (1 - n * self.l) * self.w \n",
        "        return self.w\n",
        "\n",
        "    def predict(self, X):\n",
        "        return np.sign(np.dot(self.pad(X),self.w)) \n",
        "\n",
        "    def decision_function(self, X):\n",
        "        return np.matmul( self.pad(X), self.w)\n",
        "\n",
        "    def score(self, X, y):\n",
        "        y_pred = self.predict(X)\n",
        "        y_corrected = self.correct_labels(y)\n",
        "        return (y_pred  == y_corrected).sum()/ len(y_corrected)\n",
        "\n"
      ]
    },
    {
      "cell_type": "code",
      "execution_count": 197,
      "metadata": {},
      "outputs": [],
      "source": [
        "\n",
        "data = load_breast_cancer()\n",
        "X, y = data.data, data.target\n",
        "\n",
        "X_train, X_test, y_train, y_test = train_test_split(X, y, test_size=0.25, random_state=317)"
      ]
    },
    {
      "cell_type": "code",
      "execution_count": 269,
      "metadata": {},
      "outputs": [
        {
          "name": "stdout",
          "output_type": "stream",
          "text": [
            "For lambda=0.0010 we get score: 0.9301\n",
            "For lambda=0.0100 we get score: 0.9371\n",
            "For lambda=0.1000 we get score: 0.9301\n",
            "For lambda=1.0000 we get score: 0.9371\n"
          ]
        }
      ],
      "source": [
        "X_train, X_test, y_train, y_test = train_test_split(X, y, test_size=0.25, random_state=317)\n",
        "\n",
        "for l in [0.001,0.01,0.1,1]:\n",
        "    pp_svm = make_pipeline(StandardScaler(),  svm(l=l,num_iteration=1000))\n",
        "    pp_svm.fit(X_train, y_train)\n",
        "    print(f'For lambda={l:.4f} we get score: {pp_svm.score(X_test,y_test):.4f}')"
      ]
    },
    {
      "cell_type": "code",
      "execution_count": 200,
      "metadata": {},
      "outputs": [
        {
          "name": "stdout",
          "output_type": "stream",
          "text": [
            "For LinearSVC we get score: 0.9580\n"
          ]
        }
      ],
      "source": [
        "\n",
        "X_train, X_test, y_train, y_test = train_test_split(X, y, test_size=0.25, random_state=317)\n",
        "\n",
        "# pipe = Pipeline([('scaler', StandardScaler()), ('svc', SVC())])\n",
        "clf = make_pipeline(StandardScaler(),\n",
        "                    LinearSVC(random_state=317))\n",
        "clf.fit(X_train, y_train)\n",
        "clf.decision_function(X_test)\n",
        "\n",
        "print(f'For LinearSVC we get score: {clf.score(X_test,y_test):.4f}')\n"
      ]
    },
    {
      "cell_type": "code",
      "execution_count": 217,
      "metadata": {},
      "outputs": [
        {
          "name": "stdout",
          "output_type": "stream",
          "text": [
            "Cross-validation for LinearSVC: [0.94736842 0.96842105 0.96825397]\n",
            "Cross-validation for our SVM implementation: [0.93157895 0.92105263 0.86243386]\n"
          ]
        }
      ],
      "source": [
        "from sklearn.model_selection import cross_val_score\n",
        "\n",
        "clf = make_pipeline(StandardScaler(), LinearSVC(random_state=317))\n",
        "pp_svm = make_pipeline(StandardScaler(),  svm(l=0.01,num_iteration=1000))\n",
        "print(f'Cross-validation for LinearSVC: {cross_val_score(clf, X, y, cv=3)}')\n",
        "print(f'Cross-validation for our SVM implementation: {cross_val_score(pp_svm, X, y, cv=3)}')"
      ]
    },
    {
      "cell_type": "code",
      "execution_count": 240,
      "metadata": {},
      "outputs": [
        {
          "data": {
            "image/png": "[encoded data removed]",
            "text/plain": [
              "<Figure size 432x288 with 1 Axes>"
            ]
          },
          "metadata": {
            "needs_background": "light"
          },
          "output_type": "display_data"
        }
      ],
      "source": [
        "# https://scikit-learn.org/stable/auto_examples/model_selection/plot_validation_curve.html#sphx-glr-auto-examples-model-selection-plot-validation-curve-py\n",
        "\n",
        "param_range=np.logspace(-10, 10, 10)\n",
        "train_scores, test_scores  = validation_curve(\n",
        "    pp_svm, X, y, param_name=\"svm__l\",param_range=param_range ,\n",
        "    cv=5)\n",
        "\n",
        "\n",
        "train_scores_mean = np.mean(train_scores, axis=1)\n",
        "train_scores_std = np.std(train_scores, axis=1)\n",
        "test_scores_mean = np.mean(test_scores, axis=1)\n",
        "test_scores_std = np.std(test_scores, axis=1)\n",
        "\n",
        "plt.title(\"Validation Curve with SVM\")\n",
        "plt.xlabel(r\"$\\lambda$\")\n",
        "plt.ylabel(\"Score\")\n",
        "# plt.ylim(0.0, 1.1)\n",
        "lw = 2\n",
        "plt.semilogx(\n",
        "    param_range, train_scores_mean, label=\"Training score\", color=\"darkorange\", lw=lw\n",
        ")\n",
        "plt.fill_between(\n",
        "    param_range,\n",
        "    train_scores_mean - train_scores_std,\n",
        "    train_scores_mean + train_scores_std,\n",
        "    alpha=0.2,\n",
        "    color=\"darkorange\",\n",
        "    lw=lw,\n",
        ")\n",
        "plt.semilogx(\n",
        "    param_range, test_scores_mean, label=\"Cross-validation score\", color=\"navy\", lw=lw\n",
        ")\n",
        "plt.fill_between(\n",
        "    param_range,\n",
        "    test_scores_mean - test_scores_std,\n",
        "    test_scores_mean + test_scores_std,\n",
        "    alpha=0.2,\n",
        "    color=\"navy\",\n",
        "    lw=lw,\n",
        ")\n",
        "plt.legend(loc=\"best\")\n",
        "plt.show()"
      ]
    },
    {
      "cell_type": "code",
      "execution_count": 258,
      "metadata": {},
      "outputs": [
        {
          "data": {
            "text/plain": [
              "(569, 30)"
            ]
          },
          "execution_count": 258,
          "metadata": {},
          "output_type": "execute_result"
        }
      ],
      "source": [
        "X.shape"
      ]
    },
    {
      "cell_type": "code",
      "execution_count": 268,
      "metadata": {},
      "outputs": [
        {
          "data": {
            "image/png": "[encoded data removed]",
            "text/plain": [
              "<Figure size 432x288 with 1 Axes>"
            ]
          },
          "metadata": {
            "needs_background": "light"
          },
          "output_type": "display_data"
        }
      ],
      "source": [
        "# https://scikit-learn.org/stable/auto_examples/model_selection/plot_learning_curve.html#sphx-glr-auto-examples-model-selection-plot-learning-curve-py\n",
        "# https://github.com/scikit-learn/scikit-learn/blob/98cf537f5c538fdbc9d27b851cf03ce7611b8a48/sklearn/model_selection/_plot.py\n",
        " \n",
        "train_sizes, train_scores, test_scores = learning_curve(pp_svm, X, y, train_sizes=[50,100,150,200,300], cv=5)\n",
        "\n",
        "# fig, ax = plt.subplots(nrows=1, ncols=2, figsize=(10, 6), sharey=True)\n",
        "\n",
        "train_scores_mean = np.mean(train_scores, axis=1)\n",
        "train_scores_std = np.std(train_scores, axis=1)\n",
        "test_scores_mean = np.mean(test_scores, axis=1)\n",
        "test_scores_std = np.std(test_scores, axis=1)\n",
        "\n",
        "\n",
        "plt.title(\"Learning Curve with SVM\")\n",
        "plt.xlabel(\"Train size\")\n",
        "plt.ylabel(\"Score\")\n",
        "# plt.ylim(0.0, 1.1)\n",
        "lw = 2\n",
        "plt.plot(\n",
        "    train_sizes, train_scores_mean, label=\"Training score\", color=\"darkorange\", lw=lw\n",
        ")\n",
        "\n",
        "plt.fill_between(\n",
        "    train_sizes,\n",
        "    train_scores_mean - train_scores_std,\n",
        "    train_scores_mean + train_scores_std,\n",
        "    alpha=0.2,\n",
        "    color=\"darkorange\",\n",
        "    lw=lw,\n",
        ")\n",
        "plt.plot(\n",
        "    train_sizes, test_scores_mean, label=\"Cross-validation score\", color=\"navy\", lw=lw\n",
        ")\n",
        "plt.fill_between(\n",
        "    train_sizes,\n",
        "    test_scores_mean - test_scores_std,\n",
        "    test_scores_mean + test_scores_std,\n",
        "    alpha=0.2,\n",
        "    color=\"navy\",\n",
        "    lw=lw,\n",
        ")\n",
        "plt.legend(loc=\"best\")\n",
        "plt.show()"
      ]
    },
    {
      "cell_type": "markdown",
      "metadata": {
        "id": "PVj66a0uEwoI"
      },
      "source": [
        "## 2. The importance of class weighting in SVM\n",
        "When classes are imbalance and not seperable, SVM might result in non intuitive solution.\n",
        "\n",
        "To see this we created for you a function `make_data` which generates a two dimensional dataset with `n_samples=1000` where a fraction `imbalance=0.1` is labeled `0` and the rest `1`. The distribution of $x$ given $y=0$ or $y=1$ is gaussian with std 0.5 or 2, respectively and that the centers are at $x_1=0$ and $x_2=-d/2$ and $x_2=d/2$, respectively. In other words,  \n",
        "$$\n",
        "p(x|y) = \\mathcal{N}(\\mu=(±d/2,0),\\,\\sigma=1/2+3/2\\times y)\n",
        "$$\n",
        "and \n",
        "$$\n",
        "p(y=0) = 0.1\n",
        "$$. \n",
        "\n",
        "TODO:\n",
        "1. For `d=10` and `d=2` plot the scatter plot of the data. Where would you think the SVM hyperplane will lie?\n",
        "\n",
        "2. Now, for each of these d, draw on top of the scatter the seperation hyperplane of the built-in LinearSVC in scikit-learn.\n",
        "\n",
        "To plot the hyperplane, note that the fitted model has the `coef_` and `intercept_` properties.\n",
        "Add also the `accuracy` and the `balanced_accuracy` metrics to the plot title.\n",
        "\n",
        "3. repeat the experiment but now set the `class_weight` to be `balanced`. \n",
        "The \"balanced\" mode uses the values of y to automatically adjust weights inversely proportional to class frequencies in the input data as n_samples / (n_classes * np.bincount(y)).\n",
        "\n",
        "Explain what was the problem and how changing class weight solved it.\n"
      ]
    },
    {
      "cell_type": "markdown",
      "metadata": {
        "id": "pQ8gD9zjYdVq"
      },
      "source": [
        "## Answer #"
      ]
    },
    {
      "cell_type": "code",
      "execution_count": 28,
      "metadata": {
        "id": "-MdH46gcYdVq"
      },
      "outputs": [],
      "source": [
        "# a function make_data which generates a two dimensional dataset with n_samples=1000 where a fraction imbalance=0.1 is\n",
        "# labeled 0 and the rest 1. The distribution of  𝑥  given  𝑦=0  or  𝑦=1  is gaussian with std 0.5 or 2, respectively and that\n",
        "# the centers are at  𝑥1=0  and  𝑥2=−𝑑/2  and  𝑥2=𝑑/2 ,\n",
        "\n",
        "def make_data(d, imbalance=0.1):\n",
        "    n_samples=1000\n",
        "    X = np.zeros((n_samples, 2))\n",
        "    y = np.random.binomial(1, 1-imbalance, n_samples)\n",
        "    size_0 = np.sum(y==0)\n",
        "    size_1 = np.sum(y==1)\n",
        "    X[y==0,0] = np.random.normal(loc=0, scale=0.5, size=size_0)\n",
        "    X[y==1,0] = np.random.normal(loc=0, scale=2, size=size_1)\n",
        "    X[y==0,1] = np.random.normal(loc=-d/2, scale=0.5, size=size_0)\n",
        "    X[y==1,1] = np.random.normal(loc=d/2, scale=2, size=size_1)\n",
        "    return X, y"
      ]
    },
    {
      "cell_type": "markdown",
      "metadata": {
        "id": "O-RXyr-hJQt7"
      },
      "source": [
        "## 3. SVM hyperparameter search\n",
        "Machine learning pipelines in general and models in particular has several hyperparametrs that we currently do not know how to optimize.\n",
        "Instead, researcher use grid search or random search techniques to find the optimal hyper parameters.\n",
        "In this exercise you are requested to compare between default params model and a model which internally optimize for these hyper parameters.\n",
        "Luckily, scikit-learn already has a ready class for doing that called `GridSearchCV`. Use the latter class to check all the combination of the following hyper parameters:\n",
        "* `'multi_class':['ovr', 'crammer_singer']`\n",
        "* `'loss':['hinge', 'squared_hinge']`\n",
        "* `'C': np.logspace(-3,3,10)`\n",
        "\n",
        "Compare the accuracy of the model to a default `LinearSVC` model with no hyper parameter optimization in terms of accuracy.\n",
        "\n",
        "Note: Recall, that hyper parameter search is a learning procedure by itself, thus one should not use test data for the process. \n",
        "\n",
        "To do this you can use the handy `cross_val_score` function.\n",
        "\n",
        "Use the cancer dataset for this question\n"
      ]
    },
    {
      "cell_type": "markdown",
      "metadata": {
        "id": "4MY0eEV3YdVs"
      },
      "source": [
        "## Answer #"
      ]
    },
    {
      "cell_type": "code",
      "execution_count": 38,
      "metadata": {
        "id": "VBJq4bJz394B"
      },
      "outputs": [
        {
          "name": "stdout",
          "output_type": "stream",
          "text": [
            " Results from Grid Search \n",
            "\n",
            " The best estimator across ALL searched params on TRAIN set:\n",
            " Pipeline(steps=[('standardscaler', StandardScaler()),\n",
            "                ('linearsvc',\n",
            "                 LinearSVC(C=0.004641588833612777, loss='hinge', max_iter=50000,\n",
            "                           multi_class='crammer_singer'))])\n",
            "\n",
            " The best score across ALL searched params on TRAIN set:\n",
            " 0.9812585499316006\n",
            "\n",
            " The best parameters across ALL searched params on TRAIN set:\n",
            " {'linearsvc__C': 0.004641588833612777, 'linearsvc__loss': 'hinge', 'linearsvc__multi_class': 'crammer_singer'}\n"
          ]
        }
      ],
      "source": [
        "from sklearn.model_selection import GridSearchCV\n",
        "from sklearn.svm import LinearSVC\n",
        "from sklearn.pipeline import make_pipeline\n",
        "from sklearn.preprocessing import StandardScaler\n",
        "from sklearn.datasets import load_breast_cancer\n",
        "\n",
        "data = load_breast_cancer()\n",
        "X, y = data.data, data.target\n",
        "X_train, X_test, y_train, y_test = train_test_split(X, y, test_size=0.25, random_state=317)\n",
        "\n",
        "clf = make_pipeline(StandardScaler(),\n",
        "                    LinearSVC(max_iter=50000))\n",
        "\n",
        "parameters = {'linearsvc__multi_class':('ovr', 'crammer_singer'), 'linearsvc__loss':('hinge','squared_hinge'), 'linearsvc__C':np.logspace(-3,3,10)}\n",
        "\n",
        "grid_GBC = GridSearchCV(clf, parameters)\n",
        "grid_GBC.fit(X_train, y_train)\n",
        "\n",
        "best_params = grid_GBC.best_params_\n",
        "\n",
        "# sorted(gsc.cv_results_.keys())\n",
        "\n",
        "\n",
        "print(\" Results from Grid Search \" )\n",
        "print(\"\\n The best estimator across ALL searched params on TRAIN set:\\n\",grid_GBC.best_estimator_)\n",
        "print(\"\\n The best score across ALL searched params on TRAIN set:\\n\",grid_GBC.best_score_)\n",
        "print(\"\\n The best parameters across ALL searched params on TRAIN set:\\n\",best_params)\n",
        "\n"
      ]
    },
    {
      "cell_type": "code",
      "execution_count": 39,
      "metadata": {},
      "outputs": [
        {
          "name": "stdout",
          "output_type": "stream",
          "text": [
            "Score on TRAIN set with BASIC params; 0.9953051643192489\n",
            "Score on TEST set with BASIC params; 0.958041958041958\n",
            "\n",
            "Score on TRAIN set with BEST params; 0.9882629107981221\n",
            "Score on TEST set with BEST params; 0.972027972027972\n"
          ]
        }
      ],
      "source": [
        "# X_train, X_test, y_train, y_test = train_test_split(X, y, test_size=0.25, random_state=317)\n",
        "\n",
        "\n",
        "\n",
        "clf = make_pipeline(StandardScaler(),LinearSVC())\n",
        "clf.fit(X_train,y_train)\n",
        "print(f'Score on TRAIN set with BASIC params; {clf.score(X_train, y_train)}')\n",
        "print(f'Score on TEST set with BASIC params; {clf.score(X_test, y_test)}')\n",
        "\n",
        "print('')\n",
        "\n",
        "clf = make_pipeline(StandardScaler(),LinearSVC(loss=best_params['linearsvc__loss'], multi_class=best_params['linearsvc__multi_class'],C=best_params['linearsvc__C']))\n",
        "clf.fit(X_train,y_train)\n",
        "print(f'Score on TRAIN set with BEST params; {clf.score(X_train, y_train)}')\n",
        "print(f'Score on TEST set with BEST params; {clf.score(X_test, y_test)}')\n"
      ]
    },
    {
      "cell_type": "markdown",
      "metadata": {
        "id": "28AoyabLt-d4"
      },
      "source": [
        "## 4. Classifying Checkerboard with SVM (20)\n",
        "In this exercise you will try to choose a kernel for classifying a checkerboard labeled data. \n",
        "\n",
        "* Use the `checkboard` function below to generate\n",
        "your training set (1000 or 2000 samples) and a testing set (as much as you like). As you can see the function generates samples in 2D and label them according to a 3 × 3 checkerboard (obviously linear separation will not do the job here). Python’s scatter in the might come in handy.\n",
        "\n",
        "* Use SVM to find a good linear separation in high dimensional feature space using the polynomial or the Gaussian (RBF) kernel.    You should evaluate for both models the best parameters to use. Explain how do you evalute each model?\n",
        "   - For polynomial kernel, estimate which degree to use\n",
        "   - For RBF, estimate which standard deviation to use\n",
        "   - For both models, also choose which regularization parameter is best to use\n",
        " \n",
        "* For the best model of each kernel, plot a scatter plot of the training patterns (colored by label) and mark the support vectors as well. Which model would you choose to use in this case?\n",
        "\n",
        "* In addition, if you are curious, you can try and think of a way to plot the separating hyper-surface (curve in this case), the margin, and the testing set (to check which points are misclassified)."
      ]
    },
    {
      "cell_type": "code",
      "execution_count": 1,
      "metadata": {
        "id": "dxmQ7J5Lt-d4"
      },
      "outputs": [],
      "source": [
        "import numpy as np\n",
        "def checkerboard(n):\n",
        "    \"\"\"\n",
        "    CHECKERBOARD Sample points from a 3x3 checkerboard in 2D\n",
        "    \"\"\"\n",
        "    X = np.random.rand(n,2); # samples dimension N = 2\n",
        "    l = np.mod(np.ceil(X*3), 2);\n",
        "    y0 = np.logical_xor(l[:,0], l[:,1])\n",
        "    y = y0*2-1 # {-1,+1}\n",
        "    return X, y"
      ]
    },
    {
      "cell_type": "code",
      "execution_count": 50,
      "metadata": {
        "id": "Blm2jX4Bt-d5"
      },
      "outputs": [
        {
          "data": {
            "image/png": "[encoded data removed]",
            "text/plain": [
              "<Figure size 216x216 with 1 Axes>"
            ]
          },
          "metadata": {
            "needs_background": "light"
          },
          "output_type": "display_data"
        }
      ],
      "source": [
        "# Usage sample\n",
        "import matplotlib.pyplot as plt\n",
        "X, y = checkerboard(3000)\n",
        "def plot_checkerboard(X,y):\n",
        "    plt.figure(figsize=(3,3))\n",
        "    plt.scatter(X[y==1,0], X[y==1,1], c='r', s=3)\n",
        "    plt.scatter(X[y==-1,0], X[y==-1,1], c='b', s=3)\n",
        "    plt.xlim([0,1])\n",
        "    plt.ylim([0,1]);\n",
        "    \n",
        "\n",
        "plot_checkerboard(X,y)\n",
        "X_train, X_test, y_train, y_test = train_test_split(X, y, test_size=0.25, random_state=317)"
      ]
    },
    {
      "cell_type": "code",
      "execution_count": 105,
      "metadata": {},
      "outputs": [
        {
          "name": "stdout",
          "output_type": "stream",
          "text": [
            " Results from Grid Search for _poly_:\n",
            "\n",
            " The best estimator across ALL searched params on TRAIN set:\n",
            " Pipeline(steps=[('standardscaler', StandardScaler()),\n",
            "                ('svc', SVC(C=0.31622776601683794, degree=4, kernel='poly'))])\n",
            "\n",
            " The best score across ALL searched params on TRAIN set:\n",
            " 0.8546666666666667\n",
            "\n",
            " The best parameters across ALL searched params on TRAIN set:\n",
            " {'svc__C': 0.31622776601683794, 'svc__degree': 4}\n",
            "\n",
            " Results from Grid Search for _rbf_:\n",
            "\n",
            " The best estimator across ALL searched params on TRAIN set:\n",
            " Pipeline(steps=[('standardscaler', StandardScaler()),\n",
            "                ('svc', SVC(C=100.0, gamma=1))])\n",
            "\n",
            " The best score across ALL searched params on TRAIN set:\n",
            " 0.9890000000000001\n",
            "\n",
            " The best parameters across ALL searched params on TRAIN set:\n",
            " {'svc__C': 100.0, 'svc__gamma': 1}\n",
            "\n"
          ]
        }
      ],
      "source": [
        "import numpy as np\n",
        "from sklearn.pipeline import make_pipeline\n",
        "from sklearn.preprocessing import StandardScaler\n",
        "from sklearn.svm import SVC\n",
        "from sklearn.model_selection import GridSearchCV\n",
        "\n",
        "# kernel{‘linear’, ‘poly’, ‘rbf’, ‘sigmoid’, ‘precomputed’} or callable, default=’rbf’\n",
        "# options = [['poly', {'degree':range(2,5),'C': np.logspace(-3,2,5)}],['rbf',{'gamma': [1, 0.1, 0.01, 0.001],'C': np.logspace(-3,2,5)}]]\n",
        "X_train, y_train = checkerboard(3000)\n",
        "options = [['poly', {'svc__degree':range(2,5),'svc__C': np.logspace(-3,2,5)}],['rbf',{'svc__gamma': [1, 0.1, 0.01, 0.001],'svc__C': np.logspace(-3,2,5)}]]\n",
        "\n",
        "for i in [0,1]:\n",
        "    kernel = options[i][0]\n",
        "    parameters = options[i][1]\n",
        "    clf = make_pipeline(StandardScaler(), SVC(kernel=kernel))\n",
        "    grid_GBC = GridSearchCV(clf, parameters)\n",
        "    grid_GBC.fit(X_train, y_train)\n",
        "\n",
        "    best_params = grid_GBC.best_params_\n",
        "\n",
        "    # sorted(gsc.cv_results_.keys())\n",
        "\n",
        "    print(f\" Results from Grid Search for _{kernel}_:\" )\n",
        "    print(\"\\n The best estimator across ALL searched params on TRAIN set:\\n\",grid_GBC.best_estimator_)\n",
        "    print(\"\\n The best score across ALL searched params on TRAIN set:\\n\",grid_GBC.best_score_)\n",
        "    print(\"\\n The best parameters across ALL searched params on TRAIN set:\\n\",best_params)\n",
        "\n",
        "    print('')\n"
      ]
    },
    {
      "cell_type": "code",
      "execution_count": 106,
      "metadata": {},
      "outputs": [
        {
          "data": {
            "image/png": "[encoded data removed]",
            "text/plain": [
              "<Figure size 216x216 with 1 Axes>"
            ]
          },
          "metadata": {
            "needs_background": "light"
          },
          "output_type": "display_data"
        }
      ],
      "source": [
        "from sklearn.metrics import classification_report\n",
        "\n",
        "X_test, y_test = checkerboard(3000)\n",
        "\n",
        "svc = SVC(C=0.31622776601683794, degree=4, kernel='poly')\n",
        "clf = make_pipeline(StandardScaler(), svc)\n",
        "clf.fit(X_train, y_train)\n",
        "clf.score(X_test, y_test)\n",
        "y_pred = clf.predict(X_test)\n",
        "plot_checkerboard(X_test,y_pred)\n",
        "\n",
        "# cv = svc.support_vectors_\n",
        "# plt.scatter(cv[:,0],cv[:,1],c='g',)\n",
        "# print(svc.support_vectors_)"
      ]
    },
    {
      "cell_type": "code",
      "execution_count": 107,
      "metadata": {},
      "outputs": [
        {
          "data": {
            "image/png": "[encoded data removed]",
            "text/plain": [
              "<Figure size 216x216 with 1 Axes>"
            ]
          },
          "metadata": {
            "needs_background": "light"
          },
          "output_type": "display_data"
        }
      ],
      "source": [
        "svc = SVC(C=100.0, gamma=1, kernel='rbf')\n",
        "clf = make_pipeline(StandardScaler(), svc)\n",
        "clf.fit(X_train, y_train)\n",
        "clf.score(X_test, y_test)\n",
        "y_pred = clf.predict(X_test)\n",
        "plot_checkerboard(X_test,y_pred)\n",
        "\n",
        "# cv = svc.support_vectors_\n",
        "# plt.scatter(cv[:,0],cv[:,1],c='g',)\n",
        "# print(svc.support_vectors_)"
      ]
    },
    {
      "attachments": {},
      "cell_type": "markdown",
      "metadata": {},
      "source": [
        "### Answer:\n",
        "\n",
        "The model with Gaussian kernel did a better job in our case."
      ]
    },
    {
      "cell_type": "markdown",
      "metadata": {
        "id": "N-5bHUGQitCY"
      },
      "source": [
        "## Optional Reading Materials\n",
        "1. Shalev-Shwartz, S., Singer, Y., Srebro, N., & Cotter, A. (2011). Pegasos: Primal estimated sub-gradient solver for svm. Mathematical programming, 127(1), 3-30. [[pdf](http://www.ee.oulu.fi/research/imag/courses/Vedaldi/ShalevSiSr07.pdf)]\n",
        "\n",
        "2. Schölkopf, B., Williamson, R. C., Smola, A. J., Shawe-Taylor, J., & Platt, J. C. (2000). Support vector method for novelty detection. In Advances in neural information processing systems (pp. 582-588). [[pdf](http://papers.nips.cc/paper/1723-support-vector-method-for-novelty-detection.pdf)]\n",
        "\n",
        "3. Livni, R., Crammer, K. & Globerson, A.. (2012). A Simple Geometric Interpretation of SVM using Stochastic Adversaries. Proceedings of the Fifteenth International Conference on Artificial Intelligence and Statistics, in PMLR 22:722-730. [[pdf](http://proceedings.mlr.press/v22/livni12/livni12.pdf)]\n",
        "\n"
      ]
    },
    {
      "cell_type": "code",
      "execution_count": null,
      "metadata": {
        "id": "YACLgVEMt-d7"
      },
      "outputs": [],
      "source": []
    }
  ],
  "metadata": {
    "colab": {
      "provenance": []
    },
    "kernelspec": {
      "display_name": "Python 3",
      "language": "python",
      "name": "python3"
    },
    "language_info": {
      "codemirror_mode": {
        "name": "ipython",
        "version": 3
      },
      "file_extension": ".py",
      "mimetype": "text/x-python",
      "name": "python",
      "nbconvert_exporter": "python",
      "pygments_lexer": "ipython3",
      "version": "3.7.3"
    },
    "vscode": {
      "interpreter": {
        "hash": "a6d966dc6d3bf27858c96a0cca082416ca45510cdfd9e0cf25e4971a54ae9926"
      }
    }
  },
  "nbformat": 4,
  "nbformat_minor": 0
}
