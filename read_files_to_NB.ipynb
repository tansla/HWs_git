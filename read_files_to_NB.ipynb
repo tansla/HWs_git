{
  "nbformat": 4,
  "nbformat_minor": 0,
  "metadata": {
    "colab": {
      "provenance": [],
      "include_colab_link": true
    },
    "kernelspec": {
      "name": "python3",
      "display_name": "Python 3"
    },
    "language_info": {
      "name": "python"
    }
  },
  "cells": [
    {
      "cell_type": "markdown",
      "metadata": {
        "id": "view-in-github",
        "colab_type": "text"
      },
      "source": [
        "<a href=\"https://colab.research.google.com/github/tansla/HWs_git/blob/master/read_files_to_NB.ipynb\" target=\"_parent\"><img src=\"https://colab.research.google.com/assets/colab-badge.svg\" alt=\"Open In Colab\"/></a>"
      ]
    },
    {
      "cell_type": "code",
      "source": [
        "import os\n",
        "import numpy as np\n",
        "from PIL import Image\n",
        "from google.colab import drive\n",
        "\n",
        "\n",
        "#COLAB LOCAL STORAGE\n",
        "path = \"/content/images/\"\n",
        "#OR\n",
        "# LOCAL DESKTOP STORGAE\n",
        "path = \"/Users/aviad/bla/bla\"\n",
        "#OR\n",
        "#DRIVE STORGAE BY MOUNT\n",
        "drive.mount('/content/drive/')\n",
        "path = '/content/drive/My Drive/DIRECTORY_NAME'\n",
        "\n",
        "images = []\n",
        "labels = []\n",
        "\n",
        "for file in os.listdir(path):\n",
        "    if file.endswith(\".jpg\"):\n",
        "        image = Image.open(os.path.join(path, file)).resize((256, 256))\n",
        "        image = np.array(image)\n",
        "        images.append(image)\n",
        "        labels.append(file)\n",
        "\n",
        "images = np.array(images)\n",
        "labels = np.array(labels)\n",
        "\n",
        "print(\"Images shape:\", images.shape)\n",
        "print(\"Labels shape:\", labels.shape)\n"
      ],
      "metadata": {
        "colab": {
          "base_uri": "https://localhost:8080/"
        },
        "id": "icFROQiAQSAI",
        "outputId": "43f7a318-3033-4fcf-9f30-10b9cab1da36"
      },
      "execution_count": null,
      "outputs": [
        {
          "output_type": "stream",
          "name": "stdout",
          "text": [
            "Images shape: (1, 256, 256, 3)\n",
            "Labels shape: (1,)\n"
          ]
        }
      ]
    }
  ]
}