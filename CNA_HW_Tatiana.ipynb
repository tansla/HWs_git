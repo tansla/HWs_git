{
  "nbformat": 4,
  "nbformat_minor": 0,
  "metadata": {
    "colab": {
      "provenance": [],
      "include_colab_link": true
    },
    "kernelspec": {
      "display_name": "Python 3",
      "language": "python",
      "name": "python3"
    },
    "language_info": {
      "codemirror_mode": {
        "name": "ipython",
        "version": 3
      },
      "file_extension": ".py",
      "mimetype": "text/x-python",
      "name": "python",
      "nbconvert_exporter": "python",
      "pygments_lexer": "ipython3",
      "version": "3.8.8"
    },
    "widgets": {
      "application/vnd.jupyter.widget-state+json": {
        "d52b5f668285495d8405197aea1163df": {
          "model_module": "@jupyter-widgets/controls",
          "model_name": "HBoxModel",
          "model_module_version": "1.5.0",
          "state": {
            "_dom_classes": [],
            "_model_module": "@jupyter-widgets/controls",
            "_model_module_version": "1.5.0",
            "_model_name": "HBoxModel",
            "_view_count": null,
            "_view_module": "@jupyter-widgets/controls",
            "_view_module_version": "1.5.0",
            "_view_name": "HBoxView",
            "box_style": "",
            "children": [
              "IPY_MODEL_68e93d6114c2433db46b35899574f38d",
              "IPY_MODEL_df81d00730c947af8e0005b7d92d0cae",
              "IPY_MODEL_ccbe779c56754217a228062a91276d94"
            ],
            "layout": "IPY_MODEL_f3cedb8df7e449868a92f9fffdacdd64"
          }
        },
        "68e93d6114c2433db46b35899574f38d": {
          "model_module": "@jupyter-widgets/controls",
          "model_name": "HTMLModel",
          "model_module_version": "1.5.0",
          "state": {
            "_dom_classes": [],
            "_model_module": "@jupyter-widgets/controls",
            "_model_module_version": "1.5.0",
            "_model_name": "HTMLModel",
            "_view_count": null,
            "_view_module": "@jupyter-widgets/controls",
            "_view_module_version": "1.5.0",
            "_view_name": "HTMLView",
            "description": "",
            "description_tooltip": null,
            "layout": "IPY_MODEL_5e3d07e3209e464abf3030e69b728c35",
            "placeholder": "​",
            "style": "IPY_MODEL_d19a485d4f474689ab279bd952bf0660",
            "value": "100%"
          }
        },
        "df81d00730c947af8e0005b7d92d0cae": {
          "model_module": "@jupyter-widgets/controls",
          "model_name": "FloatProgressModel",
          "model_module_version": "1.5.0",
          "state": {
            "_dom_classes": [],
            "_model_module": "@jupyter-widgets/controls",
            "_model_module_version": "1.5.0",
            "_model_name": "FloatProgressModel",
            "_view_count": null,
            "_view_module": "@jupyter-widgets/controls",
            "_view_module_version": "1.5.0",
            "_view_name": "ProgressView",
            "bar_style": "success",
            "description": "",
            "description_tooltip": null,
            "layout": "IPY_MODEL_54b29bb7900247a1a66f070acd6e4f18",
            "max": 49,
            "min": 0,
            "orientation": "horizontal",
            "style": "IPY_MODEL_af81c5d3fec94a5699952254285df63a",
            "value": 49
          }
        },
        "ccbe779c56754217a228062a91276d94": {
          "model_module": "@jupyter-widgets/controls",
          "model_name": "HTMLModel",
          "model_module_version": "1.5.0",
          "state": {
            "_dom_classes": [],
            "_model_module": "@jupyter-widgets/controls",
            "_model_module_version": "1.5.0",
            "_model_name": "HTMLModel",
            "_view_count": null,
            "_view_module": "@jupyter-widgets/controls",
            "_view_module_version": "1.5.0",
            "_view_name": "HTMLView",
            "description": "",
            "description_tooltip": null,
            "layout": "IPY_MODEL_5c584e477288402983885cc4c4574dc2",
            "placeholder": "​",
            "style": "IPY_MODEL_204842405f4f4886b854b6f3117bde48",
            "value": " 49/49 [00:06&lt;00:00,  5.89it/s]"
          }
        },
        "f3cedb8df7e449868a92f9fffdacdd64": {
          "model_module": "@jupyter-widgets/base",
          "model_name": "LayoutModel",
          "model_module_version": "1.2.0",
          "state": {
            "_model_module": "@jupyter-widgets/base",
            "_model_module_version": "1.2.0",
            "_model_name": "LayoutModel",
            "_view_count": null,
            "_view_module": "@jupyter-widgets/base",
            "_view_module_version": "1.2.0",
            "_view_name": "LayoutView",
            "align_content": null,
            "align_items": null,
            "align_self": null,
            "border": null,
            "bottom": null,
            "display": null,
            "flex": null,
            "flex_flow": null,
            "grid_area": null,
            "grid_auto_columns": null,
            "grid_auto_flow": null,
            "grid_auto_rows": null,
            "grid_column": null,
            "grid_gap": null,
            "grid_row": null,
            "grid_template_areas": null,
            "grid_template_columns": null,
            "grid_template_rows": null,
            "height": null,
            "justify_content": null,
            "justify_items": null,
            "left": null,
            "margin": null,
            "max_height": null,
            "max_width": null,
            "min_height": null,
            "min_width": null,
            "object_fit": null,
            "object_position": null,
            "order": null,
            "overflow": null,
            "overflow_x": null,
            "overflow_y": null,
            "padding": null,
            "right": null,
            "top": null,
            "visibility": null,
            "width": null
          }
        },
        "5e3d07e3209e464abf3030e69b728c35": {
          "model_module": "@jupyter-widgets/base",
          "model_name": "LayoutModel",
          "model_module_version": "1.2.0",
          "state": {
            "_model_module": "@jupyter-widgets/base",
            "_model_module_version": "1.2.0",
            "_model_name": "LayoutModel",
            "_view_count": null,
            "_view_module": "@jupyter-widgets/base",
            "_view_module_version": "1.2.0",
            "_view_name": "LayoutView",
            "align_content": null,
            "align_items": null,
            "align_self": null,
            "border": null,
            "bottom": null,
            "display": null,
            "flex": null,
            "flex_flow": null,
            "grid_area": null,
            "grid_auto_columns": null,
            "grid_auto_flow": null,
            "grid_auto_rows": null,
            "grid_column": null,
            "grid_gap": null,
            "grid_row": null,
            "grid_template_areas": null,
            "grid_template_columns": null,
            "grid_template_rows": null,
            "height": null,
            "justify_content": null,
            "justify_items": null,
            "left": null,
            "margin": null,
            "max_height": null,
            "max_width": null,
            "min_height": null,
            "min_width": null,
            "object_fit": null,
            "object_position": null,
            "order": null,
            "overflow": null,
            "overflow_x": null,
            "overflow_y": null,
            "padding": null,
            "right": null,
            "top": null,
            "visibility": null,
            "width": null
          }
        },
        "d19a485d4f474689ab279bd952bf0660": {
          "model_module": "@jupyter-widgets/controls",
          "model_name": "DescriptionStyleModel",
          "model_module_version": "1.5.0",
          "state": {
            "_model_module": "@jupyter-widgets/controls",
            "_model_module_version": "1.5.0",
            "_model_name": "DescriptionStyleModel",
            "_view_count": null,
            "_view_module": "@jupyter-widgets/base",
            "_view_module_version": "1.2.0",
            "_view_name": "StyleView",
            "description_width": ""
          }
        },
        "54b29bb7900247a1a66f070acd6e4f18": {
          "model_module": "@jupyter-widgets/base",
          "model_name": "LayoutModel",
          "model_module_version": "1.2.0",
          "state": {
            "_model_module": "@jupyter-widgets/base",
            "_model_module_version": "1.2.0",
            "_model_name": "LayoutModel",
            "_view_count": null,
            "_view_module": "@jupyter-widgets/base",
            "_view_module_version": "1.2.0",
            "_view_name": "LayoutView",
            "align_content": null,
            "align_items": null,
            "align_self": null,
            "border": null,
            "bottom": null,
            "display": null,
            "flex": null,
            "flex_flow": null,
            "grid_area": null,
            "grid_auto_columns": null,
            "grid_auto_flow": null,
            "grid_auto_rows": null,
            "grid_column": null,
            "grid_gap": null,
            "grid_row": null,
            "grid_template_areas": null,
            "grid_template_columns": null,
            "grid_template_rows": null,
            "height": null,
            "justify_content": null,
            "justify_items": null,
            "left": null,
            "margin": null,
            "max_height": null,
            "max_width": null,
            "min_height": null,
            "min_width": null,
            "object_fit": null,
            "object_position": null,
            "order": null,
            "overflow": null,
            "overflow_x": null,
            "overflow_y": null,
            "padding": null,
            "right": null,
            "top": null,
            "visibility": null,
            "width": null
          }
        },
        "af81c5d3fec94a5699952254285df63a": {
          "model_module": "@jupyter-widgets/controls",
          "model_name": "ProgressStyleModel",
          "model_module_version": "1.5.0",
          "state": {
            "_model_module": "@jupyter-widgets/controls",
            "_model_module_version": "1.5.0",
            "_model_name": "ProgressStyleModel",
            "_view_count": null,
            "_view_module": "@jupyter-widgets/base",
            "_view_module_version": "1.2.0",
            "_view_name": "StyleView",
            "bar_color": null,
            "description_width": ""
          }
        },
        "5c584e477288402983885cc4c4574dc2": {
          "model_module": "@jupyter-widgets/base",
          "model_name": "LayoutModel",
          "model_module_version": "1.2.0",
          "state": {
            "_model_module": "@jupyter-widgets/base",
            "_model_module_version": "1.2.0",
            "_model_name": "LayoutModel",
            "_view_count": null,
            "_view_module": "@jupyter-widgets/base",
            "_view_module_version": "1.2.0",
            "_view_name": "LayoutView",
            "align_content": null,
            "align_items": null,
            "align_self": null,
            "border": null,
            "bottom": null,
            "display": null,
            "flex": null,
            "flex_flow": null,
            "grid_area": null,
            "grid_auto_columns": null,
            "grid_auto_flow": null,
            "grid_auto_rows": null,
            "grid_column": null,
            "grid_gap": null,
            "grid_row": null,
            "grid_template_areas": null,
            "grid_template_columns": null,
            "grid_template_rows": null,
            "height": null,
            "justify_content": null,
            "justify_items": null,
            "left": null,
            "margin": null,
            "max_height": null,
            "max_width": null,
            "min_height": null,
            "min_width": null,
            "object_fit": null,
            "object_position": null,
            "order": null,
            "overflow": null,
            "overflow_x": null,
            "overflow_y": null,
            "padding": null,
            "right": null,
            "top": null,
            "visibility": null,
            "width": null
          }
        },
        "204842405f4f4886b854b6f3117bde48": {
          "model_module": "@jupyter-widgets/controls",
          "model_name": "DescriptionStyleModel",
          "model_module_version": "1.5.0",
          "state": {
            "_model_module": "@jupyter-widgets/controls",
            "_model_module_version": "1.5.0",
            "_model_name": "DescriptionStyleModel",
            "_view_count": null,
            "_view_module": "@jupyter-widgets/base",
            "_view_module_version": "1.2.0",
            "_view_name": "StyleView",
            "description_width": ""
          }
        }
      }
    }
  },
  "cells": [
    {
      "cell_type": "markdown",
      "metadata": {
        "id": "view-in-github",
        "colab_type": "text"
      },
      "source": [
        "<a href=\"https://colab.research.google.com/github/tansla/HWs_git/blob/master/CNA_HW_Tatiana.ipynb\" target=\"_parent\"><img src=\"https://colab.research.google.com/assets/colab-badge.svg\" alt=\"Open In Colab\"/></a>"
      ]
    },
    {
      "cell_type": "markdown",
      "metadata": {
        "id": "vbxKQz0Xbrj1"
      },
      "source": [
        "# CNA Homework"
      ]
    },
    {
      "cell_type": "markdown",
      "metadata": {
        "id": "QJBzPa2gb6_D"
      },
      "source": [
        "## Part 1"
      ]
    },
    {
      "cell_type": "markdown",
      "metadata": {
        "id": "NvzL6tPHcGwX"
      },
      "source": [
        "**Reddit Networks**"
      ]
    },
    {
      "cell_type": "markdown",
      "metadata": {
        "id": "Squh54F8ayJs"
      },
      "source": [
        "Using the [Reddit networks dataset](http://dynamics.cs.washington.edu/nobackup/reddit/), select the subreddit of your favorite TV show (or you can choose any other dataset, containing the network data). Answer the following questions:"
      ]
    },
    {
      "cell_type": "code",
      "metadata": {
        "id": "zSEbCtBE3_g-",
        "outputId": "4833e62b-d16d-434b-e8df-5e5b49301ae5",
        "colab": {
          "base_uri": "https://localhost:8080/"
        }
      },
      "source": [
        "!pip install turicreate\n",
        "!pip install --upgrade scipy networkx"
      ],
      "execution_count": 52,
      "outputs": [
        {
          "output_type": "stream",
          "name": "stdout",
          "text": [
            "Looking in indexes: https://pypi.org/simple, https://us-python.pkg.dev/colab-wheels/public/simple/\n",
            "Requirement already satisfied: turicreate in /usr/local/lib/python3.8/dist-packages (6.4.1)\n",
            "Requirement already satisfied: six>=1.10.0 in /usr/local/lib/python3.8/dist-packages (from turicreate) (1.15.0)\n",
            "Requirement already satisfied: decorator>=4.0.9 in /usr/local/lib/python3.8/dist-packages (from turicreate) (4.4.2)\n",
            "Requirement already satisfied: pillow>=5.2.0 in /usr/local/lib/python3.8/dist-packages (from turicreate) (7.1.2)\n",
            "Requirement already satisfied: pandas>=0.23.2 in /usr/local/lib/python3.8/dist-packages (from turicreate) (1.3.5)\n",
            "Requirement already satisfied: numba<0.51.0 in /usr/local/lib/python3.8/dist-packages (from turicreate) (0.50.1)\n",
            "Requirement already satisfied: resampy==0.2.1 in /usr/local/lib/python3.8/dist-packages (from turicreate) (0.2.1)\n",
            "Requirement already satisfied: coremltools==4.0b3 in /usr/local/lib/python3.8/dist-packages (from turicreate) (4.0b3)\n",
            "Requirement already satisfied: prettytable==0.7.2 in /usr/local/lib/python3.8/dist-packages (from turicreate) (0.7.2)\n",
            "Requirement already satisfied: requests>=2.9.1 in /usr/local/lib/python3.8/dist-packages (from turicreate) (2.25.1)\n",
            "Requirement already satisfied: tensorflow>=2.0.0 in /usr/local/lib/python3.8/dist-packages (from turicreate) (2.9.2)\n",
            "Requirement already satisfied: numpy in /usr/local/lib/python3.8/dist-packages (from turicreate) (1.21.6)\n",
            "Requirement already satisfied: scipy>=1.1.0 in /usr/local/lib/python3.8/dist-packages (from turicreate) (1.10.0)\n",
            "Requirement already satisfied: attr in /usr/local/lib/python3.8/dist-packages (from coremltools==4.0b3->turicreate) (0.3.2)\n",
            "Requirement already satisfied: tqdm in /usr/local/lib/python3.8/dist-packages (from coremltools==4.0b3->turicreate) (4.64.1)\n",
            "Requirement already satisfied: protobuf>=3.1.0 in /usr/local/lib/python3.8/dist-packages (from coremltools==4.0b3->turicreate) (3.19.6)\n",
            "Requirement already satisfied: attrs in /usr/local/lib/python3.8/dist-packages (from coremltools==4.0b3->turicreate) (22.2.0)\n",
            "Requirement already satisfied: sympy in /usr/local/lib/python3.8/dist-packages (from coremltools==4.0b3->turicreate) (1.7.1)\n",
            "Requirement already satisfied: setuptools in /usr/local/lib/python3.8/dist-packages (from numba<0.51.0->turicreate) (57.4.0)\n",
            "Requirement already satisfied: llvmlite<0.34,>=0.33.0.dev0 in /usr/local/lib/python3.8/dist-packages (from numba<0.51.0->turicreate) (0.33.0)\n",
            "Requirement already satisfied: pytz>=2017.3 in /usr/local/lib/python3.8/dist-packages (from pandas>=0.23.2->turicreate) (2022.7)\n",
            "Requirement already satisfied: python-dateutil>=2.7.3 in /usr/local/lib/python3.8/dist-packages (from pandas>=0.23.2->turicreate) (2.8.2)\n",
            "Requirement already satisfied: chardet<5,>=3.0.2 in /usr/local/lib/python3.8/dist-packages (from requests>=2.9.1->turicreate) (4.0.0)\n",
            "Requirement already satisfied: idna<3,>=2.5 in /usr/local/lib/python3.8/dist-packages (from requests>=2.9.1->turicreate) (2.10)\n",
            "Requirement already satisfied: urllib3<1.27,>=1.21.1 in /usr/local/lib/python3.8/dist-packages (from requests>=2.9.1->turicreate) (1.24.3)\n",
            "Requirement already satisfied: certifi>=2017.4.17 in /usr/local/lib/python3.8/dist-packages (from requests>=2.9.1->turicreate) (2022.12.7)\n",
            "Requirement already satisfied: typing-extensions>=3.6.6 in /usr/local/lib/python3.8/dist-packages (from tensorflow>=2.0.0->turicreate) (4.4.0)\n",
            "Requirement already satisfied: libclang>=13.0.0 in /usr/local/lib/python3.8/dist-packages (from tensorflow>=2.0.0->turicreate) (15.0.6.1)\n",
            "Requirement already satisfied: tensorboard<2.10,>=2.9 in /usr/local/lib/python3.8/dist-packages (from tensorflow>=2.0.0->turicreate) (2.9.1)\n",
            "Requirement already satisfied: h5py>=2.9.0 in /usr/local/lib/python3.8/dist-packages (from tensorflow>=2.0.0->turicreate) (3.1.0)\n",
            "Requirement already satisfied: absl-py>=1.0.0 in /usr/local/lib/python3.8/dist-packages (from tensorflow>=2.0.0->turicreate) (1.3.0)\n",
            "Requirement already satisfied: tensorflow-estimator<2.10.0,>=2.9.0rc0 in /usr/local/lib/python3.8/dist-packages (from tensorflow>=2.0.0->turicreate) (2.9.0)\n",
            "Requirement already satisfied: opt-einsum>=2.3.2 in /usr/local/lib/python3.8/dist-packages (from tensorflow>=2.0.0->turicreate) (3.3.0)\n",
            "Requirement already satisfied: google-pasta>=0.1.1 in /usr/local/lib/python3.8/dist-packages (from tensorflow>=2.0.0->turicreate) (0.2.0)\n",
            "Requirement already satisfied: flatbuffers<2,>=1.12 in /usr/local/lib/python3.8/dist-packages (from tensorflow>=2.0.0->turicreate) (1.12)\n",
            "Requirement already satisfied: grpcio<2.0,>=1.24.3 in /usr/local/lib/python3.8/dist-packages (from tensorflow>=2.0.0->turicreate) (1.51.1)\n",
            "Requirement already satisfied: packaging in /usr/local/lib/python3.8/dist-packages (from tensorflow>=2.0.0->turicreate) (21.3)\n",
            "Requirement already satisfied: keras-preprocessing>=1.1.1 in /usr/local/lib/python3.8/dist-packages (from tensorflow>=2.0.0->turicreate) (1.1.2)\n",
            "Requirement already satisfied: wrapt>=1.11.0 in /usr/local/lib/python3.8/dist-packages (from tensorflow>=2.0.0->turicreate) (1.14.1)\n",
            "Requirement already satisfied: keras<2.10.0,>=2.9.0rc0 in /usr/local/lib/python3.8/dist-packages (from tensorflow>=2.0.0->turicreate) (2.9.0)\n",
            "Requirement already satisfied: astunparse>=1.6.0 in /usr/local/lib/python3.8/dist-packages (from tensorflow>=2.0.0->turicreate) (1.6.3)\n",
            "Requirement already satisfied: gast<=0.4.0,>=0.2.1 in /usr/local/lib/python3.8/dist-packages (from tensorflow>=2.0.0->turicreate) (0.4.0)\n",
            "Requirement already satisfied: termcolor>=1.1.0 in /usr/local/lib/python3.8/dist-packages (from tensorflow>=2.0.0->turicreate) (2.2.0)\n",
            "Requirement already satisfied: tensorflow-io-gcs-filesystem>=0.23.1 in /usr/local/lib/python3.8/dist-packages (from tensorflow>=2.0.0->turicreate) (0.29.0)\n",
            "Requirement already satisfied: wheel<1.0,>=0.23.0 in /usr/local/lib/python3.8/dist-packages (from astunparse>=1.6.0->tensorflow>=2.0.0->turicreate) (0.38.4)\n",
            "Requirement already satisfied: tensorboard-data-server<0.7.0,>=0.6.0 in /usr/local/lib/python3.8/dist-packages (from tensorboard<2.10,>=2.9->tensorflow>=2.0.0->turicreate) (0.6.1)\n",
            "Requirement already satisfied: tensorboard-plugin-wit>=1.6.0 in /usr/local/lib/python3.8/dist-packages (from tensorboard<2.10,>=2.9->tensorflow>=2.0.0->turicreate) (1.8.1)\n",
            "Requirement already satisfied: google-auth-oauthlib<0.5,>=0.4.1 in /usr/local/lib/python3.8/dist-packages (from tensorboard<2.10,>=2.9->tensorflow>=2.0.0->turicreate) (0.4.6)\n",
            "Requirement already satisfied: werkzeug>=1.0.1 in /usr/local/lib/python3.8/dist-packages (from tensorboard<2.10,>=2.9->tensorflow>=2.0.0->turicreate) (1.0.1)\n",
            "Requirement already satisfied: markdown>=2.6.8 in /usr/local/lib/python3.8/dist-packages (from tensorboard<2.10,>=2.9->tensorflow>=2.0.0->turicreate) (3.4.1)\n",
            "Requirement already satisfied: google-auth<3,>=1.6.3 in /usr/local/lib/python3.8/dist-packages (from tensorboard<2.10,>=2.9->tensorflow>=2.0.0->turicreate) (2.16.0)\n",
            "Requirement already satisfied: pyparsing!=3.0.5,>=2.0.2 in /usr/local/lib/python3.8/dist-packages (from packaging->tensorflow>=2.0.0->turicreate) (3.0.9)\n",
            "Requirement already satisfied: mpmath>=0.19 in /usr/local/lib/python3.8/dist-packages (from sympy->coremltools==4.0b3->turicreate) (1.2.1)\n",
            "Requirement already satisfied: pyasn1-modules>=0.2.1 in /usr/local/lib/python3.8/dist-packages (from google-auth<3,>=1.6.3->tensorboard<2.10,>=2.9->tensorflow>=2.0.0->turicreate) (0.2.8)\n",
            "Requirement already satisfied: cachetools<6.0,>=2.0.0 in /usr/local/lib/python3.8/dist-packages (from google-auth<3,>=1.6.3->tensorboard<2.10,>=2.9->tensorflow>=2.0.0->turicreate) (5.2.1)\n",
            "Requirement already satisfied: rsa<5,>=3.1.4 in /usr/local/lib/python3.8/dist-packages (from google-auth<3,>=1.6.3->tensorboard<2.10,>=2.9->tensorflow>=2.0.0->turicreate) (4.9)\n",
            "Requirement already satisfied: requests-oauthlib>=0.7.0 in /usr/local/lib/python3.8/dist-packages (from google-auth-oauthlib<0.5,>=0.4.1->tensorboard<2.10,>=2.9->tensorflow>=2.0.0->turicreate) (1.3.1)\n",
            "Requirement already satisfied: importlib-metadata>=4.4 in /usr/local/lib/python3.8/dist-packages (from markdown>=2.6.8->tensorboard<2.10,>=2.9->tensorflow>=2.0.0->turicreate) (6.0.0)\n",
            "Requirement already satisfied: zipp>=0.5 in /usr/local/lib/python3.8/dist-packages (from importlib-metadata>=4.4->markdown>=2.6.8->tensorboard<2.10,>=2.9->tensorflow>=2.0.0->turicreate) (3.11.0)\n",
            "Requirement already satisfied: pyasn1<0.5.0,>=0.4.6 in /usr/local/lib/python3.8/dist-packages (from pyasn1-modules>=0.2.1->google-auth<3,>=1.6.3->tensorboard<2.10,>=2.9->tensorflow>=2.0.0->turicreate) (0.4.8)\n",
            "Requirement already satisfied: oauthlib>=3.0.0 in /usr/local/lib/python3.8/dist-packages (from requests-oauthlib>=0.7.0->google-auth-oauthlib<0.5,>=0.4.1->tensorboard<2.10,>=2.9->tensorflow>=2.0.0->turicreate) (3.2.2)\n",
            "Looking in indexes: https://pypi.org/simple, https://us-python.pkg.dev/colab-wheels/public/simple/\n",
            "Requirement already satisfied: scipy in /usr/local/lib/python3.8/dist-packages (1.10.0)\n",
            "Requirement already satisfied: networkx in /usr/local/lib/python3.8/dist-packages (3.0)\n",
            "Requirement already satisfied: numpy<1.27.0,>=1.19.5 in /usr/local/lib/python3.8/dist-packages (from scipy) (1.21.6)\n"
          ]
        }
      ]
    },
    {
      "cell_type": "code",
      "metadata": {
        "colab": {
          "base_uri": "https://localhost:8080/"
        },
        "id": "m1vZAKYMcO97",
        "outputId": "367bf542-efc8-455d-db46-0ed9c68c4c16"
      },
      "source": [
        "!wget http://dynamics.cs.washington.edu/nobackup/reddit/theoffice.tar.gz"
      ],
      "execution_count": 53,
      "outputs": [
        {
          "output_type": "stream",
          "name": "stdout",
          "text": [
            "--2023-02-02 10:01:07--  http://dynamics.cs.washington.edu/nobackup/reddit/theoffice.tar.gz\n",
            "Resolving dynamics.cs.washington.edu (dynamics.cs.washington.edu)... 128.208.3.120, 2607:4000:200:12::78\n",
            "Connecting to dynamics.cs.washington.edu (dynamics.cs.washington.edu)|128.208.3.120|:80... connected.\n",
            "HTTP request sent, awaiting response... 200 OK\n",
            "Length: 3550974 (3.4M) [application/x-gzip]\n",
            "Saving to: ‘theoffice.tar.gz.1’\n",
            "\n",
            "theoffice.tar.gz.1  100%[===================>]   3.39M  9.86MB/s    in 0.3s    \n",
            "\n",
            "2023-02-02 10:01:08 (9.86 MB/s) - ‘theoffice.tar.gz.1’ saved [3550974/3550974]\n",
            "\n"
          ]
        }
      ]
    },
    {
      "cell_type": "code",
      "metadata": {
        "id": "9r-PmIIJtJWH"
      },
      "source": [
        "import tarfile\n",
        "fname = 'theoffice.tar.gz'\n",
        "tar = tarfile.open(fname, \"r:gz\")\n",
        "tar.extractall(path=\"./data/\")\n",
        "tar.close()"
      ],
      "execution_count": 54,
      "outputs": []
    },
    {
      "cell_type": "code",
      "metadata": {
        "colab": {
          "base_uri": "https://localhost:8080/",
          "height": 49,
          "referenced_widgets": [
            "d52b5f668285495d8405197aea1163df",
            "68e93d6114c2433db46b35899574f38d",
            "df81d00730c947af8e0005b7d92d0cae",
            "ccbe779c56754217a228062a91276d94",
            "f3cedb8df7e449868a92f9fffdacdd64",
            "5e3d07e3209e464abf3030e69b728c35",
            "d19a485d4f474689ab279bd952bf0660",
            "54b29bb7900247a1a66f070acd6e4f18",
            "af81c5d3fec94a5699952254285df63a",
            "5c584e477288402983885cc4c4574dc2",
            "204842405f4f4886b854b6f3117bde48"
          ]
        },
        "id": "C0d7LCg83_hB",
        "outputId": "cac17c8b-0590-4854-bf57-9d0d9ae06416"
      },
      "source": [
        "import os\n",
        "import turicreate as tc \n",
        "from tqdm.auto import tqdm\n",
        "import matplotlib.pyplot as plt\n",
        "\n",
        "g = tc.SGraph()\n",
        "graphs_dir = 'data'\n",
        "sframes_paths = [graphs_dir +'/' + s for s in os.listdir(graphs_dir)]\n",
        "for folder in tqdm(sframes_paths):\n",
        "    if not folder.endswith(\".sgraph\"):\n",
        "        continue\n",
        "    subG = tc.load_sgraph(folder)\n",
        "    g = g.add_vertices(subG.get_vertices())\n",
        "    g = g.add_edges(subG.get_edges())"
      ],
      "execution_count": 55,
      "outputs": [
        {
          "output_type": "display_data",
          "data": {
            "text/plain": [
              "  0%|          | 0/49 [00:00<?, ?it/s]"
            ],
            "application/vnd.jupyter.widget-view+json": {
              "version_major": 2,
              "version_minor": 0,
              "model_id": "d52b5f668285495d8405197aea1163df"
            }
          },
          "metadata": {}
        }
      ]
    },
    {
      "cell_type": "code",
      "metadata": {
        "id": "ZPwRAuBN3_hC"
      },
      "source": [
        "# converv SGraph to networkx, if needed\n",
        "\n",
        "import networkx as nx\n",
        "\n",
        "def sgraph2nxgraph(sgraph, is_directed=True, add_vertices_attributes=True, add_edges_attributes=True):\n",
        "    if is_directed:\n",
        "        nx_g = nx.DiGraph()\n",
        "    else:\n",
        "        nx_g = nx.Graph()\n",
        "    if add_vertices_attributes:\n",
        "        vertices = [(r['__id'] , r) for r in sgraph.vertices]\n",
        "    else:\n",
        "        vertices = list(sgraph.get_vertices()['__id'])\n",
        "\n",
        "    if add_edges_attributes:\n",
        "        edges = [(r['__src_id'], r['__dst_id'], r) for r in sgraph.edges]\n",
        "    else:\n",
        "        edges = [(e['__src_id'], e['__dst_id']) for e in sgraph.get_edges()]\n",
        "    nx_g.add_nodes_from(vertices)\n",
        "    nx_g.add_edges_from(edges)\n",
        "    return nx_g"
      ],
      "execution_count": 56,
      "outputs": []
    },
    {
      "cell_type": "markdown",
      "metadata": {
        "id": "KhskghuZbIvA"
      },
      "source": [
        "**Task 1 (_max score - 10 points_)**: Calculate and visualize the degree distribution of the vertices in the network"
      ]
    },
    {
      "cell_type": "code",
      "source": [
        "nx_g = sgraph2nxgraph(g)"
      ],
      "metadata": {
        "id": "virEgIUT_RqP"
      },
      "execution_count": 57,
      "outputs": []
    },
    {
      "cell_type": "code",
      "source": [
        "d = nx_g.degree()\n",
        "list(dict(d).items())[:20]"
      ],
      "metadata": {
        "colab": {
          "base_uri": "https://localhost:8080/"
        },
        "id": "hnUAI2fgCrs_",
        "outputId": "f309013d-b464-41f6-8e85-af43f60ceb2c"
      },
      "execution_count": 58,
      "outputs": [
        {
          "output_type": "execute_result",
          "data": {
            "text/plain": [
              "[('baseballrodent', 0),\n",
              " ('xcrouton', 1),\n",
              " ('poservarial', 0),\n",
              " ('scrantonfan', 1),\n",
              " ('Sir_SpamAL00t', 2),\n",
              " ('Ebonhawk23', 2),\n",
              " ('carrliadiere', 3),\n",
              " ('bronyking', 0),\n",
              " ('TaterGoodmoons', 0),\n",
              " ('rigtopia', 3),\n",
              " ('badidearobot', 0),\n",
              " ('naxypoo', 1),\n",
              " ('JSleek', 1),\n",
              " ('Strasner', 2),\n",
              " ('screenager93', 3),\n",
              " ('drebot', 1),\n",
              " ('UltimasXaero', 0),\n",
              " ('imaponysuckit', 3),\n",
              " ('CMUber', 2),\n",
              " ('TheGingerWannabe', 0)]"
            ]
          },
          "metadata": {},
          "execution_count": 58
        }
      ]
    },
    {
      "cell_type": "code",
      "source": [
        "import seaborn as sns\n",
        "%matplotlib inline\n",
        "sns.set()\n",
        "sns.distplot([v for v in dict(d).values()])"
      ],
      "metadata": {
        "colab": {
          "base_uri": "https://localhost:8080/",
          "height": 342
        },
        "id": "L4jreEJoCxjs",
        "outputId": "ef962bfe-1800-4ada-e039-6c7060e7777b"
      },
      "execution_count": 59,
      "outputs": [
        {
          "output_type": "stream",
          "name": "stderr",
          "text": [
            "/usr/local/lib/python3.8/dist-packages/seaborn/distributions.py:2619: FutureWarning: `distplot` is a deprecated function and will be removed in a future version. Please adapt your code to use either `displot` (a figure-level function with similar flexibility) or `histplot` (an axes-level function for histograms).\n",
            "  warnings.warn(msg, FutureWarning)\n"
          ]
        },
        {
          "output_type": "execute_result",
          "data": {
            "text/plain": [
              "<matplotlib.axes._subplots.AxesSubplot at 0x7fdea96d6850>"
            ]
          },
          "metadata": {},
          "execution_count": 59
        },
        {
          "output_type": "display_data",
          "data": {
            "text/plain": [
              "<Figure size 432x288 with 1 Axes>"
            ],
            "image/png": "[encoded data removed]"
          },
          "metadata": {}
        }
      ]
    },
    {
      "cell_type": "code",
      "source": [
        "import numpy as np\n",
        "degrees = []\n",
        "for node in nx_g:\n",
        "  degrees.append(nx_g.degree(node))\n",
        "degrees = np.array(degrees)"
      ],
      "metadata": {
        "id": "r1NJrQp__Wca"
      },
      "execution_count": 60,
      "outputs": []
    },
    {
      "cell_type": "code",
      "source": [
        "print(f'The % of nodes with 0 degree: {len(degrees[degrees==0])/ len(degrees):.2%}')"
      ],
      "metadata": {
        "id": "JNaNb0RHhSWN",
        "outputId": "28140778-1e74-48ff-92b3-0bc893838c89",
        "colab": {
          "base_uri": "https://localhost:8080/"
        }
      },
      "execution_count": null,
      "outputs": [
        {
          "output_type": "stream",
          "name": "stdout",
          "text": [
            "The % of nodes with 0 degree: 35.97%\n"
          ]
        }
      ]
    },
    {
      "cell_type": "markdown",
      "metadata": {
        "id": "9B8BneBNbQg6"
      },
      "source": [
        "**Task 2 (_max score - 15 points_)**: Create a subgraph of the top-20 users according to the PageRank algorithm. Draw the subgraph."
      ]
    },
    {
      "cell_type": "code",
      "source": [
        "#According to PageRank:\n",
        "\n",
        "d = nx.pagerank(nx_g)\n",
        "selected_nodes_list = sorted(d, key=d.get, reverse=True)[:20] \n",
        "h = nx_g.subgraph(selected_nodes_list)\n",
        "print('In subgraph:')\n",
        "print('number of nodes:', h.number_of_nodes())\n",
        "print('number of edges:', h.number_of_edges())\n",
        "\n",
        "#import operator\n",
        "#print(nx_g.number_of_nodes())\n",
        "#print(nx_g.number_of_edges())\n",
        "#max(dict(d).items(), key=operator.itemgetter(1))  \n",
        "# sorted(d, key=d.get, reverse=True)[:20] \n"
      ],
      "metadata": {
        "colab": {
          "base_uri": "https://localhost:8080/"
        },
        "id": "9a_TL5qfI_Zi",
        "outputId": "bb7ab238-0a48-452c-b6f6-389ec1a89498"
      },
      "execution_count": 61,
      "outputs": [
        {
          "output_type": "stream",
          "name": "stdout",
          "text": [
            "In subgraph:\n",
            "number of nodes: 20\n",
            "number of edges: 10\n"
          ]
        }
      ]
    },
    {
      "cell_type": "code",
      "source": [
        "plt.figure(figsize=(6,6))\n",
        "nx.draw_kamada_kawai(h, with_labels=True)"
      ],
      "metadata": {
        "colab": {
          "base_uri": "https://localhost:8080/",
          "height": 463
        },
        "id": "BMz1NInmIfVG",
        "outputId": "2b12f8fb-5839-43c5-a208-117bc3442fca"
      },
      "execution_count": 62,
      "outputs": [
        {
          "output_type": "display_data",
          "data": {
            "text/plain": [
              "<Figure size 432x432 with 1 Axes>"
            ],
            "image/png": "[encoded data removed]"
          },
          "metadata": {}
        }
      ]
    },
    {
      "cell_type": "markdown",
      "source": [
        "As we could notice - we loose some of the edges that was conected to the adges that was not in this subgraph."
      ],
      "metadata": {
        "id": "DEGfVZqdN6L_"
      }
    },
    {
      "cell_type": "markdown",
      "metadata": {
        "id": "Ngvx0jvpbbrc"
      },
      "source": [
        "**Task 3 (_max score - 15 points_)**: Visualize the distribution of the network's strongly and weakly connected components.\n",
        "\n",
        "* As we didn't have the chance to review this in class, you can read shortly about these terms [here](https://www.geeksforgeeks.org/check-if-a-graph-is-strongly-unilaterally-or-weakly-connected/)\n",
        "* This might be helpful: [networkx.weakly_connected_components](https://networkx.org/documentation/stable/reference/algorithms/generated/networkx.algorithms.components.weakly_connected_components.html?highlight=weakly_connected_components#networkx.algorithms.components.weakly_connected_components) "
      ]
    },
    {
      "cell_type": "code",
      "source": [
        "# Generate a sorted list of weakly connected components, largest first.\n",
        "connected = [len(c) for c in sorted(nx.weakly_connected_components(nx_g), key=len, reverse=True)]"
      ],
      "metadata": {
        "id": "UiIKnMCY8VJ5"
      },
      "execution_count": 171,
      "outputs": []
    },
    {
      "cell_type": "code",
      "source": [
        "sns.distplot([v for v in connected])"
      ],
      "metadata": {
        "colab": {
          "base_uri": "https://localhost:8080/",
          "height": 342
        },
        "id": "oW9w7Nj38eZk",
        "outputId": "0766531c-5e1e-4c1a-d698-77aac74d776c"
      },
      "execution_count": 173,
      "outputs": [
        {
          "output_type": "stream",
          "name": "stderr",
          "text": [
            "/usr/local/lib/python3.8/dist-packages/seaborn/distributions.py:2619: FutureWarning: `distplot` is a deprecated function and will be removed in a future version. Please adapt your code to use either `displot` (a figure-level function with similar flexibility) or `histplot` (an axes-level function for histograms).\n",
            "  warnings.warn(msg, FutureWarning)\n"
          ]
        },
        {
          "output_type": "execute_result",
          "data": {
            "text/plain": [
              "<matplotlib.axes._subplots.AxesSubplot at 0x7fdeacfa4e80>"
            ]
          },
          "metadata": {},
          "execution_count": 173
        },
        {
          "output_type": "display_data",
          "data": {
            "text/plain": [
              "<Figure size 432x288 with 1 Axes>"
            ],
            "image/png": "[encoded data removed]"
          },
          "metadata": {}
        }
      ]
    },
    {
      "cell_type": "markdown",
      "metadata": {
        "id": "1py8MRufbe9e"
      },
      "source": [
        "**Task 4 (_max score - 10 points_)**: Split the network into communities, and find the __second__ most central vertex in each community (use degree_centrality)."
      ]
    },
    {
      "cell_type": "code",
      "source": [
        "# let's find cominuties:\n",
        "from networkx.algorithms.community import greedy_modularity_communities\n",
        "cc = greedy_modularity_communities(nx_g) # this can take some time\n",
        "len(cc)"
      ],
      "metadata": {
        "colab": {
          "base_uri": "https://localhost:8080/"
        },
        "id": "Gy3j62_-OR4k",
        "outputId": "1cde8956-1c2d-4bbb-e47e-8b36f3c5765f"
      },
      "execution_count": 63,
      "outputs": [
        {
          "output_type": "execute_result",
          "data": {
            "text/plain": [
              "1900"
            ]
          },
          "metadata": {},
          "execution_count": 63
        }
      ]
    },
    {
      "cell_type": "code",
      "source": [
        "\n",
        "for community in cc:\n",
        "  # if there is only 1 vertex there will be no 2nd most\n",
        "  if len(community) >= 2:\n",
        "    sub = nx_g.subgraph(community)\n",
        "    print(\"-\"*100)\n",
        "    print('number of nodes:', sub.number_of_nodes())\n",
        "    print('number of edges:', sub.number_of_edges())\n",
        "    d = nx.degree_centrality(sub)\n",
        "    vertex = sorted(d, key=d.get, reverse=True)[1] \n",
        "    print(\"The second most central vertex by degree centrality:\", vertex)"
      ],
      "metadata": {
        "colab": {
          "base_uri": "https://localhost:8080/"
        },
        "id": "_y4dfI3qP3XL",
        "outputId": "4707cdb3-6394-453d-e8bb-66b9277e8449"
      },
      "execution_count": 64,
      "outputs": [
        {
          "output_type": "stream",
          "name": "stdout",
          "text": [
            "----------------------------------------------------------------------------------------------------\n",
            "number of nodes: 175\n",
            "number of edges: 252\n",
            "The second most central vertex by degree centrality: ryanweiskopf\n",
            "----------------------------------------------------------------------------------------------------\n",
            "number of nodes: 145\n",
            "number of edges: 196\n",
            "The second most central vertex by degree centrality: SuperTonicV7\n",
            "----------------------------------------------------------------------------------------------------\n",
            "number of nodes: 139\n",
            "number of edges: 187\n",
            "The second most central vertex by degree centrality: Andewz111\n",
            "----------------------------------------------------------------------------------------------------\n",
            "number of nodes: 133\n",
            "number of edges: 169\n",
            "The second most central vertex by degree centrality: anyways_vs_anyway\n",
            "----------------------------------------------------------------------------------------------------\n",
            "number of nodes: 119\n",
            "number of edges: 182\n",
            "The second most central vertex by degree centrality: blitzbom\n",
            "----------------------------------------------------------------------------------------------------\n",
            "number of nodes: 119\n",
            "number of edges: 165\n",
            "The second most central vertex by degree centrality: netshow515\n",
            "----------------------------------------------------------------------------------------------------\n",
            "number of nodes: 115\n",
            "number of edges: 164\n",
            "The second most central vertex by degree centrality: mdennhardt\n",
            "----------------------------------------------------------------------------------------------------\n",
            "number of nodes: 99\n",
            "number of edges: 133\n",
            "The second most central vertex by degree centrality: kzcatlady\n",
            "----------------------------------------------------------------------------------------------------\n",
            "number of nodes: 98\n",
            "number of edges: 134\n",
            "The second most central vertex by degree centrality: loveypower\n",
            "----------------------------------------------------------------------------------------------------\n",
            "number of nodes: 78\n",
            "number of edges: 107\n",
            "The second most central vertex by degree centrality: dawhitesox14\n",
            "----------------------------------------------------------------------------------------------------\n",
            "number of nodes: 75\n",
            "number of edges: 94\n",
            "The second most central vertex by degree centrality: mrmateo\n",
            "----------------------------------------------------------------------------------------------------\n",
            "number of nodes: 73\n",
            "number of edges: 80\n",
            "The second most central vertex by degree centrality: AlrightStopHammatime\n",
            "----------------------------------------------------------------------------------------------------\n",
            "number of nodes: 73\n",
            "number of edges: 87\n",
            "The second most central vertex by degree centrality: dontBatool\n",
            "----------------------------------------------------------------------------------------------------\n",
            "number of nodes: 70\n",
            "number of edges: 81\n",
            "The second most central vertex by degree centrality: unfortunatejordan\n",
            "----------------------------------------------------------------------------------------------------\n",
            "number of nodes: 68\n",
            "number of edges: 78\n",
            "The second most central vertex by degree centrality: redspecial95\n",
            "----------------------------------------------------------------------------------------------------\n",
            "number of nodes: 64\n",
            "number of edges: 95\n",
            "The second most central vertex by degree centrality: ViceMikeyX\n",
            "----------------------------------------------------------------------------------------------------\n",
            "number of nodes: 59\n",
            "number of edges: 69\n",
            "The second most central vertex by degree centrality: MyCatBandit\n",
            "----------------------------------------------------------------------------------------------------\n",
            "number of nodes: 58\n",
            "number of edges: 72\n",
            "The second most central vertex by degree centrality: Two-Face\n",
            "----------------------------------------------------------------------------------------------------\n",
            "number of nodes: 56\n",
            "number of edges: 71\n",
            "The second most central vertex by degree centrality: Going_to_Pasalacqua\n",
            "----------------------------------------------------------------------------------------------------\n",
            "number of nodes: 50\n",
            "number of edges: 59\n",
            "The second most central vertex by degree centrality: cokestar\n",
            "----------------------------------------------------------------------------------------------------\n",
            "number of nodes: 47\n",
            "number of edges: 57\n",
            "The second most central vertex by degree centrality: G-Rob\n",
            "----------------------------------------------------------------------------------------------------\n",
            "number of nodes: 40\n",
            "number of edges: 55\n",
            "The second most central vertex by degree centrality: Werthless\n",
            "----------------------------------------------------------------------------------------------------\n",
            "number of nodes: 39\n",
            "number of edges: 45\n",
            "The second most central vertex by degree centrality: lazenbooby\n",
            "----------------------------------------------------------------------------------------------------\n",
            "number of nodes: 38\n",
            "number of edges: 46\n",
            "The second most central vertex by degree centrality: BaronThundergoose\n",
            "----------------------------------------------------------------------------------------------------\n",
            "number of nodes: 37\n",
            "number of edges: 46\n",
            "The second most central vertex by degree centrality: beckoningares\n",
            "----------------------------------------------------------------------------------------------------\n",
            "number of nodes: 37\n",
            "number of edges: 47\n",
            "The second most central vertex by degree centrality: kapester\n",
            "----------------------------------------------------------------------------------------------------\n",
            "number of nodes: 34\n",
            "number of edges: 43\n",
            "The second most central vertex by degree centrality: GorillaMousson\n",
            "----------------------------------------------------------------------------------------------------\n",
            "number of nodes: 33\n",
            "number of edges: 39\n",
            "The second most central vertex by degree centrality: RowdyBusch\n",
            "----------------------------------------------------------------------------------------------------\n",
            "number of nodes: 32\n",
            "number of edges: 46\n",
            "The second most central vertex by degree centrality: Marfan42\n",
            "----------------------------------------------------------------------------------------------------\n",
            "number of nodes: 29\n",
            "number of edges: 37\n",
            "The second most central vertex by degree centrality: Wutsurname\n",
            "----------------------------------------------------------------------------------------------------\n",
            "number of nodes: 27\n",
            "number of edges: 30\n",
            "The second most central vertex by degree centrality: xanderdagr8\n",
            "----------------------------------------------------------------------------------------------------\n",
            "number of nodes: 26\n",
            "number of edges: 37\n",
            "The second most central vertex by degree centrality: CollarRed\n",
            "----------------------------------------------------------------------------------------------------\n",
            "number of nodes: 26\n",
            "number of edges: 35\n",
            "The second most central vertex by degree centrality: shizeldolphin36\n",
            "----------------------------------------------------------------------------------------------------\n",
            "number of nodes: 23\n",
            "number of edges: 26\n",
            "The second most central vertex by degree centrality: mdambach\n",
            "----------------------------------------------------------------------------------------------------\n",
            "number of nodes: 20\n",
            "number of edges: 24\n",
            "The second most central vertex by degree centrality: thedrumjunkie\n",
            "----------------------------------------------------------------------------------------------------\n",
            "number of nodes: 10\n",
            "number of edges: 12\n",
            "The second most central vertex by degree centrality: MarkG777\n",
            "----------------------------------------------------------------------------------------------------\n",
            "number of nodes: 6\n",
            "number of edges: 5\n",
            "The second most central vertex by degree centrality: kamilynnw\n",
            "----------------------------------------------------------------------------------------------------\n",
            "number of nodes: 6\n",
            "number of edges: 6\n",
            "The second most central vertex by degree centrality: CenturySam77\n",
            "----------------------------------------------------------------------------------------------------\n",
            "number of nodes: 6\n",
            "number of edges: 7\n",
            "The second most central vertex by degree centrality: Mules50\n",
            "----------------------------------------------------------------------------------------------------\n",
            "number of nodes: 5\n",
            "number of edges: 4\n",
            "The second most central vertex by degree centrality: thrik\n",
            "----------------------------------------------------------------------------------------------------\n",
            "number of nodes: 5\n",
            "number of edges: 4\n",
            "The second most central vertex by degree centrality: 60SecWorthOfDistRun\n",
            "----------------------------------------------------------------------------------------------------\n",
            "number of nodes: 5\n",
            "number of edges: 4\n",
            "The second most central vertex by degree centrality: Joeman12\n",
            "----------------------------------------------------------------------------------------------------\n",
            "number of nodes: 5\n",
            "number of edges: 5\n",
            "The second most central vertex by degree centrality: SoulUnison\n",
            "----------------------------------------------------------------------------------------------------\n",
            "number of nodes: 5\n",
            "number of edges: 4\n",
            "The second most central vertex by degree centrality: NoSalt\n",
            "----------------------------------------------------------------------------------------------------\n",
            "number of nodes: 5\n",
            "number of edges: 4\n",
            "The second most central vertex by degree centrality: LazyTechGuy\n",
            "----------------------------------------------------------------------------------------------------\n",
            "number of nodes: 4\n",
            "number of edges: 4\n",
            "The second most central vertex by degree centrality: Bernie530\n",
            "----------------------------------------------------------------------------------------------------\n",
            "number of nodes: 4\n",
            "number of edges: 4\n",
            "The second most central vertex by degree centrality: GladMartigan\n",
            "----------------------------------------------------------------------------------------------------\n",
            "number of nodes: 4\n",
            "number of edges: 4\n",
            "The second most central vertex by degree centrality: MrsLCPLMitchell\n",
            "----------------------------------------------------------------------------------------------------\n",
            "number of nodes: 4\n",
            "number of edges: 3\n",
            "The second most central vertex by degree centrality: FinnianWhitefir\n",
            "----------------------------------------------------------------------------------------------------\n",
            "number of nodes: 4\n",
            "number of edges: 3\n",
            "The second most central vertex by degree centrality: poppyseedtoast\n",
            "----------------------------------------------------------------------------------------------------\n",
            "number of nodes: 4\n",
            "number of edges: 4\n",
            "The second most central vertex by degree centrality: Barsj\n",
            "----------------------------------------------------------------------------------------------------\n",
            "number of nodes: 4\n",
            "number of edges: 5\n",
            "The second most central vertex by degree centrality: bsauceamlin\n",
            "----------------------------------------------------------------------------------------------------\n",
            "number of nodes: 4\n",
            "number of edges: 4\n",
            "The second most central vertex by degree centrality: readitbutdidntgetit\n",
            "----------------------------------------------------------------------------------------------------\n",
            "number of nodes: 4\n",
            "number of edges: 3\n",
            "The second most central vertex by degree centrality: jboyle4eva\n",
            "----------------------------------------------------------------------------------------------------\n",
            "number of nodes: 4\n",
            "number of edges: 5\n",
            "The second most central vertex by degree centrality: samb231\n",
            "----------------------------------------------------------------------------------------------------\n",
            "number of nodes: 4\n",
            "number of edges: 4\n",
            "The second most central vertex by degree centrality: myrm\n",
            "----------------------------------------------------------------------------------------------------\n",
            "number of nodes: 4\n",
            "number of edges: 3\n",
            "The second most central vertex by degree centrality: jtbhv2\n",
            "----------------------------------------------------------------------------------------------------\n",
            "number of nodes: 4\n",
            "number of edges: 3\n",
            "The second most central vertex by degree centrality: wardword\n",
            "----------------------------------------------------------------------------------------------------\n",
            "number of nodes: 4\n",
            "number of edges: 3\n",
            "The second most central vertex by degree centrality: chrisgee\n",
            "----------------------------------------------------------------------------------------------------\n",
            "number of nodes: 4\n",
            "number of edges: 4\n",
            "The second most central vertex by degree centrality: aboynamedsu\n",
            "----------------------------------------------------------------------------------------------------\n",
            "number of nodes: 3\n",
            "number of edges: 3\n",
            "The second most central vertex by degree centrality: microwavedCheetos\n",
            "----------------------------------------------------------------------------------------------------\n",
            "number of nodes: 3\n",
            "number of edges: 2\n",
            "The second most central vertex by degree centrality: rivea\n",
            "----------------------------------------------------------------------------------------------------\n",
            "number of nodes: 3\n",
            "number of edges: 3\n",
            "The second most central vertex by degree centrality: MCSealClubber\n",
            "----------------------------------------------------------------------------------------------------\n",
            "number of nodes: 3\n",
            "number of edges: 2\n",
            "The second most central vertex by degree centrality: IceAgeMikey2\n",
            "----------------------------------------------------------------------------------------------------\n",
            "number of nodes: 3\n",
            "number of edges: 2\n",
            "The second most central vertex by degree centrality: TJNapz\n",
            "----------------------------------------------------------------------------------------------------\n",
            "number of nodes: 3\n",
            "number of edges: 2\n",
            "The second most central vertex by degree centrality: ohaitharr\n",
            "----------------------------------------------------------------------------------------------------\n",
            "number of nodes: 3\n",
            "number of edges: 2\n",
            "The second most central vertex by degree centrality: justwhipit\n",
            "----------------------------------------------------------------------------------------------------\n",
            "number of nodes: 3\n",
            "number of edges: 3\n",
            "The second most central vertex by degree centrality: blade7122\n",
            "----------------------------------------------------------------------------------------------------\n",
            "number of nodes: 3\n",
            "number of edges: 3\n",
            "The second most central vertex by degree centrality: StreisandDefect\n",
            "----------------------------------------------------------------------------------------------------\n",
            "number of nodes: 3\n",
            "number of edges: 2\n",
            "The second most central vertex by degree centrality: futurefix5\n",
            "----------------------------------------------------------------------------------------------------\n",
            "number of nodes: 3\n",
            "number of edges: 2\n",
            "The second most central vertex by degree centrality: JohnLocke815\n",
            "----------------------------------------------------------------------------------------------------\n",
            "number of nodes: 3\n",
            "number of edges: 2\n",
            "The second most central vertex by degree centrality: vanhendrix\n",
            "----------------------------------------------------------------------------------------------------\n",
            "number of nodes: 3\n",
            "number of edges: 2\n",
            "The second most central vertex by degree centrality: omgid\n",
            "----------------------------------------------------------------------------------------------------\n",
            "number of nodes: 3\n",
            "number of edges: 2\n",
            "The second most central vertex by degree centrality: ohSteeZy\n",
            "----------------------------------------------------------------------------------------------------\n",
            "number of nodes: 3\n",
            "number of edges: 2\n",
            "The second most central vertex by degree centrality: linux_dood\n",
            "----------------------------------------------------------------------------------------------------\n",
            "number of nodes: 3\n",
            "number of edges: 2\n",
            "The second most central vertex by degree centrality: 501622731\n",
            "----------------------------------------------------------------------------------------------------\n",
            "number of nodes: 3\n",
            "number of edges: 3\n",
            "The second most central vertex by degree centrality: 220V-50Hz3WRoHS\n",
            "----------------------------------------------------------------------------------------------------\n",
            "number of nodes: 3\n",
            "number of edges: 2\n",
            "The second most central vertex by degree centrality: Timofeo\n",
            "----------------------------------------------------------------------------------------------------\n",
            "number of nodes: 3\n",
            "number of edges: 2\n",
            "The second most central vertex by degree centrality: TVQgolf\n",
            "----------------------------------------------------------------------------------------------------\n",
            "number of nodes: 3\n",
            "number of edges: 2\n",
            "The second most central vertex by degree centrality: TheBarbary\n",
            "----------------------------------------------------------------------------------------------------\n",
            "number of nodes: 3\n",
            "number of edges: 2\n",
            "The second most central vertex by degree centrality: TheSadNick\n",
            "----------------------------------------------------------------------------------------------------\n",
            "number of nodes: 3\n",
            "number of edges: 2\n",
            "The second most central vertex by degree centrality: ok413\n",
            "----------------------------------------------------------------------------------------------------\n",
            "number of nodes: 3\n",
            "number of edges: 2\n",
            "The second most central vertex by degree centrality: BurssburssburssSwag\n",
            "----------------------------------------------------------------------------------------------------\n",
            "number of nodes: 3\n",
            "number of edges: 3\n",
            "The second most central vertex by degree centrality: pacotaconaco\n",
            "----------------------------------------------------------------------------------------------------\n",
            "number of nodes: 3\n",
            "number of edges: 2\n",
            "The second most central vertex by degree centrality: sruffenach\n",
            "----------------------------------------------------------------------------------------------------\n",
            "number of nodes: 3\n",
            "number of edges: 2\n",
            "The second most central vertex by degree centrality: KidRock567\n",
            "----------------------------------------------------------------------------------------------------\n",
            "number of nodes: 3\n",
            "number of edges: 3\n",
            "The second most central vertex by degree centrality: CrassusTheWarlock\n",
            "----------------------------------------------------------------------------------------------------\n",
            "number of nodes: 3\n",
            "number of edges: 2\n",
            "The second most central vertex by degree centrality: xGOLFWANGx\n",
            "----------------------------------------------------------------------------------------------------\n",
            "number of nodes: 3\n",
            "number of edges: 2\n",
            "The second most central vertex by degree centrality: XcomposureX\n",
            "----------------------------------------------------------------------------------------------------\n",
            "number of nodes: 3\n",
            "number of edges: 3\n",
            "The second most central vertex by degree centrality: ThaFilth\n",
            "----------------------------------------------------------------------------------------------------\n",
            "number of nodes: 3\n",
            "number of edges: 2\n",
            "The second most central vertex by degree centrality: logancmc\n",
            "----------------------------------------------------------------------------------------------------\n",
            "number of nodes: 3\n",
            "number of edges: 3\n",
            "The second most central vertex by degree centrality: Beaglepower\n",
            "----------------------------------------------------------------------------------------------------\n",
            "number of nodes: 3\n",
            "number of edges: 2\n",
            "The second most central vertex by degree centrality: Skinkerus\n",
            "----------------------------------------------------------------------------------------------------\n",
            "number of nodes: 3\n",
            "number of edges: 3\n",
            "The second most central vertex by degree centrality: ToastyGoodness\n",
            "----------------------------------------------------------------------------------------------------\n",
            "number of nodes: 3\n",
            "number of edges: 2\n",
            "The second most central vertex by degree centrality: Duckysaurus\n",
            "----------------------------------------------------------------------------------------------------\n",
            "number of nodes: 3\n",
            "number of edges: 3\n",
            "The second most central vertex by degree centrality: vincxento\n",
            "----------------------------------------------------------------------------------------------------\n",
            "number of nodes: 3\n",
            "number of edges: 3\n",
            "The second most central vertex by degree centrality: StrangeApparition\n",
            "----------------------------------------------------------------------------------------------------\n",
            "number of nodes: 3\n",
            "number of edges: 3\n",
            "The second most central vertex by degree centrality: baggyizzle\n",
            "----------------------------------------------------------------------------------------------------\n",
            "number of nodes: 3\n",
            "number of edges: 2\n",
            "The second most central vertex by degree centrality: largebrandon\n",
            "----------------------------------------------------------------------------------------------------\n",
            "number of nodes: 3\n",
            "number of edges: 2\n",
            "The second most central vertex by degree centrality: pricelessangie\n",
            "----------------------------------------------------------------------------------------------------\n",
            "number of nodes: 3\n",
            "number of edges: 2\n",
            "The second most central vertex by degree centrality: crazymicahman\n",
            "----------------------------------------------------------------------------------------------------\n",
            "number of nodes: 2\n",
            "number of edges: 1\n",
            "The second most central vertex by degree centrality: xcrouton\n",
            "----------------------------------------------------------------------------------------------------\n",
            "number of nodes: 2\n",
            "number of edges: 1\n",
            "The second most central vertex by degree centrality: tabin02\n",
            "----------------------------------------------------------------------------------------------------\n",
            "number of nodes: 2\n",
            "number of edges: 1\n",
            "The second most central vertex by degree centrality: recoveringcarbaholic\n",
            "----------------------------------------------------------------------------------------------------\n",
            "number of nodes: 2\n",
            "number of edges: 2\n",
            "The second most central vertex by degree centrality: Kotetsu42x\n",
            "----------------------------------------------------------------------------------------------------\n",
            "number of nodes: 2\n",
            "number of edges: 1\n",
            "The second most central vertex by degree centrality: oldtug\n",
            "----------------------------------------------------------------------------------------------------\n",
            "number of nodes: 2\n",
            "number of edges: 1\n",
            "The second most central vertex by degree centrality: Hokay168\n",
            "----------------------------------------------------------------------------------------------------\n",
            "number of nodes: 2\n",
            "number of edges: 2\n",
            "The second most central vertex by degree centrality: THE_DUKE_OF_WALTHAM\n",
            "----------------------------------------------------------------------------------------------------\n",
            "number of nodes: 2\n",
            "number of edges: 1\n",
            "The second most central vertex by degree centrality: saintsfan\n",
            "----------------------------------------------------------------------------------------------------\n",
            "number of nodes: 2\n",
            "number of edges: 1\n",
            "The second most central vertex by degree centrality: Odubj\n",
            "----------------------------------------------------------------------------------------------------\n",
            "number of nodes: 2\n",
            "number of edges: 1\n",
            "The second most central vertex by degree centrality: tifhan\n",
            "----------------------------------------------------------------------------------------------------\n",
            "number of nodes: 2\n",
            "number of edges: 1\n",
            "The second most central vertex by degree centrality: JToews19\n",
            "----------------------------------------------------------------------------------------------------\n",
            "number of nodes: 2\n",
            "number of edges: 1\n",
            "The second most central vertex by degree centrality: Warotia\n",
            "----------------------------------------------------------------------------------------------------\n",
            "number of nodes: 2\n",
            "number of edges: 1\n",
            "The second most central vertex by degree centrality: Keffmaster\n",
            "----------------------------------------------------------------------------------------------------\n",
            "number of nodes: 2\n",
            "number of edges: 1\n",
            "The second most central vertex by degree centrality: NostalgicMuscovy\n",
            "----------------------------------------------------------------------------------------------------\n",
            "number of nodes: 2\n",
            "number of edges: 1\n",
            "The second most central vertex by degree centrality: daffodil79\n",
            "----------------------------------------------------------------------------------------------------\n",
            "number of nodes: 2\n",
            "number of edges: 2\n",
            "The second most central vertex by degree centrality: boxcars11\n",
            "----------------------------------------------------------------------------------------------------\n",
            "number of nodes: 2\n",
            "number of edges: 1\n",
            "The second most central vertex by degree centrality: pkenny72\n",
            "----------------------------------------------------------------------------------------------------\n",
            "number of nodes: 2\n",
            "number of edges: 1\n",
            "The second most central vertex by degree centrality: justkellen\n",
            "----------------------------------------------------------------------------------------------------\n",
            "number of nodes: 2\n",
            "number of edges: 1\n",
            "The second most central vertex by degree centrality: FormidableDouche\n",
            "----------------------------------------------------------------------------------------------------\n",
            "number of nodes: 2\n",
            "number of edges: 1\n",
            "The second most central vertex by degree centrality: IThinkErgoIAmAbe\n",
            "----------------------------------------------------------------------------------------------------\n",
            "number of nodes: 2\n",
            "number of edges: 1\n",
            "The second most central vertex by degree centrality: imthethimble\n",
            "----------------------------------------------------------------------------------------------------\n",
            "number of nodes: 2\n",
            "number of edges: 1\n",
            "The second most central vertex by degree centrality: mcolton47\n",
            "----------------------------------------------------------------------------------------------------\n",
            "number of nodes: 2\n",
            "number of edges: 1\n",
            "The second most central vertex by degree centrality: redditthinks\n",
            "----------------------------------------------------------------------------------------------------\n",
            "number of nodes: 2\n",
            "number of edges: 1\n",
            "The second most central vertex by degree centrality: deartheworld\n",
            "----------------------------------------------------------------------------------------------------\n",
            "number of nodes: 2\n",
            "number of edges: 1\n",
            "The second most central vertex by degree centrality: skidmark_master\n",
            "----------------------------------------------------------------------------------------------------\n",
            "number of nodes: 2\n",
            "number of edges: 1\n",
            "The second most central vertex by degree centrality: Taub-NUT\n",
            "----------------------------------------------------------------------------------------------------\n",
            "number of nodes: 2\n",
            "number of edges: 1\n",
            "The second most central vertex by degree centrality: Ktlol\n",
            "----------------------------------------------------------------------------------------------------\n",
            "number of nodes: 2\n",
            "number of edges: 1\n",
            "The second most central vertex by degree centrality: PotarLagSwagg\n",
            "----------------------------------------------------------------------------------------------------\n",
            "number of nodes: 2\n",
            "number of edges: 1\n",
            "The second most central vertex by degree centrality: Don_CarloG\n",
            "----------------------------------------------------------------------------------------------------\n",
            "number of nodes: 2\n",
            "number of edges: 1\n",
            "The second most central vertex by degree centrality: notkatieatall\n",
            "----------------------------------------------------------------------------------------------------\n",
            "number of nodes: 2\n",
            "number of edges: 1\n",
            "The second most central vertex by degree centrality: AnotherTimeTraveller\n",
            "----------------------------------------------------------------------------------------------------\n",
            "number of nodes: 2\n",
            "number of edges: 1\n",
            "The second most central vertex by degree centrality: DeviousPigeon\n",
            "----------------------------------------------------------------------------------------------------\n",
            "number of nodes: 2\n",
            "number of edges: 1\n",
            "The second most central vertex by degree centrality: bobthebobofbob\n",
            "----------------------------------------------------------------------------------------------------\n",
            "number of nodes: 2\n",
            "number of edges: 1\n",
            "The second most central vertex by degree centrality: moongoddessshadow\n",
            "----------------------------------------------------------------------------------------------------\n",
            "number of nodes: 2\n",
            "number of edges: 1\n",
            "The second most central vertex by degree centrality: Rokursoxtv\n",
            "----------------------------------------------------------------------------------------------------\n",
            "number of nodes: 2\n",
            "number of edges: 1\n",
            "The second most central vertex by degree centrality: frederic91\n",
            "----------------------------------------------------------------------------------------------------\n",
            "number of nodes: 2\n",
            "number of edges: 1\n",
            "The second most central vertex by degree centrality: turquoisetaco\n",
            "----------------------------------------------------------------------------------------------------\n",
            "number of nodes: 2\n",
            "number of edges: 1\n",
            "The second most central vertex by degree centrality: mikewoodld\n",
            "----------------------------------------------------------------------------------------------------\n",
            "number of nodes: 2\n",
            "number of edges: 1\n",
            "The second most central vertex by degree centrality: videostore_guy\n",
            "----------------------------------------------------------------------------------------------------\n",
            "number of nodes: 2\n",
            "number of edges: 1\n",
            "The second most central vertex by degree centrality: BrandonJustBrandon\n",
            "----------------------------------------------------------------------------------------------------\n",
            "number of nodes: 2\n",
            "number of edges: 1\n",
            "The second most central vertex by degree centrality: Napping_Cosmos\n",
            "----------------------------------------------------------------------------------------------------\n",
            "number of nodes: 2\n",
            "number of edges: 2\n",
            "The second most central vertex by degree centrality: geo1855\n",
            "----------------------------------------------------------------------------------------------------\n",
            "number of nodes: 2\n",
            "number of edges: 1\n",
            "The second most central vertex by degree centrality: Panda_Bowl\n",
            "----------------------------------------------------------------------------------------------------\n",
            "number of nodes: 2\n",
            "number of edges: 1\n",
            "The second most central vertex by degree centrality: cronos844\n",
            "----------------------------------------------------------------------------------------------------\n",
            "number of nodes: 2\n",
            "number of edges: 1\n",
            "The second most central vertex by degree centrality: batmanlight\n",
            "----------------------------------------------------------------------------------------------------\n",
            "number of nodes: 2\n",
            "number of edges: 1\n",
            "The second most central vertex by degree centrality: hammerfist25\n",
            "----------------------------------------------------------------------------------------------------\n",
            "number of nodes: 2\n",
            "number of edges: 1\n",
            "The second most central vertex by degree centrality: minusthebeers\n",
            "----------------------------------------------------------------------------------------------------\n",
            "number of nodes: 2\n",
            "number of edges: 1\n",
            "The second most central vertex by degree centrality: OrangutangGang\n",
            "----------------------------------------------------------------------------------------------------\n",
            "number of nodes: 2\n",
            "number of edges: 1\n",
            "The second most central vertex by degree centrality: Awkward_Taco\n",
            "----------------------------------------------------------------------------------------------------\n",
            "number of nodes: 2\n",
            "number of edges: 1\n",
            "The second most central vertex by degree centrality: HollisFlax\n",
            "----------------------------------------------------------------------------------------------------\n",
            "number of nodes: 2\n",
            "number of edges: 2\n",
            "The second most central vertex by degree centrality: SwankyTroubadour\n",
            "----------------------------------------------------------------------------------------------------\n",
            "number of nodes: 2\n",
            "number of edges: 1\n",
            "The second most central vertex by degree centrality: 1ofall\n",
            "----------------------------------------------------------------------------------------------------\n",
            "number of nodes: 2\n",
            "number of edges: 1\n",
            "The second most central vertex by degree centrality: -MD-\n",
            "----------------------------------------------------------------------------------------------------\n",
            "number of nodes: 2\n",
            "number of edges: 1\n",
            "The second most central vertex by degree centrality: Nimbleturkey\n",
            "----------------------------------------------------------------------------------------------------\n",
            "number of nodes: 2\n",
            "number of edges: 1\n",
            "The second most central vertex by degree centrality: captainJmorgan\n",
            "----------------------------------------------------------------------------------------------------\n",
            "number of nodes: 2\n",
            "number of edges: 1\n",
            "The second most central vertex by degree centrality: enfrozt\n",
            "----------------------------------------------------------------------------------------------------\n",
            "number of nodes: 2\n",
            "number of edges: 1\n",
            "The second most central vertex by degree centrality: rkartan\n",
            "----------------------------------------------------------------------------------------------------\n",
            "number of nodes: 2\n",
            "number of edges: 1\n",
            "The second most central vertex by degree centrality: TMRtrashCD\n",
            "----------------------------------------------------------------------------------------------------\n",
            "number of nodes: 2\n",
            "number of edges: 1\n",
            "The second most central vertex by degree centrality: ChrisHighwind\n",
            "----------------------------------------------------------------------------------------------------\n",
            "number of nodes: 2\n",
            "number of edges: 2\n",
            "The second most central vertex by degree centrality: RobotwithBenefits\n",
            "----------------------------------------------------------------------------------------------------\n",
            "number of nodes: 2\n",
            "number of edges: 1\n",
            "The second most central vertex by degree centrality: DeeAttacksJay\n",
            "----------------------------------------------------------------------------------------------------\n",
            "number of nodes: 2\n",
            "number of edges: 1\n",
            "The second most central vertex by degree centrality: blueskycloudy\n",
            "----------------------------------------------------------------------------------------------------\n",
            "number of nodes: 2\n",
            "number of edges: 1\n",
            "The second most central vertex by degree centrality: ciirca\n",
            "----------------------------------------------------------------------------------------------------\n",
            "number of nodes: 2\n",
            "number of edges: 2\n",
            "The second most central vertex by degree centrality: spleric88\n",
            "----------------------------------------------------------------------------------------------------\n",
            "number of nodes: 2\n",
            "number of edges: 1\n",
            "The second most central vertex by degree centrality: thecourtesywiper\n",
            "----------------------------------------------------------------------------------------------------\n",
            "number of nodes: 2\n",
            "number of edges: 1\n",
            "The second most central vertex by degree centrality: besst\n",
            "----------------------------------------------------------------------------------------------------\n",
            "number of nodes: 2\n",
            "number of edges: 2\n",
            "The second most central vertex by degree centrality: Red_Eye_Jedi\n",
            "----------------------------------------------------------------------------------------------------\n",
            "number of nodes: 2\n",
            "number of edges: 1\n",
            "The second most central vertex by degree centrality: P-Stayne27\n",
            "----------------------------------------------------------------------------------------------------\n",
            "number of nodes: 2\n",
            "number of edges: 1\n",
            "The second most central vertex by degree centrality: wootonice\n",
            "----------------------------------------------------------------------------------------------------\n",
            "number of nodes: 2\n",
            "number of edges: 2\n",
            "The second most central vertex by degree centrality: MrShoe321\n",
            "----------------------------------------------------------------------------------------------------\n",
            "number of nodes: 2\n",
            "number of edges: 1\n",
            "The second most central vertex by degree centrality: claque\n",
            "----------------------------------------------------------------------------------------------------\n",
            "number of nodes: 2\n",
            "number of edges: 2\n",
            "The second most central vertex by degree centrality: atych\n",
            "----------------------------------------------------------------------------------------------------\n",
            "number of nodes: 2\n",
            "number of edges: 2\n",
            "The second most central vertex by degree centrality: MandyJones\n",
            "----------------------------------------------------------------------------------------------------\n",
            "number of nodes: 2\n",
            "number of edges: 1\n",
            "The second most central vertex by degree centrality: RedSnt\n",
            "----------------------------------------------------------------------------------------------------\n",
            "number of nodes: 2\n",
            "number of edges: 2\n",
            "The second most central vertex by degree centrality: kingcruel\n",
            "----------------------------------------------------------------------------------------------------\n",
            "number of nodes: 2\n",
            "number of edges: 1\n",
            "The second most central vertex by degree centrality: Requisition\n",
            "----------------------------------------------------------------------------------------------------\n",
            "number of nodes: 2\n",
            "number of edges: 1\n",
            "The second most central vertex by degree centrality: cheer440\n",
            "----------------------------------------------------------------------------------------------------\n",
            "number of nodes: 2\n",
            "number of edges: 1\n",
            "The second most central vertex by degree centrality: fire_eyez\n",
            "----------------------------------------------------------------------------------------------------\n",
            "number of nodes: 2\n",
            "number of edges: 1\n",
            "The second most central vertex by degree centrality: csavage5\n",
            "----------------------------------------------------------------------------------------------------\n",
            "number of nodes: 2\n",
            "number of edges: 1\n",
            "The second most central vertex by degree centrality: tspark\n",
            "----------------------------------------------------------------------------------------------------\n",
            "number of nodes: 2\n",
            "number of edges: 2\n",
            "The second most central vertex by degree centrality: miketendo\n",
            "----------------------------------------------------------------------------------------------------\n",
            "number of nodes: 2\n",
            "number of edges: 1\n",
            "The second most central vertex by degree centrality: chrriis89\n",
            "----------------------------------------------------------------------------------------------------\n",
            "number of nodes: 2\n",
            "number of edges: 1\n",
            "The second most central vertex by degree centrality: entirely_irrelephant\n",
            "----------------------------------------------------------------------------------------------------\n",
            "number of nodes: 2\n",
            "number of edges: 1\n",
            "The second most central vertex by degree centrality: EyesOfaCreeper\n",
            "----------------------------------------------------------------------------------------------------\n",
            "number of nodes: 2\n",
            "number of edges: 1\n",
            "The second most central vertex by degree centrality: nielish\n",
            "----------------------------------------------------------------------------------------------------\n",
            "number of nodes: 2\n",
            "number of edges: 1\n",
            "The second most central vertex by degree centrality: Phantoom\n",
            "----------------------------------------------------------------------------------------------------\n",
            "number of nodes: 2\n",
            "number of edges: 1\n",
            "The second most central vertex by degree centrality: AnthonyRedditPants\n",
            "----------------------------------------------------------------------------------------------------\n",
            "number of nodes: 2\n",
            "number of edges: 1\n",
            "The second most central vertex by degree centrality: oneofthosepimps\n",
            "----------------------------------------------------------------------------------------------------\n",
            "number of nodes: 2\n",
            "number of edges: 2\n",
            "The second most central vertex by degree centrality: relodge08\n",
            "----------------------------------------------------------------------------------------------------\n",
            "number of nodes: 2\n",
            "number of edges: 1\n",
            "The second most central vertex by degree centrality: mot359\n",
            "----------------------------------------------------------------------------------------------------\n",
            "number of nodes: 2\n",
            "number of edges: 1\n",
            "The second most central vertex by degree centrality: whyliepie\n",
            "----------------------------------------------------------------------------------------------------\n",
            "number of nodes: 2\n",
            "number of edges: 1\n",
            "The second most central vertex by degree centrality: AaronGoodsBrain\n",
            "----------------------------------------------------------------------------------------------------\n",
            "number of nodes: 2\n",
            "number of edges: 1\n",
            "The second most central vertex by degree centrality: youtalkintome7\n",
            "----------------------------------------------------------------------------------------------------\n",
            "number of nodes: 2\n",
            "number of edges: 1\n",
            "The second most central vertex by degree centrality: pemble\n",
            "----------------------------------------------------------------------------------------------------\n",
            "number of nodes: 2\n",
            "number of edges: 1\n",
            "The second most central vertex by degree centrality: BurtmacklandFBI\n",
            "----------------------------------------------------------------------------------------------------\n",
            "number of nodes: 2\n",
            "number of edges: 1\n",
            "The second most central vertex by degree centrality: Rubixgent92\n",
            "----------------------------------------------------------------------------------------------------\n",
            "number of nodes: 2\n",
            "number of edges: 1\n",
            "The second most central vertex by degree centrality: fatjesusftfbc\n",
            "----------------------------------------------------------------------------------------------------\n",
            "number of nodes: 2\n",
            "number of edges: 2\n",
            "The second most central vertex by degree centrality: chiefdk\n",
            "----------------------------------------------------------------------------------------------------\n",
            "number of nodes: 2\n",
            "number of edges: 1\n",
            "The second most central vertex by degree centrality: taquitos45\n",
            "----------------------------------------------------------------------------------------------------\n",
            "number of nodes: 2\n",
            "number of edges: 1\n",
            "The second most central vertex by degree centrality: balmaniac\n",
            "----------------------------------------------------------------------------------------------------\n",
            "number of nodes: 2\n",
            "number of edges: 2\n",
            "The second most central vertex by degree centrality: bdaacq\n",
            "----------------------------------------------------------------------------------------------------\n",
            "number of nodes: 2\n",
            "number of edges: 1\n",
            "The second most central vertex by degree centrality: HAMSTERDAMAGE\n",
            "----------------------------------------------------------------------------------------------------\n",
            "number of nodes: 2\n",
            "number of edges: 2\n",
            "The second most central vertex by degree centrality: CMUber\n",
            "----------------------------------------------------------------------------------------------------\n",
            "number of nodes: 2\n",
            "number of edges: 1\n",
            "The second most central vertex by degree centrality: rowuco\n",
            "----------------------------------------------------------------------------------------------------\n",
            "number of nodes: 2\n",
            "number of edges: 1\n",
            "The second most central vertex by degree centrality: lovemozwei\n",
            "----------------------------------------------------------------------------------------------------\n",
            "number of nodes: 2\n",
            "number of edges: 1\n",
            "The second most central vertex by degree centrality: Geerage3\n",
            "----------------------------------------------------------------------------------------------------\n",
            "number of nodes: 2\n",
            "number of edges: 2\n",
            "The second most central vertex by degree centrality: CheapTrick32\n",
            "----------------------------------------------------------------------------------------------------\n",
            "number of nodes: 2\n",
            "number of edges: 1\n",
            "The second most central vertex by degree centrality: keyree\n",
            "----------------------------------------------------------------------------------------------------\n",
            "number of nodes: 2\n",
            "number of edges: 1\n",
            "The second most central vertex by degree centrality: denMAR\n",
            "----------------------------------------------------------------------------------------------------\n",
            "number of nodes: 2\n",
            "number of edges: 1\n",
            "The second most central vertex by degree centrality: Miles_Longer\n",
            "----------------------------------------------------------------------------------------------------\n",
            "number of nodes: 2\n",
            "number of edges: 1\n",
            "The second most central vertex by degree centrality: snoopyfive\n",
            "----------------------------------------------------------------------------------------------------\n",
            "number of nodes: 2\n",
            "number of edges: 1\n",
            "The second most central vertex by degree centrality: Hipsterbot\n",
            "----------------------------------------------------------------------------------------------------\n",
            "number of nodes: 2\n",
            "number of edges: 1\n",
            "The second most central vertex by degree centrality: RadicalFaces\n",
            "----------------------------------------------------------------------------------------------------\n",
            "number of nodes: 2\n",
            "number of edges: 1\n",
            "The second most central vertex by degree centrality: stealingyourpixels\n",
            "----------------------------------------------------------------------------------------------------\n",
            "number of nodes: 2\n",
            "number of edges: 2\n",
            "The second most central vertex by degree centrality: chaserjames\n",
            "----------------------------------------------------------------------------------------------------\n",
            "number of nodes: 2\n",
            "number of edges: 1\n",
            "The second most central vertex by degree centrality: LucidWindspark\n",
            "----------------------------------------------------------------------------------------------------\n",
            "number of nodes: 2\n",
            "number of edges: 1\n",
            "The second most central vertex by degree centrality: Jdeguzman\n",
            "----------------------------------------------------------------------------------------------------\n",
            "number of nodes: 2\n",
            "number of edges: 2\n",
            "The second most central vertex by degree centrality: calamormine\n",
            "----------------------------------------------------------------------------------------------------\n",
            "number of nodes: 2\n",
            "number of edges: 2\n",
            "The second most central vertex by degree centrality: Notsuru\n",
            "----------------------------------------------------------------------------------------------------\n",
            "number of nodes: 2\n",
            "number of edges: 1\n",
            "The second most central vertex by degree centrality: DougBoutabi\n",
            "----------------------------------------------------------------------------------------------------\n",
            "number of nodes: 2\n",
            "number of edges: 1\n",
            "The second most central vertex by degree centrality: lollface\n",
            "----------------------------------------------------------------------------------------------------\n",
            "number of nodes: 2\n",
            "number of edges: 1\n",
            "The second most central vertex by degree centrality: justinisntfunny\n",
            "----------------------------------------------------------------------------------------------------\n",
            "number of nodes: 2\n",
            "number of edges: 1\n",
            "The second most central vertex by degree centrality: jinmeister\n",
            "----------------------------------------------------------------------------------------------------\n",
            "number of nodes: 2\n",
            "number of edges: 2\n",
            "The second most central vertex by degree centrality: shawnisboring\n",
            "----------------------------------------------------------------------------------------------------\n",
            "number of nodes: 2\n",
            "number of edges: 2\n",
            "The second most central vertex by degree centrality: LittleCucumber\n",
            "----------------------------------------------------------------------------------------------------\n",
            "number of nodes: 2\n",
            "number of edges: 1\n",
            "The second most central vertex by degree centrality: veget-erin\n",
            "----------------------------------------------------------------------------------------------------\n",
            "number of nodes: 2\n",
            "number of edges: 1\n",
            "The second most central vertex by degree centrality: Kadventure\n",
            "----------------------------------------------------------------------------------------------------\n",
            "number of nodes: 2\n",
            "number of edges: 2\n",
            "The second most central vertex by degree centrality: hildiri\n",
            "----------------------------------------------------------------------------------------------------\n",
            "number of nodes: 2\n",
            "number of edges: 1\n",
            "The second most central vertex by degree centrality: michaelscarnfbi\n",
            "----------------------------------------------------------------------------------------------------\n",
            "number of nodes: 2\n",
            "number of edges: 1\n",
            "The second most central vertex by degree centrality: waffles_and_blowjobs\n",
            "----------------------------------------------------------------------------------------------------\n",
            "number of nodes: 2\n",
            "number of edges: 1\n",
            "The second most central vertex by degree centrality: thecoolguy1\n",
            "----------------------------------------------------------------------------------------------------\n",
            "number of nodes: 2\n",
            "number of edges: 1\n",
            "The second most central vertex by degree centrality: ArmoredAvenger\n",
            "----------------------------------------------------------------------------------------------------\n",
            "number of nodes: 2\n",
            "number of edges: 1\n",
            "The second most central vertex by degree centrality: morkle13\n",
            "----------------------------------------------------------------------------------------------------\n",
            "number of nodes: 2\n",
            "number of edges: 1\n",
            "The second most central vertex by degree centrality: PekkaHunter\n",
            "----------------------------------------------------------------------------------------------------\n",
            "number of nodes: 2\n",
            "number of edges: 1\n",
            "The second most central vertex by degree centrality: azrofox\n",
            "----------------------------------------------------------------------------------------------------\n",
            "number of nodes: 2\n",
            "number of edges: 1\n",
            "The second most central vertex by degree centrality: sydhasmybike\n",
            "----------------------------------------------------------------------------------------------------\n",
            "number of nodes: 2\n",
            "number of edges: 1\n",
            "The second most central vertex by degree centrality: knarp\n",
            "----------------------------------------------------------------------------------------------------\n",
            "number of nodes: 2\n",
            "number of edges: 1\n",
            "The second most central vertex by degree centrality: lawyer69\n",
            "----------------------------------------------------------------------------------------------------\n",
            "number of nodes: 2\n",
            "number of edges: 1\n",
            "The second most central vertex by degree centrality: elvisplayer\n",
            "----------------------------------------------------------------------------------------------------\n",
            "number of nodes: 2\n",
            "number of edges: 1\n",
            "The second most central vertex by degree centrality: PititJimmy\n",
            "----------------------------------------------------------------------------------------------------\n",
            "number of nodes: 2\n",
            "number of edges: 1\n",
            "The second most central vertex by degree centrality: lah2011\n",
            "----------------------------------------------------------------------------------------------------\n",
            "number of nodes: 2\n",
            "number of edges: 1\n",
            "The second most central vertex by degree centrality: Makan_Lagi\n",
            "----------------------------------------------------------------------------------------------------\n",
            "number of nodes: 2\n",
            "number of edges: 2\n",
            "The second most central vertex by degree centrality: AriHashemi\n",
            "----------------------------------------------------------------------------------------------------\n",
            "number of nodes: 2\n",
            "number of edges: 1\n",
            "The second most central vertex by degree centrality: leftyknox\n",
            "----------------------------------------------------------------------------------------------------\n",
            "number of nodes: 2\n",
            "number of edges: 1\n",
            "The second most central vertex by degree centrality: B_Elanna_Torres\n",
            "----------------------------------------------------------------------------------------------------\n",
            "number of nodes: 2\n",
            "number of edges: 1\n",
            "The second most central vertex by degree centrality: slamdunk6662003\n",
            "----------------------------------------------------------------------------------------------------\n",
            "number of nodes: 2\n",
            "number of edges: 1\n",
            "The second most central vertex by degree centrality: teazelbranchlet\n",
            "----------------------------------------------------------------------------------------------------\n",
            "number of nodes: 2\n",
            "number of edges: 1\n",
            "The second most central vertex by degree centrality: Afootlongdong\n",
            "----------------------------------------------------------------------------------------------------\n",
            "number of nodes: 2\n",
            "number of edges: 1\n",
            "The second most central vertex by degree centrality: anderson1321\n",
            "----------------------------------------------------------------------------------------------------\n",
            "number of nodes: 2\n",
            "number of edges: 1\n",
            "The second most central vertex by degree centrality: skian\n",
            "----------------------------------------------------------------------------------------------------\n",
            "number of nodes: 2\n",
            "number of edges: 1\n",
            "The second most central vertex by degree centrality: second_to_fun\n",
            "----------------------------------------------------------------------------------------------------\n",
            "number of nodes: 2\n",
            "number of edges: 1\n",
            "The second most central vertex by degree centrality: Silentforyears\n",
            "----------------------------------------------------------------------------------------------------\n",
            "number of nodes: 2\n",
            "number of edges: 1\n",
            "The second most central vertex by degree centrality: DrDoc\n",
            "----------------------------------------------------------------------------------------------------\n",
            "number of nodes: 2\n",
            "number of edges: 1\n",
            "The second most central vertex by degree centrality: crazyeasy\n"
          ]
        }
      ]
    },
    {
      "cell_type": "markdown",
      "metadata": {
        "id": "O5X4xYV9a9_5"
      },
      "source": [
        "## Part 2"
      ]
    },
    {
      "cell_type": "code",
      "metadata": {
        "id": "IA8jsfgTaxKh"
      },
      "source": [
        "import networkx as nx\n",
        "from networkx.algorithms.centrality import *\n",
        "from scipy.stats import spearmanr \n",
        "from networkx.generators.geometric import random_geometric_graph\n",
        "from networkx.algorithms.community import * "
      ],
      "execution_count": 65,
      "outputs": []
    },
    {
      "cell_type": "markdown",
      "metadata": {
        "id": "EPEVY9uYanSG"
      },
      "source": [
        "### Lets generate some networks\n",
        "\n",
        "Every network contains four sets of nodes. $a\\in \\{0.1,0.01\\}$ is the probability for an edge between two nodes in the same set. $b\\in \\{0.1,0.01\\}$ is the probability for an edge between two nodes in different communities."
      ]
    },
    {
      "cell_type": "code",
      "metadata": {
        "id": "WHpWnBJhanSS"
      },
      "source": [
        "blocks = [100,100,100,100]\n",
        "probs = [\n",
        "        [[a,b,b,b],\n",
        "         [b,a,b,b],\n",
        "         [b,b,a,b],\n",
        "         [b,b,b,a]]\n",
        "    for a,b in [(0.01,0.01),(0.1,0.01),(0.01,0.1)]\n",
        "    ]"
      ],
      "execution_count": 129,
      "outputs": []
    },
    {
      "cell_type": "code",
      "metadata": {
        "colab": {
          "base_uri": "https://localhost:8080/"
        },
        "id": "MtS91TWUanSy",
        "outputId": "1c7679de-9421-4e3f-80c3-bb9fd9a9acfb"
      },
      "source": [
        "nets = [nx.generators.community.stochastic_block_model(blocks,p) for p in probs*100]\n",
        "print(\"There are {} networks in total.\".format(len(nets)))"
      ],
      "execution_count": 122,
      "outputs": [
        {
          "output_type": "stream",
          "name": "stdout",
          "text": [
            "There are 300 networks in total.\n"
          ]
        }
      ]
    },
    {
      "cell_type": "code",
      "source": [
        "[p for p in probs*100][1]"
      ],
      "metadata": {
        "colab": {
          "base_uri": "https://localhost:8080/"
        },
        "id": "07tcQp2J1LmF",
        "outputId": "39500806-5186-4687-8332-36218e7686ab"
      },
      "execution_count": 135,
      "outputs": [
        {
          "output_type": "execute_result",
          "data": {
            "text/plain": [
              "[[0.1, 0.01, 0.01, 0.01],\n",
              " [0.01, 0.1, 0.01, 0.01],\n",
              " [0.01, 0.01, 0.1, 0.01],\n",
              " [0.01, 0.01, 0.01, 0.1]]"
            ]
          },
          "metadata": {},
          "execution_count": 135
        }
      ]
    },
    {
      "cell_type": "markdown",
      "metadata": {
        "id": "U6uzcmEUanTW"
      },
      "source": [
        "### Node centrality **(_max score - 10 points_)**\n",
        "Your code is here: replace [] accordingly to the comment in the row\n",
        "\n"
      ]
    },
    {
      "cell_type": "code",
      "metadata": {
        "id": "P6OkZrP2anTe"
      },
      "source": [
        "centralities =  [ {\n",
        "                    'degree': [value for value in nx.degree_centrality(G).values()] , #replace [] with a sequence of node degree centralities \n",
        "                    'closeness': [value for value in nx.closeness_centrality(G).values()] , #replace [] with a sequence of node closeness centralities  \n",
        "                    'betweenness': [value for value in nx.betweenness_centrality(G).values()]  #replace [] with a sequence of node betweenness centralities\n",
        "                  } \n",
        "                for G in nets\n",
        "                ]"
      ],
      "execution_count": 87,
      "outputs": []
    },
    {
      "cell_type": "code",
      "metadata": {
        "id": "rRZXnaiUanTv"
      },
      "source": [
        "#here we compute the corralations between the three centrality measures for each network\n",
        "#every network is characterized by the tripplet of centrality correlations\n",
        "centrality_correlations = [\n",
        "    (\n",
        "        spearmanr(c['degree'],c['closeness'])[0],\n",
        "        spearmanr(c['degree'],c['betweenness'])[0],\n",
        "        spearmanr(c['betweenness'],c['closeness'])[0],\n",
        "    )\n",
        "    for c in centralities\n",
        "]"
      ],
      "execution_count": 88,
      "outputs": []
    },
    {
      "cell_type": "markdown",
      "metadata": {
        "id": "F9dPEOceanT_"
      },
      "source": [
        "### Build a meta-network\n",
        "\n",
        "where networks are nodes connected by an edge if their centrality correlations are similar "
      ]
    },
    {
      "cell_type": "code",
      "metadata": {
        "id": "SdsMMRaeanUF"
      },
      "source": [
        "radius = 0.025\n",
        "G = random_geometric_graph(n=len(nets), radius=radius, dim=3, pos=dict(enumerate(centrality_correlations)))"
      ],
      "execution_count": 154,
      "outputs": []
    },
    {
      "cell_type": "code",
      "metadata": {
        "colab": {
          "base_uri": "https://localhost:8080/"
        },
        "id": "x_iVVHOuanUV",
        "outputId": "dcee85a8-64b3-4dcc-e224-50272f0065cd"
      },
      "source": [
        "print(\"number of nodes in G is the same as the number of networks in nets:{}\".format(G.number_of_nodes()))\n",
        "print(\"number of edges in G is:{}\".format(G.number_of_edges()))"
      ],
      "execution_count": 144,
      "outputs": [
        {
          "output_type": "stream",
          "name": "stdout",
          "text": [
            "number of nodes in G is the same as the number of networks in nets:300\n",
            "number of edges in G is:11136\n"
          ]
        }
      ]
    },
    {
      "cell_type": "code",
      "metadata": {
        "id": "cGLCb-SyanUm",
        "colab": {
          "base_uri": "https://localhost:8080/",
          "height": 319
        },
        "outputId": "9f10ad58-b808-4ffb-b88d-5994d6768d7e"
      },
      "source": [
        "pos = nx.spring_layout(G)\n",
        "nx.draw(G, pos=pos,node_size=5,alpha=0.2)"
      ],
      "execution_count": 155,
      "outputs": [
        {
          "output_type": "display_data",
          "data": {
            "text/plain": [
              "<Figure size 432x288 with 1 Axes>"
            ],
            "image/png": "[encoded data removed]"
          },
          "metadata": {}
        }
      ]
    },
    {
      "cell_type": "markdown",
      "metadata": {
        "id": "lUuY_8eVanU3"
      },
      "source": [
        "### Communities"
      ]
    },
    {
      "cell_type": "markdown",
      "metadata": {
        "id": "P1rjhXqeanU8"
      },
      "source": [
        "#### What is the number of communities in nets[1]? **(_max score - 10 points_)**\n",
        "- Use _greedy_modularity_communities_"
      ]
    },
    {
      "cell_type": "code",
      "metadata": {
        "id": "7dIbdaL2anVB",
        "colab": {
          "base_uri": "https://localhost:8080/"
        },
        "outputId": "b01c2364-d9dc-4d6e-a20a-8b645e018580"
      },
      "source": [
        "#find the community structure of nets[1] and print the number of communities in nets[1]\n",
        "\n",
        "cc = greedy_modularity_communities(nets[1]) # this can take some time\n",
        "print('The number of communities in nets[1]:', len(cc))"
      ],
      "execution_count": 96,
      "outputs": [
        {
          "output_type": "stream",
          "name": "stdout",
          "text": [
            "The number of communities in nets[1]: 4\n"
          ]
        }
      ]
    },
    {
      "cell_type": "markdown",
      "metadata": {
        "id": "NpK0SkWvanVR"
      },
      "source": [
        "#### How could you know it without running community detection? **(_max score - 10 points_)**"
      ]
    },
    {
      "cell_type": "code",
      "source": [
        "# We know the structure of the probabilities for nets[1]:\n",
        "\n",
        "[p for p in probs*100][1]"
      ],
      "metadata": {
        "colab": {
          "base_uri": "https://localhost:8080/"
        },
        "id": "L1owJMNL1lXx",
        "outputId": "fc31dddc-7ffb-441c-9570-7b98ed40a1b6"
      },
      "execution_count": 136,
      "outputs": [
        {
          "output_type": "execute_result",
          "data": {
            "text/plain": [
              "[[0.1, 0.01, 0.01, 0.01],\n",
              " [0.01, 0.1, 0.01, 0.01],\n",
              " [0.01, 0.01, 0.1, 0.01],\n",
              " [0.01, 0.01, 0.01, 0.1]]"
            ]
          },
          "metadata": {},
          "execution_count": 136
        }
      ]
    },
    {
      "cell_type": "markdown",
      "source": [
        "As we create the net this matrix is abour \"Element (r,s) gives the density of edges going from the nodes of group r to nodes of group s.\" so, for the nets[1] the density inside 4 groups are in 10 times higher and most probably will lead to creates 4 comminuties - the nodes with more edges inside than outside."
      ],
      "metadata": {
        "id": "qGQ7wtD111NU"
      }
    },
    {
      "cell_type": "code",
      "source": [
        "pos = nx.spring_layout(nets[1])\n",
        "nx.draw(nets[1], pos=pos,node_size=5,alpha=0.2)"
      ],
      "metadata": {
        "colab": {
          "base_uri": "https://localhost:8080/",
          "height": 319
        },
        "id": "IfEDUgCOxIzm",
        "outputId": "9375048d-4b06-486f-fd38-cbdb4915c053"
      },
      "execution_count": 124,
      "outputs": [
        {
          "output_type": "display_data",
          "data": {
            "text/plain": [
              "<Figure size 432x288 with 1 Axes>"
            ],
            "image/png": "[encoded data removed]"
          },
          "metadata": {}
        }
      ]
    },
    {
      "cell_type": "markdown",
      "metadata": {
        "id": "02cqRhn7anVW"
      },
      "source": []
    },
    {
      "cell_type": "markdown",
      "metadata": {
        "id": "thvrQrAQanVb"
      },
      "source": [
        "#### What is the number of communities in the meta-network G? **(_max score - 10 points_)**"
      ]
    },
    {
      "cell_type": "code",
      "metadata": {
        "id": "GRnvPwCOr98b",
        "colab": {
          "base_uri": "https://localhost:8080/"
        },
        "outputId": "00d2d946-a446-4db7-f308-b2f8b6568fd0"
      },
      "source": [
        "# Find the number of communities in G\n",
        "cc = greedy_modularity_communities(G) # this can take some time\n",
        "print('The number of communities in G:', len(cc))"
      ],
      "execution_count": 94,
      "outputs": [
        {
          "output_type": "stream",
          "name": "stdout",
          "text": [
            "The number of communities in G: 3\n"
          ]
        }
      ]
    },
    {
      "cell_type": "markdown",
      "metadata": {
        "id": "5zmV-qyOanVw"
      },
      "source": [
        "#### Can you explain why this is the number of communities in G? **(_max score - 10 points_)**"
      ]
    },
    {
      "cell_type": "markdown",
      "metadata": {
        "id": "1R14BCIuanV0"
      },
      "source": [
        "We could see it on the graph and plot how this is changes with changig the radius - the bigger it will be the more edges will be added between nodes and more connected the graph will be."
      ]
    }
  ]
}