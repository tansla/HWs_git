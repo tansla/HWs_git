{
  "nbformat": 4,
  "nbformat_minor": 0,
  "metadata": {
    "colab": {
      "provenance": [],
      "include_colab_link": true
    },
    "kernelspec": {
      "display_name": "Python 3",
      "language": "python",
      "name": "python3"
    },
    "accelerator": "GPU",
    "widgets": {
      "application/vnd.jupyter.widget-state+json": {
        "2fa354a6d8b24aeb9e8cd826e8e72f0a": {
          "model_module": "@jupyter-widgets/controls",
          "model_name": "HBoxModel",
          "model_module_version": "1.5.0",
          "state": {
            "_dom_classes": [],
            "_model_module": "@jupyter-widgets/controls",
            "_model_module_version": "1.5.0",
            "_model_name": "HBoxModel",
            "_view_count": null,
            "_view_module": "@jupyter-widgets/controls",
            "_view_module_version": "1.5.0",
            "_view_name": "HBoxView",
            "box_style": "",
            "children": [
              "IPY_MODEL_a5c4a4db677a499b92f00704f4fd6fd2",
              "IPY_MODEL_1d2cb08b93fc4538b691987dd1a1a1e9",
              "IPY_MODEL_fd6e06e28a42490b99bda1389e55209e"
            ],
            "layout": "IPY_MODEL_fb40e4c7bec44bdcb28e2562cd561b09"
          }
        },
        "a5c4a4db677a499b92f00704f4fd6fd2": {
          "model_module": "@jupyter-widgets/controls",
          "model_name": "HTMLModel",
          "model_module_version": "1.5.0",
          "state": {
            "_dom_classes": [],
            "_model_module": "@jupyter-widgets/controls",
            "_model_module_version": "1.5.0",
            "_model_name": "HTMLModel",
            "_view_count": null,
            "_view_module": "@jupyter-widgets/controls",
            "_view_module_version": "1.5.0",
            "_view_name": "HTMLView",
            "description": "",
            "description_tooltip": null,
            "layout": "IPY_MODEL_0e3e142586354cd3ab5ec43f34723ebb",
            "placeholder": "​",
            "style": "IPY_MODEL_a00a95d4a4684e65ac2edc9b4fb1b478",
            "value": "100%"
          }
        },
        "1d2cb08b93fc4538b691987dd1a1a1e9": {
          "model_module": "@jupyter-widgets/controls",
          "model_name": "FloatProgressModel",
          "model_module_version": "1.5.0",
          "state": {
            "_dom_classes": [],
            "_model_module": "@jupyter-widgets/controls",
            "_model_module_version": "1.5.0",
            "_model_name": "FloatProgressModel",
            "_view_count": null,
            "_view_module": "@jupyter-widgets/controls",
            "_view_module_version": "1.5.0",
            "_view_name": "ProgressView",
            "bar_style": "success",
            "description": "",
            "description_tooltip": null,
            "layout": "IPY_MODEL_4f9da4bf106342e4857f54f4b3e9bae7",
            "max": 170498071,
            "min": 0,
            "orientation": "horizontal",
            "style": "IPY_MODEL_10d066ebe2e146a4bb219e6b6dbd4e2e",
            "value": 170498071
          }
        },
        "fd6e06e28a42490b99bda1389e55209e": {
          "model_module": "@jupyter-widgets/controls",
          "model_name": "HTMLModel",
          "model_module_version": "1.5.0",
          "state": {
            "_dom_classes": [],
            "_model_module": "@jupyter-widgets/controls",
            "_model_module_version": "1.5.0",
            "_model_name": "HTMLModel",
            "_view_count": null,
            "_view_module": "@jupyter-widgets/controls",
            "_view_module_version": "1.5.0",
            "_view_name": "HTMLView",
            "description": "",
            "description_tooltip": null,
            "layout": "IPY_MODEL_d5fa6f4a28694a93b953863b835fb9de",
            "placeholder": "​",
            "style": "IPY_MODEL_4381ecc7c45c4b3888df0a313969c1a6",
            "value": " 170498071/170498071 [00:13&lt;00:00, 13751709.46it/s]"
          }
        },
        "fb40e4c7bec44bdcb28e2562cd561b09": {
          "model_module": "@jupyter-widgets/base",
          "model_name": "LayoutModel",
          "model_module_version": "1.2.0",
          "state": {
            "_model_module": "@jupyter-widgets/base",
            "_model_module_version": "1.2.0",
            "_model_name": "LayoutModel",
            "_view_count": null,
            "_view_module": "@jupyter-widgets/base",
            "_view_module_version": "1.2.0",
            "_view_name": "LayoutView",
            "align_content": null,
            "align_items": null,
            "align_self": null,
            "border": null,
            "bottom": null,
            "display": null,
            "flex": null,
            "flex_flow": null,
            "grid_area": null,
            "grid_auto_columns": null,
            "grid_auto_flow": null,
            "grid_auto_rows": null,
            "grid_column": null,
            "grid_gap": null,
            "grid_row": null,
            "grid_template_areas": null,
            "grid_template_columns": null,
            "grid_template_rows": null,
            "height": null,
            "justify_content": null,
            "justify_items": null,
            "left": null,
            "margin": null,
            "max_height": null,
            "max_width": null,
            "min_height": null,
            "min_width": null,
            "object_fit": null,
            "object_position": null,
            "order": null,
            "overflow": null,
            "overflow_x": null,
            "overflow_y": null,
            "padding": null,
            "right": null,
            "top": null,
            "visibility": null,
            "width": null
          }
        },
        "0e3e142586354cd3ab5ec43f34723ebb": {
          "model_module": "@jupyter-widgets/base",
          "model_name": "LayoutModel",
          "model_module_version": "1.2.0",
          "state": {
            "_model_module": "@jupyter-widgets/base",
            "_model_module_version": "1.2.0",
            "_model_name": "LayoutModel",
            "_view_count": null,
            "_view_module": "@jupyter-widgets/base",
            "_view_module_version": "1.2.0",
            "_view_name": "LayoutView",
            "align_content": null,
            "align_items": null,
            "align_self": null,
            "border": null,
            "bottom": null,
            "display": null,
            "flex": null,
            "flex_flow": null,
            "grid_area": null,
            "grid_auto_columns": null,
            "grid_auto_flow": null,
            "grid_auto_rows": null,
            "grid_column": null,
            "grid_gap": null,
            "grid_row": null,
            "grid_template_areas": null,
            "grid_template_columns": null,
            "grid_template_rows": null,
            "height": null,
            "justify_content": null,
            "justify_items": null,
            "left": null,
            "margin": null,
            "max_height": null,
            "max_width": null,
            "min_height": null,
            "min_width": null,
            "object_fit": null,
            "object_position": null,
            "order": null,
            "overflow": null,
            "overflow_x": null,
            "overflow_y": null,
            "padding": null,
            "right": null,
            "top": null,
            "visibility": null,
            "width": null
          }
        },
        "a00a95d4a4684e65ac2edc9b4fb1b478": {
          "model_module": "@jupyter-widgets/controls",
          "model_name": "DescriptionStyleModel",
          "model_module_version": "1.5.0",
          "state": {
            "_model_module": "@jupyter-widgets/controls",
            "_model_module_version": "1.5.0",
            "_model_name": "DescriptionStyleModel",
            "_view_count": null,
            "_view_module": "@jupyter-widgets/base",
            "_view_module_version": "1.2.0",
            "_view_name": "StyleView",
            "description_width": ""
          }
        },
        "4f9da4bf106342e4857f54f4b3e9bae7": {
          "model_module": "@jupyter-widgets/base",
          "model_name": "LayoutModel",
          "model_module_version": "1.2.0",
          "state": {
            "_model_module": "@jupyter-widgets/base",
            "_model_module_version": "1.2.0",
            "_model_name": "LayoutModel",
            "_view_count": null,
            "_view_module": "@jupyter-widgets/base",
            "_view_module_version": "1.2.0",
            "_view_name": "LayoutView",
            "align_content": null,
            "align_items": null,
            "align_self": null,
            "border": null,
            "bottom": null,
            "display": null,
            "flex": null,
            "flex_flow": null,
            "grid_area": null,
            "grid_auto_columns": null,
            "grid_auto_flow": null,
            "grid_auto_rows": null,
            "grid_column": null,
            "grid_gap": null,
            "grid_row": null,
            "grid_template_areas": null,
            "grid_template_columns": null,
            "grid_template_rows": null,
            "height": null,
            "justify_content": null,
            "justify_items": null,
            "left": null,
            "margin": null,
            "max_height": null,
            "max_width": null,
            "min_height": null,
            "min_width": null,
            "object_fit": null,
            "object_position": null,
            "order": null,
            "overflow": null,
            "overflow_x": null,
            "overflow_y": null,
            "padding": null,
            "right": null,
            "top": null,
            "visibility": null,
            "width": null
          }
        },
        "10d066ebe2e146a4bb219e6b6dbd4e2e": {
          "model_module": "@jupyter-widgets/controls",
          "model_name": "ProgressStyleModel",
          "model_module_version": "1.5.0",
          "state": {
            "_model_module": "@jupyter-widgets/controls",
            "_model_module_version": "1.5.0",
            "_model_name": "ProgressStyleModel",
            "_view_count": null,
            "_view_module": "@jupyter-widgets/base",
            "_view_module_version": "1.2.0",
            "_view_name": "StyleView",
            "bar_color": null,
            "description_width": ""
          }
        },
        "d5fa6f4a28694a93b953863b835fb9de": {
          "model_module": "@jupyter-widgets/base",
          "model_name": "LayoutModel",
          "model_module_version": "1.2.0",
          "state": {
            "_model_module": "@jupyter-widgets/base",
            "_model_module_version": "1.2.0",
            "_model_name": "LayoutModel",
            "_view_count": null,
            "_view_module": "@jupyter-widgets/base",
            "_view_module_version": "1.2.0",
            "_view_name": "LayoutView",
            "align_content": null,
            "align_items": null,
            "align_self": null,
            "border": null,
            "bottom": null,
            "display": null,
            "flex": null,
            "flex_flow": null,
            "grid_area": null,
            "grid_auto_columns": null,
            "grid_auto_flow": null,
            "grid_auto_rows": null,
            "grid_column": null,
            "grid_gap": null,
            "grid_row": null,
            "grid_template_areas": null,
            "grid_template_columns": null,
            "grid_template_rows": null,
            "height": null,
            "justify_content": null,
            "justify_items": null,
            "left": null,
            "margin": null,
            "max_height": null,
            "max_width": null,
            "min_height": null,
            "min_width": null,
            "object_fit": null,
            "object_position": null,
            "order": null,
            "overflow": null,
            "overflow_x": null,
            "overflow_y": null,
            "padding": null,
            "right": null,
            "top": null,
            "visibility": null,
            "width": null
          }
        },
        "4381ecc7c45c4b3888df0a313969c1a6": {
          "model_module": "@jupyter-widgets/controls",
          "model_name": "DescriptionStyleModel",
          "model_module_version": "1.5.0",
          "state": {
            "_model_module": "@jupyter-widgets/controls",
            "_model_module_version": "1.5.0",
            "_model_name": "DescriptionStyleModel",
            "_view_count": null,
            "_view_module": "@jupyter-widgets/base",
            "_view_module_version": "1.2.0",
            "_view_name": "StyleView",
            "description_width": ""
          }
        }
      }
    }
  },
  "cells": [
    {
      "cell_type": "markdown",
      "metadata": {
        "id": "view-in-github",
        "colab_type": "text"
      },
      "source": [
        "<a href=\"https://colab.research.google.com/github/tansla/HWs_git/blob/master/H_W_2_cifar2_Tatiana_and_Hadas_(1).ipynb\" target=\"_parent\"><img src=\"https://colab.research.google.com/assets/colab-badge.svg\" alt=\"Open In Colab\"/></a>"
      ]
    },
    {
      "metadata": {
        "id": "BU6-Ftb3b1r8"
      },
      "cell_type": "markdown",
      "source": [
        "# Implementing a Neural Network for CIFAR dataset\n",
        "In this exercise, you should change H.W_1 to work on the CIFAR dataset.\n",
        "\n",
        "CIFAR is a dataset that consists of 60,000 32x32 colour images in 10 classes (airplane, automobile, bird, cat, deer, dog, frog, horse, ship, truck), with 6000 images per class.\n",
        "\n",
        "We will have the same components as were in the previous exercise:\n",
        "- Loading the data and visualize some of the images\n",
        "- Training the model. Instead of loading a pre-trained model, we will define a new very basic architecture.\n"
      ]
    },
    {
      "metadata": {
        "id": "ovTPl1D_b1sB"
      },
      "cell_type": "markdown",
      "source": [
        "## 1) Loading CIFAR dataset (10 points)"
      ]
    },
    {
      "cell_type": "markdown",
      "source": [
        "You should load the CIFAR dataset. You can use [the pytorch CIFAR tutorial](https://pytorch.org/tutorials/beginner/blitz/cifar10_tutorial.html). You should define a dictionary of ``dataloaders``. For now, no need to define pre-process to the data. \n",
        "Please create a dataloaders disctionary ``{'train','val'}``\n",
        "\n",
        "You can use batch_size = 128"
      ],
      "metadata": {
        "id": "3MnBLXdCPtzB"
      }
    },
    {
      "cell_type": "code",
      "source": [
        "import copy\n",
        "import time\n",
        "import torch\n",
        "import torchvision\n",
        "import torchvision.transforms as transforms\n",
        "import torch.nn as nn\n",
        "import torch.optim as optim\n",
        "from torch.optim import lr_scheduler"
      ],
      "metadata": {
        "id": "g31onDKJElED"
      },
      "execution_count": null,
      "outputs": []
    },
    {
      "metadata": {
        "id": "8bAzo6A_b1sC"
      },
      "cell_type": "code",
      "source": [
        "class_names = ['plane', 'car', 'bird', 'cat', 'deer', 'dog', 'frog', 'horse', 'ship', 'truck']\n",
        "### Enter you code here"
      ],
      "execution_count": null,
      "outputs": []
    },
    {
      "cell_type": "markdown",
      "source": [
        "Defining the two transformers"
      ],
      "metadata": {
        "id": "Z-GI6tiSFRr-"
      }
    },
    {
      "cell_type": "code",
      "source": [
        "data_transforms = {\n",
        "    'train': transforms.Compose([\n",
        "        transforms.ToTensor()\n",
        "    ]),\n",
        "    'val': transforms.Compose([\n",
        "        transforms.ToTensor()\n",
        "    ]),\n",
        "}"
      ],
      "metadata": {
        "id": "hZCpz2nvE46s"
      },
      "execution_count": null,
      "outputs": []
    },
    {
      "cell_type": "markdown",
      "source": [
        "Defining the two image sets"
      ],
      "metadata": {
        "id": "JytAsD6oFme6"
      }
    },
    {
      "cell_type": "code",
      "source": [
        "batch_size = 128\n",
        "\n",
        "trainset = torchvision.datasets.CIFAR10(root='./data', train=True,\n",
        "                                        download=True, transform=data_transforms['train'])\n",
        "\n",
        "\n",
        "valset = torchvision.datasets.CIFAR10(root='./data', train=False,\n",
        "                                       download=True, transform=data_transforms['val'])\n",
        "\n",
        "dataset_sizes = {\n",
        "    'train': len(trainset),\n",
        "    'val': len(valset)\n",
        "    }"
      ],
      "metadata": {
        "colab": {
          "base_uri": "https://localhost:8080/",
          "height": 103,
          "referenced_widgets": [
            "2fa354a6d8b24aeb9e8cd826e8e72f0a",
            "a5c4a4db677a499b92f00704f4fd6fd2",
            "1d2cb08b93fc4538b691987dd1a1a1e9",
            "fd6e06e28a42490b99bda1389e55209e",
            "fb40e4c7bec44bdcb28e2562cd561b09",
            "0e3e142586354cd3ab5ec43f34723ebb",
            "a00a95d4a4684e65ac2edc9b4fb1b478",
            "4f9da4bf106342e4857f54f4b3e9bae7",
            "10d066ebe2e146a4bb219e6b6dbd4e2e",
            "d5fa6f4a28694a93b953863b835fb9de",
            "4381ecc7c45c4b3888df0a313969c1a6"
          ]
        },
        "id": "akmSPHuQFol7",
        "outputId": "6cc1354b-a58a-4955-9276-4599476c8319"
      },
      "execution_count": null,
      "outputs": [
        {
          "output_type": "stream",
          "name": "stdout",
          "text": [
            "Downloading https://www.cs.toronto.edu/~kriz/cifar-10-python.tar.gz to ./data/cifar-10-python.tar.gz\n"
          ]
        },
        {
          "output_type": "display_data",
          "data": {
            "text/plain": [
              "  0%|          | 0/170498071 [00:00<?, ?it/s]"
            ],
            "application/vnd.jupyter.widget-view+json": {
              "version_major": 2,
              "version_minor": 0,
              "model_id": "2fa354a6d8b24aeb9e8cd826e8e72f0a"
            }
          },
          "metadata": {}
        },
        {
          "output_type": "stream",
          "name": "stdout",
          "text": [
            "Extracting ./data/cifar-10-python.tar.gz to ./data\n",
            "Files already downloaded and verified\n"
          ]
        }
      ]
    },
    {
      "cell_type": "code",
      "source": [
        "len(valset)"
      ],
      "metadata": {
        "colab": {
          "base_uri": "https://localhost:8080/"
        },
        "id": "s8veCdhYKq-M",
        "outputId": "c427641f-c517-411f-abab-cb7005b53dd0"
      },
      "execution_count": null,
      "outputs": [
        {
          "output_type": "execute_result",
          "data": {
            "text/plain": [
              "10000"
            ]
          },
          "metadata": {},
          "execution_count": 5
        }
      ]
    },
    {
      "cell_type": "markdown",
      "source": [
        "Defining the data loaders"
      ],
      "metadata": {
        "id": "mPDhr0cOFVPq"
      }
    },
    {
      "cell_type": "code",
      "source": [
        "dataloaders = {\n",
        "    'train': torch.utils.data.DataLoader(trainset, batch_size=batch_size,\n",
        "                                          shuffle=True, num_workers=2),\n",
        "    'val': torch.utils.data.DataLoader(valset, batch_size=batch_size,\n",
        "                                         shuffle=False, num_workers=2)\n",
        "  }"
      ],
      "metadata": {
        "id": "bJ8KOV7eFX1b"
      },
      "execution_count": null,
      "outputs": []
    },
    {
      "cell_type": "code",
      "source": [
        "# Check for the availability of a GPU, and use CPU otherwise\n",
        "device = torch.device(\"cuda:0\" if torch.cuda.is_available() else \"cpu\")\n",
        "device"
      ],
      "metadata": {
        "id": "yRRXBXkvpAwv",
        "colab": {
          "base_uri": "https://localhost:8080/"
        },
        "outputId": "049fddd1-b9c6-4714-fb24-f73662e3928a"
      },
      "execution_count": null,
      "outputs": [
        {
          "output_type": "execute_result",
          "data": {
            "text/plain": [
              "device(type='cuda', index=0)"
            ]
          },
          "metadata": {},
          "execution_count": 7
        }
      ]
    },
    {
      "cell_type": "markdown",
      "source": [
        "**If you manage to load the CIFAR data correctly, you should run the next three cells and see some of the images.**"
      ],
      "metadata": {
        "id": "4AZrcZPki7A_"
      }
    },
    {
      "cell_type": "markdown",
      "source": [
        "## Visualize some of the training images"
      ],
      "metadata": {
        "id": "sfq03MwaTJSQ"
      }
    },
    {
      "cell_type": "markdown",
      "source": [
        "In this dataset the size of the images are 32x32. \n",
        "\n",
        "It is important to visualize the data in order to see that we load them correctly (maybe we need to divide by 255? should we make channel permutations?) \n",
        "\n",
        "The code below was taken from H.W_1 school solution"
      ],
      "metadata": {
        "id": "A2oILjGNTVhP"
      }
    },
    {
      "cell_type": "code",
      "source": [
        "inputs, classes = next(iter(dataloaders['train']))\n",
        "inputs = inputs[0:16]\n",
        "classes = classes[0:16]"
      ],
      "metadata": {
        "id": "va_zicFdQi92"
      },
      "execution_count": null,
      "outputs": []
    },
    {
      "metadata": {
        "id": "UkqNNRbOb1sF"
      },
      "cell_type": "code",
      "source": [
        "import numpy as np\n",
        "import matplotlib.pyplot as plt\n",
        "def imshow(inp, title=None):\n",
        "    \"\"\"Imshow for Tensor.\"\"\"\n",
        "    inp = inp.numpy().transpose((1, 2, 0))\n",
        "    inp = np.clip(inp, 0, 1)\n",
        "    fig = plt.figure(figsize=(5,3), dpi=300)\n",
        "    plt.imshow(inp)\n",
        "    if title is not None:\n",
        "       plt.title(title, fontsize=5)\n",
        "    plt.pause(0.001)  # pause a bit so that plots are updated"
      ],
      "execution_count": null,
      "outputs": []
    },
    {
      "cell_type": "code",
      "source": [
        "# Make a grid from batch\n",
        "out = torchvision.utils.make_grid(inputs, nrow=8)\n",
        "imshow(out, title='\\n'.join([class_names[x] for x in classes]))"
      ],
      "metadata": {
        "id": "P3RLKeR5TiKI",
        "colab": {
          "base_uri": "https://localhost:8080/",
          "height": 834
        },
        "outputId": "99cafd52-a5aa-4657-bf44-4245a7d80822"
      },
      "execution_count": null,
      "outputs": [
        {
          "output_type": "display_data",
          "data": {
            "text/plain": [
              "<Figure size 1500x900 with 1 Axes>"
            ],
            "image/png": "[encoded data removed]"
          },
          "metadata": {
            "needs_background": "light"
          }
        }
      ]
    },
    {
      "metadata": {
        "id": "3hs_Z3Pib1sN"
      },
      "cell_type": "markdown",
      "source": [
        "## A 2-layer Neural Network"
      ]
    },
    {
      "metadata": {
        "id": "HN8tSjQFb1sO"
      },
      "cell_type": "markdown",
      "source": [
        "We will define 2-fully-connected-layer network using Sequential module. We have two hidden layers: the first one has 100 neurons and the second one has 20 neurons. The last layer is the output that has 10 elements.\n",
        "\n",
        "Please pay attention that we take images after flattening (line 15 below)."
      ]
    },
    {
      "metadata": {
        "id": "yNhW2McRb1sP"
      },
      "cell_type": "code",
      "source": [
        "class NeuralNetwork(nn.Module):\n",
        "    def __init__(self):\n",
        "        super(NeuralNetwork, self).__init__()\n",
        "        self.flatten = nn.Flatten()\n",
        "        self.linear_relu_stack = nn.Sequential(\n",
        "            nn.Linear(32*32*3, 100),\n",
        "            nn.ReLU(),\n",
        "            nn.Linear(100, 20),\n",
        "            nn.ReLU(),\n",
        "            nn.Linear(20, 10),\n",
        "        )\n",
        "\n",
        "\n",
        "    def forward(self, x):\n",
        "        x = self.flatten(x)\n",
        "        logits = self.linear_relu_stack(x)\n",
        "        return logits"
      ],
      "execution_count": null,
      "outputs": []
    },
    {
      "cell_type": "code",
      "source": [
        "model = NeuralNetwork().to(device)\n",
        "print(model)"
      ],
      "metadata": {
        "id": "pf8pYxtDosaA",
        "colab": {
          "base_uri": "https://localhost:8080/"
        },
        "outputId": "c2472064-770e-43cd-a69c-05b72ffba1fc"
      },
      "execution_count": null,
      "outputs": [
        {
          "output_type": "stream",
          "name": "stdout",
          "text": [
            "NeuralNetwork(\n",
            "  (flatten): Flatten(start_dim=1, end_dim=-1)\n",
            "  (linear_relu_stack): Sequential(\n",
            "    (0): Linear(in_features=3072, out_features=100, bias=True)\n",
            "    (1): ReLU()\n",
            "    (2): Linear(in_features=100, out_features=20, bias=True)\n",
            "    (3): ReLU()\n",
            "    (4): Linear(in_features=20, out_features=10, bias=True)\n",
            "  )\n",
            ")\n"
          ]
        }
      ]
    },
    {
      "cell_type": "markdown",
      "source": [
        "**Pay attention, when you train a network and change something in the parameters, the data, data loaders, image transform, optimizations and more...you should load the model again so it will start from random weights and not from the last training**.\n",
        "\n",
        "**You should run again the line** ``model = NeuralNetwork().to(device)``"
      ],
      "metadata": {
        "id": "1yLN2disJaYe"
      }
    },
    {
      "cell_type": "markdown",
      "source": [
        "\n",
        "The next two cells (defining the loss and the training loop) were copied from last exercise. \n"
      ],
      "metadata": {
        "id": "h26PigiUkWFk"
      }
    },
    {
      "cell_type": "code",
      "source": [
        "# If a GPU is available, make the model use it\n",
        "model = model.to(device)\n",
        "\n",
        "# For a multi-class problem, you'd usually prefer CrossEntropyLoss()\n",
        "criterion = nn.CrossEntropyLoss()\n",
        "\n",
        "# Use Stochastic Gradient Descent as the optimizer, with a learning rate of 0.0001 and momentum\n",
        "optimizer_ft = optim.SGD(model.parameters(), lr=0.001, momentum=0.9)\n",
        "\n",
        "# Decay LR by a factor of 0.1 every 7 epochs\n",
        "exp_lr_scheduler = lr_scheduler.StepLR(optimizer_ft, step_size=7, gamma=0.1)\n",
        "\n",
        "num_epochs = 10"
      ],
      "metadata": {
        "id": "wXtEcNnKo6Mt"
      },
      "execution_count": null,
      "outputs": []
    },
    {
      "cell_type": "code",
      "source": [
        "def train_model(model, dataloaders, criterion, optimizer, scheduler, num_epochs=25):\n",
        "    since = time.time()\n",
        "\n",
        "    # Init variables that will save info about the best model\n",
        "    best_model_wts = copy.deepcopy(model.state_dict())\n",
        "    best_acc = 0.0\n",
        "\n",
        "    for epoch in range(num_epochs):\n",
        "        print('Epoch {}/{}'.format(epoch, num_epochs - 1))\n",
        "        print('-' * 10)\n",
        "\n",
        "        # Each epoch has a training and validation phase\n",
        "        for phase in ['train', 'val']:\n",
        "            if phase == 'train':\n",
        "                # Set model to training mode. \n",
        "                model.train()  \n",
        "            else:\n",
        "                # Set model to evaluate mode. In evaluate mode, we don't perform backprop and don't need to keep the gradients\n",
        "                model.eval()   \n",
        "\n",
        "            running_loss = 0.0\n",
        "            running_corrects = 0\n",
        "\n",
        "            # Iterate over data\n",
        "            for inputs, labels in dataloaders[phase]:\n",
        "                # Prepare the inputs for GPU/CPU\n",
        "                inputs = inputs.to(device)\n",
        "                labels = labels.to(device)\n",
        "\n",
        "                # zero the parameter gradients\n",
        "                optimizer.zero_grad()\n",
        "\n",
        "                # ===== forward pass ======\n",
        "                with torch.set_grad_enabled(phase=='train'):\n",
        "                    # If we're in train mode, we'll track the gradients to allow back-propagation\n",
        "                    outputs = model(inputs) # apply the model to the inputs. The output is the softmax probability of each class\n",
        "                    _, preds = torch.max(outputs, 1) # \n",
        "                    loss = criterion(outputs, labels)\n",
        "\n",
        "                    # ==== backward pass + optimizer step ====\n",
        "                    # This runs only in the training phase\n",
        "                    if phase == 'train':\n",
        "                        loss.backward() # Perform a step in the opposite direction of the gradient\n",
        "                        optimizer.step() # Adapt the optimizer\n",
        "\n",
        "                # Collect statistics\n",
        "                running_loss += loss.item() * inputs.size(0)\n",
        "                running_corrects += torch.sum(preds == labels.data)\n",
        "                \n",
        "            if phase == 'train':\n",
        "                # Adjust the learning rate based on the scheduler\n",
        "                scheduler.step()  \n",
        "\n",
        "            epoch_loss = running_loss / dataset_sizes[phase]\n",
        "            epoch_acc = running_corrects.double() / dataset_sizes[phase]\n",
        "\n",
        "            print(f'{phase} Loss: {epoch_loss:.4f} Acc: {epoch_acc:.4f}')\n",
        "\n",
        "            # Keep the results of the best model so far\n",
        "            if phase == 'val' and epoch_acc > best_acc:\n",
        "                best_acc = epoch_acc\n",
        "                # deepcopy the model\n",
        "                best_model_wts = copy.deepcopy(model.state_dict())\n",
        "\n",
        "        print()\n",
        "\n",
        "    time_elapsed = time.time() - since\n",
        "    print(f'Training complete in {(time_elapsed // 60):.0f}m {(time_elapsed % 60):.0f}s')\n",
        "    print(f'Best val Acc: {best_acc:4f}')\n",
        "\n",
        "    # load best model weights\n",
        "    model.load_state_dict(best_model_wts)\n",
        "    return model"
      ],
      "metadata": {
        "id": "vntk-kp5psrx"
      },
      "execution_count": null,
      "outputs": []
    },
    {
      "cell_type": "code",
      "source": [
        "model = train_model(model, \n",
        "                    dataloaders,\n",
        "                       criterion, \n",
        "                       optimizer_ft, \n",
        "                       exp_lr_scheduler,\n",
        "                       num_epochs=num_epochs)\n"
      ],
      "metadata": {
        "id": "mBSK3TR9pyWs",
        "colab": {
          "base_uri": "https://localhost:8080/"
        },
        "outputId": "ca8c7d1b-966c-4773-fbc8-f24b64f1427f"
      },
      "execution_count": null,
      "outputs": [
        {
          "output_type": "stream",
          "name": "stdout",
          "text": [
            "Epoch 0/9\n",
            "----------\n",
            "train Loss: 2.2614 Acc: 0.1600\n",
            "val Loss: 2.1898 Acc: 0.2139\n",
            "\n",
            "Epoch 1/9\n",
            "----------\n",
            "train Loss: 2.0910 Acc: 0.2517\n",
            "val Loss: 2.0062 Acc: 0.2880\n",
            "\n",
            "Epoch 2/9\n",
            "----------\n",
            "train Loss: 1.9574 Acc: 0.2975\n",
            "val Loss: 1.9234 Acc: 0.3098\n",
            "\n",
            "Epoch 3/9\n",
            "----------\n",
            "train Loss: 1.9057 Acc: 0.3244\n",
            "val Loss: 1.8898 Acc: 0.3287\n",
            "\n",
            "Epoch 4/9\n",
            "----------\n",
            "train Loss: 1.8701 Acc: 0.3374\n",
            "val Loss: 1.8521 Acc: 0.3472\n",
            "\n",
            "Epoch 5/9\n",
            "----------\n",
            "train Loss: 1.8379 Acc: 0.3487\n",
            "val Loss: 1.8212 Acc: 0.3588\n",
            "\n",
            "Epoch 6/9\n",
            "----------\n",
            "train Loss: 1.8091 Acc: 0.3588\n",
            "val Loss: 1.7991 Acc: 0.3629\n",
            "\n",
            "Epoch 7/9\n",
            "----------\n",
            "train Loss: 1.7858 Acc: 0.3689\n",
            "val Loss: 1.7863 Acc: 0.3688\n",
            "\n",
            "Epoch 8/9\n",
            "----------\n",
            "train Loss: 1.7822 Acc: 0.3693\n",
            "val Loss: 1.7837 Acc: 0.3700\n",
            "\n",
            "Epoch 9/9\n",
            "----------\n",
            "train Loss: 1.7788 Acc: 0.3704\n",
            "val Loss: 1.7807 Acc: 0.3703\n",
            "\n",
            "Training complete in 1m 40s\n",
            "Best val Acc: 0.370300\n"
          ]
        }
      ]
    },
    {
      "cell_type": "markdown",
      "source": [
        "You can continue after you see your model learns something (the training loss is decreasing)."
      ],
      "metadata": {
        "id": "hhsQNyxbkeOU"
      }
    },
    {
      "cell_type": "markdown",
      "source": [
        "# 2) Losses in Pytorch (10 points)\n",
        "\n",
        "Now that you managed to run the training loop, let's understand the loss definition. PyTorch provides losses such as cross-entropy loss (`nn.CrossEntropyLoss`) that has just been used. You'll usually see the loss assigned to `criterion`. For classification problems such as CIFAR, we use the softmax function to predict class probabilities. With a softmax output, we need to use cross-entropy as the loss. To actually calculate the loss, we first define the criterion, then pass in it the output of your network and the correct labels.\n",
        "\n",
        "*Important note!* Look at [the documentation for `nn.CrossEntropyLoss`](https://pytorch.org/docs/stable/generated/torch.nn.CrossEntropyLoss.html#torch.nn.CrossEntropyLoss),\n",
        "\n",
        "> This criterion combines `nn.LogSoftmax()` and `nn.NLLLoss()` in one single class.\n",
        ">\n",
        "> The input is expected to contain scores for each class.\n",
        "\n",
        "It means that we need to pass in `nn.CrossEntropyLoss` the raw output of our network into, not the output of the softmax function. This raw output is usually called the *logits* or *scores*. We use the logits because softmax gives you probabilities, which will often be very close to zero or one but floating-point numbers can't accurately represent values near zero or one ([read more here](https://docs.python.org/3/tutorial/floatingpoint.html)). It's usually better to avoid doing calculations with probabilities, and generally we use log-probabilities.\n",
        "\n",
        "**Exercise:** Change the network above to output the log-softmax and calculate the loss using the negative log-likelihood loss. Note that for `nn.LogSoftmax` and `F.log_softmax` you'll need to set the `dim` keyword argument appropriately. `dim=0` calculates softmax across the rows, so each column sums to 1, while `dim=1` calculates across the columns so each row sums to 1. Think about what you want the output to be and choose `dim` appropriately.\n"
      ],
      "metadata": {
        "id": "cdlcSnVD3Nw-"
      }
    },
    {
      "cell_type": "markdown",
      "source": [
        "**Answer**    \n",
        "In the last layer of the model, the \"rows\" represent 10 values, for each of our classes. Therefore we will use `dim=1`, to calculate the log-softmax across the columns."
      ],
      "metadata": {
        "id": "84G-KyQUYcss"
      }
    },
    {
      "cell_type": "code",
      "source": [
        "class NeuralNetwork_sm(nn.Module):\n",
        "    def __init__(self):\n",
        "        super(NeuralNetwork_sm, self).__init__()\n",
        "        self.flatten = nn.Flatten()\n",
        "        self.linear_relu_stack = nn.Sequential(\n",
        "            nn.Linear(32*32*3, 100),\n",
        "            nn.ReLU(),\n",
        "            nn.Linear(100, 20),\n",
        "            nn.ReLU(),\n",
        "            nn.Linear(20, 10),\n",
        "        )\n",
        "        self.logsoft = nn.LogSoftmax(dim=1)\n",
        "\n",
        "\n",
        "    def forward(self, x):\n",
        "        x = self.flatten(x)\n",
        "        logits = self.linear_relu_stack(x)\n",
        "        log_probs = self.logsoft(logits)\n",
        "        #log_probs = nn.functional.log_softmax(logits, dim=1)\n",
        "        return log_probs"
      ],
      "metadata": {
        "id": "079m95lo5JZ6"
      },
      "execution_count": null,
      "outputs": []
    },
    {
      "cell_type": "markdown",
      "source": [
        "Let's load the model again, and train it using the new criterion"
      ],
      "metadata": {
        "id": "8UNnlKaRZu9P"
      }
    },
    {
      "cell_type": "code",
      "source": [
        "model_2 = NeuralNetwork_sm().to(device)\n",
        "print(model_2)"
      ],
      "metadata": {
        "colab": {
          "base_uri": "https://localhost:8080/"
        },
        "id": "AD0lzG1RaXoO",
        "outputId": "6ca31692-3cae-4b42-d0ea-021af3892995"
      },
      "execution_count": null,
      "outputs": [
        {
          "output_type": "stream",
          "name": "stdout",
          "text": [
            "NeuralNetwork_sm(\n",
            "  (flatten): Flatten(start_dim=1, end_dim=-1)\n",
            "  (linear_relu_stack): Sequential(\n",
            "    (0): Linear(in_features=3072, out_features=100, bias=True)\n",
            "    (1): ReLU()\n",
            "    (2): Linear(in_features=100, out_features=20, bias=True)\n",
            "    (3): ReLU()\n",
            "    (4): Linear(in_features=20, out_features=10, bias=True)\n",
            "  )\n",
            "  (logsoft): LogSoftmax(dim=1)\n",
            ")\n"
          ]
        }
      ]
    },
    {
      "cell_type": "markdown",
      "source": [
        "Updating the criterion and the optimizer (with the new model parameters)"
      ],
      "metadata": {
        "id": "P1AxrMoVZV9R"
      }
    },
    {
      "cell_type": "code",
      "source": [
        "criterion_nll = nn.NLLLoss()\n",
        "# Use Stochastic Gradient Descent as the optimizer, with a learning rate of 0.0001 and momentum\n",
        "optimizer_ft = optim.SGD(model_2.parameters(), lr=0.001, momentum=0.9)"
      ],
      "metadata": {
        "id": "bXULJe1AQEOV"
      },
      "execution_count": null,
      "outputs": []
    },
    {
      "cell_type": "code",
      "source": [
        "dataset_sizes"
      ],
      "metadata": {
        "colab": {
          "base_uri": "https://localhost:8080/"
        },
        "id": "qZKYAvtgL8sy",
        "outputId": "0dc599cb-93dc-41d3-8ae7-930a0c02555d"
      },
      "execution_count": null,
      "outputs": [
        {
          "output_type": "execute_result",
          "data": {
            "text/plain": [
              "{'train': 50000, 'val': 10000}"
            ]
          },
          "metadata": {},
          "execution_count": 19
        }
      ]
    },
    {
      "cell_type": "code",
      "source": [
        "model_2 = train_model(model_2, \n",
        "                    dataloaders,\n",
        "                       criterion_nll, \n",
        "                       optimizer_ft, \n",
        "                       exp_lr_scheduler,\n",
        "                       num_epochs=num_epochs)"
      ],
      "metadata": {
        "colab": {
          "base_uri": "https://localhost:8080/"
        },
        "id": "qPjhv-e2Zuc-",
        "outputId": "c7404962-a9b0-4d71-80ea-41f5e5b8b66c"
      },
      "execution_count": null,
      "outputs": [
        {
          "output_type": "stream",
          "name": "stdout",
          "text": [
            "Epoch 0/9\n",
            "----------\n",
            "train Loss: 2.2220 Acc: 0.1819\n",
            "val Loss: 2.1146 Acc: 0.2418\n",
            "\n",
            "Epoch 1/9\n",
            "----------\n",
            "train Loss: 2.0335 Acc: 0.2639\n",
            "val Loss: 1.9711 Acc: 0.2993\n",
            "\n",
            "Epoch 2/9\n",
            "----------\n",
            "train Loss: 1.9412 Acc: 0.3051\n",
            "val Loss: 1.9145 Acc: 0.3144\n",
            "\n",
            "Epoch 3/9\n",
            "----------\n",
            "train Loss: 1.8961 Acc: 0.3238\n",
            "val Loss: 1.8743 Acc: 0.3372\n",
            "\n",
            "Epoch 4/9\n",
            "----------\n",
            "train Loss: 1.8634 Acc: 0.3386\n",
            "val Loss: 1.8472 Acc: 0.3447\n",
            "\n",
            "Epoch 5/9\n",
            "----------\n",
            "train Loss: 1.8299 Acc: 0.3523\n",
            "val Loss: 1.8077 Acc: 0.3618\n",
            "\n",
            "Epoch 6/9\n",
            "----------\n",
            "train Loss: 1.7957 Acc: 0.3662\n",
            "val Loss: 1.7740 Acc: 0.3720\n",
            "\n",
            "Epoch 7/9\n",
            "----------\n",
            "train Loss: 1.7644 Acc: 0.3730\n",
            "val Loss: 1.7483 Acc: 0.3777\n",
            "\n",
            "Epoch 8/9\n",
            "----------\n",
            "train Loss: 1.7373 Acc: 0.3825\n",
            "val Loss: 1.7168 Acc: 0.3887\n",
            "\n",
            "Epoch 9/9\n",
            "----------\n",
            "train Loss: 1.7101 Acc: 0.3916\n",
            "val Loss: 1.6956 Acc: 0.4007\n",
            "\n",
            "Training complete in 1m 37s\n",
            "Best val Acc: 0.400700\n"
          ]
        }
      ]
    },
    {
      "metadata": {
        "id": "lzRkHaYhb1sq"
      },
      "cell_type": "markdown",
      "source": [
        "# 3) Debug the training (15 points)\n",
        "With the default parameters we provided above, you should get a validation accuracy of about 0.2 on the validation set. This isn't very good.\n",
        "\n",
        "One strategy for getting insight into what's wrong is to plot the loss function and the accuracies on the training and validation sets during optimization. \n",
        "\n",
        "**Exersice:** Write this visualization here.\n",
        "(you can copy your solution from last exercies)\n"
      ]
    },
    {
      "cell_type": "markdown",
      "source": [
        "Adding the accuracy and loss history to the above function"
      ],
      "metadata": {
        "id": "6ch96KVNVknj"
      }
    },
    {
      "cell_type": "code",
      "source": [
        "def train_model_and_log(model, dataloaders, criterion, optimizer, scheduler, num_epochs=25, run=0, silent=False):\n",
        "    since = time.time()\n",
        "\n",
        "    # Init variables that will save info about the best model\n",
        "    best_model_wts = copy.deepcopy(model.state_dict())\n",
        "    best_acc = 0.0\n",
        "\n",
        "    running_loss_list_train = []\n",
        "    running_loss_list_test = []\n",
        "    running_acc_list_train = []\n",
        "    running_acc_list_test = []\n",
        "\n",
        "    for epoch in range(num_epochs):\n",
        "        if not silent:\n",
        "            print('Epoch {}/{}'.format(epoch, num_epochs - 1))\n",
        "            print('-' * 10)\n",
        "\n",
        "        # Each epoch has a training and validation phase\n",
        "        for phase in ['train', 'val']:\n",
        "            if phase == 'train':\n",
        "                # Set model to training mode. \n",
        "                model.train()  \n",
        "            else:\n",
        "                # Set model to evaluate mode. In evaluate mode, we don't perform backprop and don't need to keep the gradients\n",
        "                model.eval()   \n",
        "\n",
        "            running_loss = 0.0\n",
        "            running_corrects = 0\n",
        "\n",
        "            # Iterate over data\n",
        "            for inputs, labels in dataloaders[phase]:\n",
        "                # Prepare the inputs for GPU/CPU\n",
        "                inputs = inputs.to(device) # H: movet to GPU\n",
        "                labels = labels.to(device)\n",
        "\n",
        "                # zero the parameter gradients\n",
        "                optimizer.zero_grad()\n",
        "\n",
        "                # ===== forward pass ======\n",
        "                with torch.set_grad_enabled(phase=='train'):\n",
        "                    # If we're in train mode, we'll track the gradients to allow back-propagation\n",
        "                    outputs = model(inputs) # apply the model to the inputs. The output is the softmax probability of each class\n",
        "                    _, preds = torch.max(outputs, 1) # \n",
        "                    loss = criterion(outputs, labels)\n",
        "\n",
        "                    # ==== backward pass + optimizer step ====\n",
        "                    # This runs only in the training phase\n",
        "                    if phase == 'train':\n",
        "                        loss.backward() # Perform a step in the opposite direction of the gradient\n",
        "                        optimizer.step() # Adapt the optimizer\n",
        "\n",
        "                # Collect statistics\n",
        "                running_loss += loss.item() * inputs.size(0)\n",
        "                running_corrects += torch.sum(preds == labels.data)\n",
        "                \n",
        "            if phase == 'train':\n",
        "                # Adjust the learning rate based on the scheduler\n",
        "                scheduler.step()  \n",
        "            \n",
        "            epoch_loss = running_loss / dataset_sizes[phase]\n",
        "            epoch_acc = running_corrects.double() / dataset_sizes[phase]\n",
        "\n",
        "            if phase == 'train':\n",
        "                running_acc_list_train.append(epoch_acc.item())\n",
        "                running_loss_list_train.append(epoch_loss)\n",
        "            if phase == 'val':\n",
        "                running_acc_list_test.append(epoch_acc.item())\n",
        "                running_loss_list_test.append(epoch_loss)\n",
        "            \n",
        "            if not silent:\n",
        "                print(f'{phase} Loss: {epoch_loss:.4f} Acc: {epoch_acc:.4f}')\n",
        "\n",
        "            # Keep the results of the best model so far\n",
        "            if phase == 'val' and epoch_acc > best_acc:\n",
        "                best_acc = epoch_acc\n",
        "                # deepcopy the model\n",
        "                best_model_wts = copy.deepcopy(model.state_dict())\n",
        "        if not silent:\n",
        "            print()\n",
        "\n",
        "    time_elapsed = time.time() - since\n",
        "    print(f'Training complete in {(time_elapsed // 60):.0f}m {(time_elapsed % 60):.0f}s')\n",
        "    print(f'Best val Acc: {best_acc:4f}')\n",
        "\n",
        "    # load best model weights\n",
        "    model.load_state_dict(best_model_wts)\n",
        "\n",
        "    loss_acc = {\n",
        "        'running_loss_list_train': running_loss_list_train,\n",
        "        'running_loss_list_test':running_loss_list_test,\n",
        "        'running_acc_list_train':running_acc_list_train,\n",
        "        'running_acc_list_test':running_acc_list_test\n",
        "    }\n",
        "\n",
        "    return model, loss_acc"
      ],
      "metadata": {
        "id": "70JSrVzZUcE1"
      },
      "execution_count": null,
      "outputs": []
    },
    {
      "cell_type": "markdown",
      "source": [
        "Defining a plotting function"
      ],
      "metadata": {
        "id": "73cf-xEkVyq_"
      }
    },
    {
      "cell_type": "code",
      "source": [
        "def plot_acc_loss(loss_acc):\n",
        "    fig2, (ax1, ax2) = plt.subplots(nrows=1, ncols=2, figsize=(12,4))\n",
        "\n",
        "    #Plot the Accuracy\n",
        "    ax1.plot(loss_acc['running_acc_list_train'], label='train')\n",
        "    ax1.plot(loss_acc['running_acc_list_test'], label='validation')\n",
        "    ax1.legend()\n",
        "    ax1.set_title('Accuracy by epochs')\n",
        "    ax1.set_xlabel('# epoch')\n",
        "    ax1.set_ylabel('Accuracy')\n",
        "\n",
        "    #Plot the loss\n",
        "    ax2.plot(loss_acc['running_loss_list_train'], label='train')\n",
        "    ax2.plot(loss_acc['running_loss_list_test'], label='validation')\n",
        "    ax2.legend()\n",
        "    ax2.set_title('Loss by epochs')\n",
        "    ax2.set_xlabel('# epoch')\n",
        "    ax2.set_ylabel('Loss')"
      ],
      "metadata": {
        "id": "u2Bwq6QeD8ee"
      },
      "execution_count": null,
      "outputs": []
    },
    {
      "cell_type": "markdown",
      "source": [
        "Let's re-train the model from the start"
      ],
      "metadata": {
        "id": "6hSzKRKMVaxI"
      }
    },
    {
      "cell_type": "code",
      "source": [
        "model_2 = NeuralNetwork_sm().to(device)\n",
        "optimizer_ft = optim.SGD(model_2.parameters(), lr=0.001, momentum=0.9)\n",
        "\n",
        "model, loss_acc = train_model_and_log(model_2, \n",
        "                    dataloaders,\n",
        "                       criterion_nll, \n",
        "                       optimizer_ft, \n",
        "                       exp_lr_scheduler,\n",
        "                       num_epochs=num_epochs)"
      ],
      "metadata": {
        "colab": {
          "base_uri": "https://localhost:8080/"
        },
        "id": "HPKkGJs1VeGf",
        "outputId": "406acaf6-9412-439e-bafd-c4f46a24a548"
      },
      "execution_count": null,
      "outputs": [
        {
          "output_type": "stream",
          "name": "stdout",
          "text": [
            "Epoch 0/9\n",
            "----------\n",
            "train Loss: 2.2482 Acc: 0.1683\n",
            "val Loss: 2.1579 Acc: 0.2062\n",
            "\n",
            "Epoch 1/9\n",
            "----------\n",
            "train Loss: 2.0720 Acc: 0.2355\n",
            "val Loss: 2.0112 Acc: 0.2665\n",
            "\n",
            "Epoch 2/9\n",
            "----------\n",
            "train Loss: 1.9730 Acc: 0.2859\n",
            "val Loss: 1.9389 Acc: 0.3022\n",
            "\n",
            "Epoch 3/9\n",
            "----------\n",
            "train Loss: 1.9181 Acc: 0.3119\n",
            "val Loss: 1.8947 Acc: 0.3226\n",
            "\n",
            "Epoch 4/9\n",
            "----------\n",
            "train Loss: 1.8797 Acc: 0.3300\n",
            "val Loss: 1.8591 Acc: 0.3422\n",
            "\n",
            "Epoch 5/9\n",
            "----------\n",
            "train Loss: 1.8446 Acc: 0.3450\n",
            "val Loss: 1.8298 Acc: 0.3551\n",
            "\n",
            "Epoch 6/9\n",
            "----------\n",
            "train Loss: 1.8100 Acc: 0.3579\n",
            "val Loss: 1.7965 Acc: 0.3648\n",
            "\n",
            "Epoch 7/9\n",
            "----------\n",
            "train Loss: 1.7804 Acc: 0.3692\n",
            "val Loss: 1.7629 Acc: 0.3755\n",
            "\n",
            "Epoch 8/9\n",
            "----------\n",
            "train Loss: 1.7547 Acc: 0.3763\n",
            "val Loss: 1.7376 Acc: 0.3804\n",
            "\n",
            "Epoch 9/9\n",
            "----------\n",
            "train Loss: 1.7337 Acc: 0.3819\n",
            "val Loss: 1.7189 Acc: 0.3880\n",
            "\n",
            "Training complete in 1m 37s\n",
            "Best val Acc: 0.388000\n"
          ]
        }
      ]
    },
    {
      "cell_type": "code",
      "source": [
        "plot_acc_loss(loss_acc)"
      ],
      "metadata": {
        "colab": {
          "base_uri": "https://localhost:8080/",
          "height": 295
        },
        "id": "6JpdVizOWDeR",
        "outputId": "f5c25a97-2a59-4ab8-9cc3-29472d691f8d"
      },
      "execution_count": null,
      "outputs": [
        {
          "output_type": "display_data",
          "data": {
            "text/plain": [
              "<Figure size 864x288 with 2 Axes>"
            ],
            "image/png": "[encoded data removed]"
          },
          "metadata": {
            "needs_background": "light"
          }
        }
      ]
    },
    {
      "metadata": {
        "id": "gNP6Ogkxb1sw"
      },
      "cell_type": "markdown",
      "source": [
        "# 4) Tune your hyperparameters (50 points)\n",
        "\n",
        "**What's wrong?**. Looking at the loss above, we see that the loss is decreasing more or less linearly, which seems to suggest that the learning rate may be too low. Moreover, there is no gap between the training and validation accuracy, suggesting that the model we used has low capacity, and that we should increase its size. On the other hand, with a very large model we would expect to see more overfitting, which would manifest itself as a very large gap between the training and validation accuracy. \n",
        "\n",
        "**Tuning**. Tuning the hyperparameters and developing intuition for how they affect the final performance is a large part of using Neural Networks, so we want you to get a lot of practice. Below, you should experiment with different values of the various hyperparameters, including *hidden layer size, learning rate, numer of training epochs, and adding l2 or l1 regularization to the cross entropy loss*. You might also consider tuning the learning rate decay, but you should be able to get good performance using the default value.\n",
        "\n",
        "**Approximate results**. You should be aim to achieve a classification accuracy of greater than 48% on the validation set. Our best network gets over 52% on the validation set.\n",
        "\n",
        "**Experiment**: You goal in this exercise is to get as good of a result on CIFAR-10 as you can, with a fully-connected Neural Network. Feel free implement your own techniques (e.g. PCA to reduce dimensionality, or adding dropout, or adding features to the solver, etc.)."
      ]
    },
    {
      "metadata": {
        "id": "5ITsPTx6b1sz"
      },
      "cell_type": "code",
      "source": [
        "\n",
        "#################################################################################\n",
        "# TODO: Tune hyperparameters using the validation set.                          #\n",
        "#                                                                               #\n",
        "#                                                                               #\n",
        "#################################################################################\n",
        "# Your code\n",
        "#################################################################################\n",
        "#                               END OF YOUR CODE                                #\n",
        "#################################################################################"
      ],
      "execution_count": null,
      "outputs": []
    },
    {
      "cell_type": "markdown",
      "source": [
        "## Updating the hidden layer sizes"
      ],
      "metadata": {
        "id": "wdljTBU2X7OT"
      }
    },
    {
      "cell_type": "code",
      "source": [
        "class NeuralNetwork_3(nn.Module):\n",
        "    def __init__(self):\n",
        "        super(NeuralNetwork_3, self).__init__()\n",
        "        self.flatten = nn.Flatten()\n",
        "        self.linear_relu_stack = nn.Sequential(\n",
        "            nn.Linear(32*32*3, 512),\n",
        "            nn.ReLU(),\n",
        "            nn.Linear(512, 256),\n",
        "            nn.ReLU(),\n",
        "            nn.Linear(256, 10),\n",
        "        )\n",
        "        self.logsoft = nn.LogSoftmax(dim=1)\n",
        "\n",
        "\n",
        "    def forward(self, x):\n",
        "        x = self.flatten(x)\n",
        "        logits = self.linear_relu_stack(x)\n",
        "        log_probs = self.logsoft(logits)\n",
        "        #log_probs = nn.functional.log_softmax(logits, dim=1)\n",
        "        return log_probs"
      ],
      "metadata": {
        "id": "62UnMT4dX64g"
      },
      "execution_count": null,
      "outputs": []
    },
    {
      "cell_type": "code",
      "source": [
        "model_3 = NeuralNetwork_3().to(device)\n",
        "optimizer_ft = optim.SGD(model_3.parameters(), lr=0.001, momentum=0.9)\n",
        "\n",
        "model_3, loss_acc = train_model_and_log(model_3, \n",
        "                    dataloaders,\n",
        "                       criterion_nll, \n",
        "                       optimizer_ft, \n",
        "                       exp_lr_scheduler,\n",
        "                       num_epochs=num_epochs, silent=True)\n",
        "\n",
        "plot_acc_loss(loss_acc)"
      ],
      "metadata": {
        "colab": {
          "base_uri": "https://localhost:8080/",
          "height": 331
        },
        "id": "ufn8sHW_Ykei",
        "outputId": "78edc04b-8a62-4406-fa7e-bfd0f3713b0c"
      },
      "execution_count": null,
      "outputs": [
        {
          "output_type": "stream",
          "name": "stdout",
          "text": [
            "Training complete in 1m 37s\n",
            "Best val Acc: 0.413100\n"
          ]
        },
        {
          "output_type": "display_data",
          "data": {
            "text/plain": [
              "<Figure size 864x288 with 2 Axes>"
            ],
            "image/png": "[encoded data removed]"
          },
          "metadata": {
            "needs_background": "light"
          }
        }
      ]
    },
    {
      "cell_type": "markdown",
      "source": [
        "## Changing the learning rate"
      ],
      "metadata": {
        "id": "I-T7DZ63YEgq"
      }
    },
    {
      "cell_type": "code",
      "source": [
        "def train_and_get_last_acc(Network, lr=0.001, num_epochs=10):\n",
        "    curr_model = Network().to(device)\n",
        "    optimizer_ft = optim.SGD(curr_model.parameters(), lr, momentum=0.9)\n",
        "\n",
        "    curr_model, loss_acc = train_model_and_log(curr_model, \n",
        "                          dataloaders,\n",
        "                          criterion_nll, \n",
        "                          optimizer_ft, \n",
        "                          exp_lr_scheduler,\n",
        "                          num_epochs, silent=True)\n",
        "    last_acc = loss_acc['running_acc_list_test'][-1]\n",
        "    return last_acc"
      ],
      "metadata": {
        "id": "RGl5kzmojxX-"
      },
      "execution_count": null,
      "outputs": []
    },
    {
      "cell_type": "code",
      "source": [
        "losses = []\n",
        "for lr in np.logspace(-1, -3, num=10):\n",
        "    print('Learning rate:', lr)\n",
        "    losses.append(train_and_get_last_acc(NeuralNetwork_3, lr=lr, num_epochs=10))\n",
        "    print('-'*30)\n",
        "print(losses)"
      ],
      "metadata": {
        "colab": {
          "base_uri": "https://localhost:8080/"
        },
        "id": "kKhAxMskYJCU",
        "outputId": "2d53e0a2-b8d0-4492-f775-40c5d9ddf195"
      },
      "execution_count": null,
      "outputs": [
        {
          "output_type": "stream",
          "name": "stdout",
          "text": [
            "Learning rate: 0.1\n",
            "Training complete in 1m 37s\n",
            "Best val Acc: 0.309100\n",
            "------------------------------\n",
            "Learning rate: 0.05994842503189409\n",
            "Training complete in 1m 36s\n",
            "Best val Acc: 0.439700\n",
            "------------------------------\n",
            "Learning rate: 0.03593813663804628\n",
            "Training complete in 1m 36s\n",
            "Best val Acc: 0.493000\n",
            "------------------------------\n",
            "Learning rate: 0.021544346900318846\n",
            "Training complete in 1m 37s\n",
            "Best val Acc: 0.500700\n",
            "------------------------------\n",
            "Learning rate: 0.01291549665014884\n",
            "Training complete in 1m 37s\n",
            "Best val Acc: 0.508600\n",
            "------------------------------\n",
            "Learning rate: 0.007742636826811269\n",
            "Training complete in 1m 37s\n",
            "Best val Acc: 0.517800\n",
            "------------------------------\n",
            "Learning rate: 0.004641588833612782\n",
            "Training complete in 1m 36s\n",
            "Best val Acc: 0.499300\n",
            "------------------------------\n",
            "Learning rate: 0.0027825594022071257\n",
            "Training complete in 1m 36s\n",
            "Best val Acc: 0.481600\n",
            "------------------------------\n",
            "Learning rate: 0.0016681005372000592\n",
            "Training complete in 1m 39s\n",
            "Best val Acc: 0.457300\n",
            "------------------------------\n",
            "Learning rate: 0.001\n",
            "Training complete in 1m 37s\n",
            "Best val Acc: 0.408700\n",
            "------------------------------\n",
            "[0.2587, 0.4137, 0.49300000000000005, 0.49110000000000004, 0.5086, 0.5178, 0.4993, 0.48160000000000003, 0.45730000000000004, 0.4087]\n"
          ]
        }
      ]
    },
    {
      "cell_type": "markdown",
      "source": [
        "It seems that the best learning rate is around 0.0077"
      ],
      "metadata": {
        "id": "2YAL1iU4vYfe"
      }
    },
    {
      "cell_type": "code",
      "source": [
        "plt.plot(np.logspace(-1, -3, num=10), losses)\n",
        "plt.xscale(\"log\")\n",
        "plt.xlabel('Learning rate')\n",
        "plt.ylabel('Validation accuracy')\n",
        "plt.title('Validation accuracy in different learning rates');\n"
      ],
      "metadata": {
        "colab": {
          "base_uri": "https://localhost:8080/",
          "height": 299
        },
        "id": "hW9hklKdvf1O",
        "outputId": "ee833fdd-9d79-4f28-e219-2bb1c95567d9"
      },
      "execution_count": null,
      "outputs": [
        {
          "output_type": "display_data",
          "data": {
            "text/plain": [
              "<Figure size 432x288 with 1 Axes>"
            ],
            "image/png": "[encoded data removed]"
          },
          "metadata": {
            "needs_background": "light"
          }
        }
      ]
    },
    {
      "cell_type": "markdown",
      "source": [
        "## Changing the numer of training epochs"
      ],
      "metadata": {
        "id": "G0HQTw3QYJzo"
      }
    },
    {
      "cell_type": "code",
      "source": [
        "# Using 50 epochs\n",
        "model_3 = NeuralNetwork_3().to(device)\n",
        "optimizer_ft = optim.SGD(model_3.parameters(), lr=0.0077, momentum=0.9)\n",
        "\n",
        "model_3, loss_acc = train_model_and_log(model_3, \n",
        "                    dataloaders,\n",
        "                       criterion_nll, \n",
        "                       optimizer_ft, \n",
        "                       exp_lr_scheduler,\n",
        "                       num_epochs=50)\n",
        "\n",
        "plot_acc_loss(loss_acc)"
      ],
      "metadata": {
        "colab": {
          "base_uri": "https://localhost:8080/",
          "height": 1000
        },
        "id": "FHDzGFpNYO2c",
        "outputId": "216af870-b54b-4cb8-9cce-c66e4172afe0"
      },
      "execution_count": null,
      "outputs": [
        {
          "output_type": "stream",
          "name": "stdout",
          "text": [
            "Epoch 0/49\n",
            "----------\n",
            "train Loss: 1.9596 Acc: 0.2934\n",
            "val Loss: 1.7858 Acc: 0.3530\n",
            "\n",
            "Epoch 1/49\n",
            "----------\n",
            "train Loss: 1.7225 Acc: 0.3842\n",
            "val Loss: 1.6624 Acc: 0.4102\n",
            "\n",
            "Epoch 2/49\n",
            "----------\n",
            "train Loss: 1.6267 Acc: 0.4214\n",
            "val Loss: 1.6215 Acc: 0.4186\n",
            "\n",
            "Epoch 3/49\n",
            "----------\n",
            "train Loss: 1.5550 Acc: 0.4466\n",
            "val Loss: 1.5359 Acc: 0.4527\n",
            "\n",
            "Epoch 4/49\n",
            "----------\n",
            "train Loss: 1.5096 Acc: 0.4633\n",
            "val Loss: 1.4944 Acc: 0.4660\n",
            "\n",
            "Epoch 5/49\n",
            "----------\n",
            "train Loss: 1.4684 Acc: 0.4746\n",
            "val Loss: 1.5218 Acc: 0.4660\n",
            "\n",
            "Epoch 6/49\n",
            "----------\n",
            "train Loss: 1.4303 Acc: 0.4915\n",
            "val Loss: 1.4200 Acc: 0.4884\n",
            "\n",
            "Epoch 7/49\n",
            "----------\n",
            "train Loss: 1.4015 Acc: 0.4999\n",
            "val Loss: 1.4479 Acc: 0.4940\n",
            "\n",
            "Epoch 8/49\n",
            "----------\n",
            "train Loss: 1.3726 Acc: 0.5107\n",
            "val Loss: 1.4033 Acc: 0.5004\n",
            "\n",
            "Epoch 9/49\n",
            "----------\n",
            "train Loss: 1.3491 Acc: 0.5197\n",
            "val Loss: 1.4492 Acc: 0.4887\n",
            "\n",
            "Epoch 10/49\n",
            "----------\n",
            "train Loss: 1.3179 Acc: 0.5311\n",
            "val Loss: 1.4183 Acc: 0.5039\n",
            "\n",
            "Epoch 11/49\n",
            "----------\n",
            "train Loss: 1.2987 Acc: 0.5383\n",
            "val Loss: 1.4048 Acc: 0.5033\n",
            "\n",
            "Epoch 12/49\n",
            "----------\n",
            "train Loss: 1.2803 Acc: 0.5436\n",
            "val Loss: 1.3897 Acc: 0.5051\n",
            "\n",
            "Epoch 13/49\n",
            "----------\n",
            "train Loss: 1.2567 Acc: 0.5548\n",
            "val Loss: 1.3458 Acc: 0.5230\n",
            "\n",
            "Epoch 14/49\n",
            "----------\n",
            "train Loss: 1.2269 Acc: 0.5655\n",
            "val Loss: 1.3337 Acc: 0.5232\n",
            "\n",
            "Epoch 15/49\n",
            "----------\n",
            "train Loss: 1.2108 Acc: 0.5725\n",
            "val Loss: 1.3370 Acc: 0.5289\n",
            "\n",
            "Epoch 16/49\n",
            "----------\n",
            "train Loss: 1.1869 Acc: 0.5776\n",
            "val Loss: 1.3323 Acc: 0.5246\n",
            "\n",
            "Epoch 17/49\n",
            "----------\n",
            "train Loss: 1.1641 Acc: 0.5896\n",
            "val Loss: 1.3239 Acc: 0.5314\n",
            "\n",
            "Epoch 18/49\n",
            "----------\n",
            "train Loss: 1.1470 Acc: 0.5952\n",
            "val Loss: 1.3479 Acc: 0.5193\n",
            "\n",
            "Epoch 19/49\n",
            "----------\n",
            "train Loss: 1.1338 Acc: 0.5982\n",
            "val Loss: 1.2842 Acc: 0.5439\n",
            "\n",
            "Epoch 20/49\n",
            "----------\n",
            "train Loss: 1.1087 Acc: 0.6046\n",
            "val Loss: 1.3261 Acc: 0.5364\n",
            "\n",
            "Epoch 21/49\n",
            "----------\n",
            "train Loss: 1.0930 Acc: 0.6122\n",
            "val Loss: 1.3210 Acc: 0.5326\n",
            "\n",
            "Epoch 22/49\n",
            "----------\n",
            "train Loss: 1.0728 Acc: 0.6183\n",
            "val Loss: 1.3067 Acc: 0.5439\n",
            "\n",
            "Epoch 23/49\n",
            "----------\n",
            "train Loss: 1.0573 Acc: 0.6261\n",
            "val Loss: 1.3132 Acc: 0.5380\n",
            "\n",
            "Epoch 24/49\n",
            "----------\n",
            "train Loss: 1.0327 Acc: 0.6296\n",
            "val Loss: 1.3302 Acc: 0.5385\n",
            "\n",
            "Epoch 25/49\n",
            "----------\n",
            "train Loss: 1.0215 Acc: 0.6347\n",
            "val Loss: 1.3411 Acc: 0.5349\n",
            "\n",
            "Epoch 26/49\n",
            "----------\n",
            "train Loss: 0.9985 Acc: 0.6453\n",
            "val Loss: 1.3201 Acc: 0.5512\n",
            "\n",
            "Epoch 27/49\n",
            "----------\n",
            "train Loss: 0.9824 Acc: 0.6479\n",
            "val Loss: 1.3123 Acc: 0.5520\n",
            "\n",
            "Epoch 28/49\n",
            "----------\n",
            "train Loss: 0.9609 Acc: 0.6557\n",
            "val Loss: 1.3434 Acc: 0.5397\n",
            "\n",
            "Epoch 29/49\n",
            "----------\n",
            "train Loss: 0.9442 Acc: 0.6632\n",
            "val Loss: 1.2998 Acc: 0.5586\n",
            "\n",
            "Epoch 30/49\n",
            "----------\n",
            "train Loss: 0.9314 Acc: 0.6674\n",
            "val Loss: 1.3224 Acc: 0.5480\n",
            "\n",
            "Epoch 31/49\n",
            "----------\n",
            "train Loss: 0.9032 Acc: 0.6771\n",
            "val Loss: 1.3923 Acc: 0.5339\n",
            "\n",
            "Epoch 32/49\n",
            "----------\n",
            "train Loss: 0.8887 Acc: 0.6834\n",
            "val Loss: 1.3282 Acc: 0.5487\n",
            "\n",
            "Epoch 33/49\n",
            "----------\n",
            "train Loss: 0.8715 Acc: 0.6887\n",
            "val Loss: 1.3495 Acc: 0.5475\n",
            "\n",
            "Epoch 34/49\n",
            "----------\n",
            "train Loss: 0.8544 Acc: 0.6955\n",
            "val Loss: 1.3706 Acc: 0.5378\n",
            "\n",
            "Epoch 35/49\n",
            "----------\n",
            "train Loss: 0.8372 Acc: 0.7025\n",
            "val Loss: 1.3856 Acc: 0.5395\n",
            "\n",
            "Epoch 36/49\n",
            "----------\n",
            "train Loss: 0.8148 Acc: 0.7099\n",
            "val Loss: 1.3846 Acc: 0.5475\n",
            "\n",
            "Epoch 37/49\n",
            "----------\n",
            "train Loss: 0.7992 Acc: 0.7160\n",
            "val Loss: 1.3845 Acc: 0.5515\n",
            "\n",
            "Epoch 38/49\n",
            "----------\n",
            "train Loss: 0.7861 Acc: 0.7219\n",
            "val Loss: 1.3799 Acc: 0.5585\n",
            "\n",
            "Epoch 39/49\n",
            "----------\n",
            "train Loss: 0.7636 Acc: 0.7279\n",
            "val Loss: 1.3864 Acc: 0.5524\n",
            "\n",
            "Epoch 40/49\n",
            "----------\n",
            "train Loss: 0.7648 Acc: 0.7288\n",
            "val Loss: 1.3945 Acc: 0.5536\n",
            "\n",
            "Epoch 41/49\n",
            "----------\n",
            "train Loss: 0.7295 Acc: 0.7415\n",
            "val Loss: 1.3949 Acc: 0.5522\n",
            "\n",
            "Epoch 42/49\n",
            "----------\n",
            "train Loss: 0.7111 Acc: 0.7482\n",
            "val Loss: 1.5157 Acc: 0.5419\n",
            "\n",
            "Epoch 43/49\n",
            "----------\n",
            "train Loss: 0.7064 Acc: 0.7481\n",
            "val Loss: 1.4323 Acc: 0.5531\n",
            "\n",
            "Epoch 44/49\n",
            "----------\n",
            "train Loss: 0.6836 Acc: 0.7566\n",
            "val Loss: 1.4673 Acc: 0.5391\n",
            "\n",
            "Epoch 45/49\n",
            "----------\n",
            "train Loss: 0.6610 Acc: 0.7646\n",
            "val Loss: 1.4886 Acc: 0.5507\n",
            "\n",
            "Epoch 46/49\n",
            "----------\n",
            "train Loss: 0.6426 Acc: 0.7745\n",
            "val Loss: 1.5322 Acc: 0.5411\n",
            "\n",
            "Epoch 47/49\n",
            "----------\n",
            "train Loss: 0.6421 Acc: 0.7708\n",
            "val Loss: 1.4684 Acc: 0.5590\n",
            "\n",
            "Epoch 48/49\n",
            "----------\n",
            "train Loss: 0.6176 Acc: 0.7820\n",
            "val Loss: 1.5250 Acc: 0.5548\n",
            "\n",
            "Epoch 49/49\n",
            "----------\n",
            "train Loss: 0.5887 Acc: 0.7910\n",
            "val Loss: 1.5272 Acc: 0.5447\n",
            "\n",
            "Training complete in 8m 4s\n",
            "Best val Acc: 0.559000\n"
          ]
        },
        {
          "output_type": "display_data",
          "data": {
            "text/plain": [
              "<Figure size 864x288 with 2 Axes>"
            ],
            "image/png": "[encoded data removed]"
          },
          "metadata": {
            "needs_background": "light"
          }
        }
      ]
    },
    {
      "cell_type": "markdown",
      "source": [
        "It seems that we overfit from around epoch 20."
      ],
      "metadata": {
        "id": "sXmgS25XV-9N"
      }
    },
    {
      "cell_type": "markdown",
      "source": [
        "## Adding l2 or l1 regularization to the cross entropy loss"
      ],
      "metadata": {
        "id": "gEAcnqNOYPgU"
      }
    },
    {
      "cell_type": "code",
      "source": [
        "# Using L2 regularization\n",
        "model_5 = NeuralNetwork_3().to(device)\n",
        "optimizer_ft = torch.optim.SGD(model_5.parameters(), lr=0.0077, momentum=0.9, weight_decay=1e-5)\n",
        "\n",
        "model_5, loss_acc = train_model_and_log(model_5, \n",
        "                    dataloaders,\n",
        "                       criterion, \n",
        "                       optimizer_ft, \n",
        "                       exp_lr_scheduler,\n",
        "                       num_epochs=10)\n",
        "\n",
        "plot_acc_loss(loss_acc)"
      ],
      "metadata": {
        "colab": {
          "base_uri": "https://localhost:8080/",
          "height": 1000
        },
        "id": "yREJybzC9fxZ",
        "outputId": "205b2c68-1c22-448a-d997-ca972a800326"
      },
      "execution_count": null,
      "outputs": [
        {
          "output_type": "stream",
          "name": "stdout",
          "text": [
            "Epoch 0/9\n",
            "----------\n",
            "train Loss: 1.9605 Acc: 0.2894\n",
            "val Loss: 1.7947 Acc: 0.3611\n",
            "\n",
            "Epoch 1/9\n",
            "----------\n",
            "train Loss: 1.7317 Acc: 0.3801\n",
            "val Loss: 1.6671 Acc: 0.4066\n",
            "\n",
            "Epoch 2/9\n",
            "----------\n",
            "train Loss: 1.6296 Acc: 0.4213\n",
            "val Loss: 1.6027 Acc: 0.4232\n",
            "\n",
            "Epoch 3/9\n",
            "----------\n",
            "train Loss: 1.5606 Acc: 0.4430\n",
            "val Loss: 1.5180 Acc: 0.4597\n",
            "\n",
            "Epoch 4/9\n",
            "----------\n",
            "train Loss: 1.5133 Acc: 0.4600\n",
            "val Loss: 1.5243 Acc: 0.4600\n",
            "\n",
            "Epoch 5/9\n",
            "----------\n",
            "train Loss: 1.4687 Acc: 0.4770\n",
            "val Loss: 1.4875 Acc: 0.4607\n",
            "\n",
            "Epoch 6/9\n",
            "----------\n",
            "train Loss: 1.4339 Acc: 0.4880\n",
            "val Loss: 1.4826 Acc: 0.4756\n",
            "\n",
            "Epoch 7/9\n",
            "----------\n",
            "train Loss: 1.4034 Acc: 0.4987\n",
            "val Loss: 1.4188 Acc: 0.5021\n",
            "\n",
            "Epoch 8/9\n",
            "----------\n",
            "train Loss: 1.3756 Acc: 0.5116\n",
            "val Loss: 1.4163 Acc: 0.4918\n",
            "\n",
            "Epoch 9/9\n",
            "----------\n",
            "train Loss: 1.3446 Acc: 0.5201\n",
            "val Loss: 1.4092 Acc: 0.4965\n",
            "\n",
            "Training complete in 1m 36s\n",
            "Best val Acc: 0.502100\n"
          ]
        },
        {
          "output_type": "display_data",
          "data": {
            "text/plain": [
              "<Figure size 864x288 with 2 Axes>"
            ],
            "image/png": "[encoded data removed]"
          },
          "metadata": {
            "needs_background": "light"
          }
        }
      ]
    },
    {
      "cell_type": "code",
      "source": [
        "def train_model_and_log_l1(model, dataloaders, criterion, optimizer, scheduler, num_epochs=25, run=0, silent=False, l1_lambda=None):\n",
        "    since = time.time()\n",
        "\n",
        "    # Init variables that will save info about the best model\n",
        "    best_model_wts = copy.deepcopy(model.state_dict())\n",
        "    best_acc = 0.0\n",
        "\n",
        "    running_loss_list_train = []\n",
        "    running_loss_list_test = []\n",
        "    running_acc_list_train = []\n",
        "    running_acc_list_test = []\n",
        "\n",
        "    for epoch in range(num_epochs):\n",
        "        if not silent:\n",
        "            print('Epoch {}/{}'.format(epoch, num_epochs - 1))\n",
        "            print('-' * 10)\n",
        "\n",
        "        # Each epoch has a training and validation phase\n",
        "        for phase in ['train', 'val']:\n",
        "            if phase == 'train':\n",
        "                # Set model to training mode. \n",
        "                model.train()  \n",
        "            else:\n",
        "                # Set model to evaluate mode. In evaluate mode, we don't perform backprop and don't need to keep the gradients\n",
        "                model.eval()   \n",
        "\n",
        "            running_loss = 0.0\n",
        "            running_corrects = 0\n",
        "\n",
        "            # Iterate over data\n",
        "            for inputs, labels in dataloaders[phase]:\n",
        "                # Prepare the inputs for GPU/CPU\n",
        "                inputs = inputs.to(device) # H: movet to GPU\n",
        "                labels = labels.to(device)\n",
        "\n",
        "                # zero the parameter gradients\n",
        "                optimizer.zero_grad()\n",
        "\n",
        "                # ===== forward pass ======\n",
        "                with torch.set_grad_enabled(phase=='train'):\n",
        "                    # If we're in train mode, we'll track the gradients to allow back-propagation\n",
        "                    outputs = model(inputs) # apply the model to the inputs. The output is the softmax probability of each class\n",
        "                    _, preds = torch.max(outputs, 1) # \n",
        "                    loss = criterion(outputs, labels)\n",
        "\n",
        "                    # ==== L1 regularization ====\n",
        "                    if l1_lambda is not None:\n",
        "                        l1_reg = torch.tensor(0., device=device)\n",
        "                        for name, param in model.named_parameters():\n",
        "                            if 'weight' in name:\n",
        "                                l1_reg += torch.norm(param, 1)\n",
        "                        loss += l1_lambda * l1_reg\n",
        "\n",
        "                    # ==== backward pass + optimizer step ====\n",
        "                    # This runs only in the training phase\n",
        "                    if phase == 'train':\n",
        "                        loss.backward() # Perform a step in the opposite direction of the gradient\n",
        "                        optimizer.step() # Adapt the optimizer\n",
        "\n",
        "                # Collect statistics\n",
        "                running_loss += loss.item() * inputs.size(0)\n",
        "                running_corrects += torch.sum(preds == labels.data)\n",
        "                \n",
        "            if phase == 'train':\n",
        "                # Adjust the learning rate based on the scheduler\n",
        "                scheduler.step()  \n",
        "            \n",
        "            epoch_loss = running_loss / dataset_sizes[phase]\n",
        "            epoch_acc = running_corrects.double() / dataset_sizes[phase]\n",
        "\n",
        "            if phase == 'train':\n",
        "                running_acc_list_train.append(epoch_acc.item())\n",
        "                running_loss_list_train.append(epoch_loss)\n",
        "            if phase == 'val':\n",
        "                running_acc_list_test.append(epoch_acc.item())\n",
        "                running_loss_list_test.append(epoch_loss)\n",
        "            \n",
        "            if not silent:\n",
        "                print(f'{phase} Loss: {epoch_loss:.4f} Acc: {epoch_acc:.4f}')\n",
        "\n",
        "            # Keep the results of the best model so far\n",
        "            if phase == 'val' and epoch_acc > best_acc:\n",
        "                best_acc = epoch_acc\n",
        "                # deepcopy the model\n",
        "                best_model_wts = copy.deepcopy(model.state_dict())\n",
        "        if not silent:\n",
        "            print()\n",
        "\n",
        "    time_elapsed = time.time() - since\n",
        "    print(f'Training complete in {(time_elapsed // 60):.0f}m {(time_elapsed % 60):.0f}s')\n",
        "    print(f'Best val Acc: {best_acc:4f}')\n",
        "\n",
        "    # load best model weights\n",
        "    model.load_state_dict(best_model_wts)\n",
        "\n",
        "    loss_acc = {\n",
        "        'running_loss_list_train': running_loss_list_train,\n",
        "        'running_loss_list_test':running_loss_list_test,\n",
        "        'running_acc_list_train':running_acc_list_train,\n",
        "        'running_acc_list_test':running_acc_list_test\n",
        "    }\n",
        "\n",
        "    return model, loss_acc"
      ],
      "metadata": {
        "id": "1jEF3AzH_g0i"
      },
      "execution_count": null,
      "outputs": []
    },
    {
      "cell_type": "code",
      "source": [
        "# Using L1 regularization\n",
        "model_6 = NeuralNetwork_3().to(device)\n",
        "optimizer_ft = torch.optim.SGD(model_6.parameters(), lr=0.0077, momentum=0.9)\n",
        "\n",
        "model_6, loss_acc = train_model_and_log_l1(model_6, \n",
        "                    dataloaders,\n",
        "                       criterion, \n",
        "                       optimizer_ft, \n",
        "                       exp_lr_scheduler,\n",
        "                       num_epochs=10,\n",
        "                       l1_lambda=0.0001\n",
        "                       )\n",
        "\n",
        "plot_acc_loss(loss_acc)"
      ],
      "metadata": {
        "colab": {
          "base_uri": "https://localhost:8080/",
          "height": 1000
        },
        "id": "CHPmusyp_g-d",
        "outputId": "ade353c7-bcea-4de5-a1f9-c72d647d2bb4"
      },
      "execution_count": null,
      "outputs": [
        {
          "output_type": "stream",
          "name": "stdout",
          "text": [
            "Epoch 0/9\n",
            "----------\n",
            "train Loss: 3.4721 Acc: 0.2893\n",
            "val Loss: 3.0906 Acc: 0.3571\n",
            "\n",
            "Epoch 1/9\n",
            "----------\n",
            "train Loss: 2.8602 Acc: 0.3679\n",
            "val Loss: 2.6034 Acc: 0.4086\n",
            "\n",
            "Epoch 2/9\n",
            "----------\n",
            "train Loss: 2.4829 Acc: 0.3980\n",
            "val Loss: 2.3073 Acc: 0.4154\n",
            "\n",
            "Epoch 3/9\n",
            "----------\n",
            "train Loss: 2.2217 Acc: 0.4124\n",
            "val Loss: 2.1468 Acc: 0.4012\n",
            "\n",
            "Epoch 4/9\n",
            "----------\n",
            "train Loss: 2.0553 Acc: 0.4234\n",
            "val Loss: 1.9981 Acc: 0.4251\n",
            "\n",
            "Epoch 5/9\n",
            "----------\n",
            "train Loss: 1.9533 Acc: 0.4262\n",
            "val Loss: 1.9283 Acc: 0.4280\n",
            "\n",
            "Epoch 6/9\n",
            "----------\n",
            "train Loss: 1.8846 Acc: 0.4355\n",
            "val Loss: 1.8873 Acc: 0.4220\n",
            "\n",
            "Epoch 7/9\n",
            "----------\n",
            "train Loss: 1.8333 Acc: 0.4426\n",
            "val Loss: 1.8190 Acc: 0.4458\n",
            "\n",
            "Epoch 8/9\n",
            "----------\n",
            "train Loss: 1.7810 Acc: 0.4520\n",
            "val Loss: 1.7369 Acc: 0.4658\n",
            "\n",
            "Epoch 9/9\n",
            "----------\n",
            "train Loss: 1.7531 Acc: 0.4546\n",
            "val Loss: 1.8016 Acc: 0.4411\n",
            "\n",
            "Training complete in 1m 39s\n",
            "Best val Acc: 0.465800\n"
          ]
        },
        {
          "output_type": "display_data",
          "data": {
            "text/plain": [
              "<Figure size 864x288 with 2 Axes>"
            ],
            "image/png": "[encoded data removed]"
          },
          "metadata": {
            "needs_background": "light"
          }
        }
      ]
    },
    {
      "cell_type": "code",
      "source": [
        "class NeuralNetwork_4(nn.Module):\n",
        "    def __init__(self):\n",
        "        super(NeuralNetwork_4, self).__init__()\n",
        "        self.flatten = nn.Flatten()\n",
        "        self.linear_relu_stack = nn.Sequential(\n",
        "            nn.Linear(32*32*3, 512),\n",
        "            nn.ReLU(),\n",
        "            nn.Linear(512, 256),\n",
        "            nn.ReLU(),\n",
        "            nn.Linear(256, 128),\n",
        "            nn.ReLU(),\n",
        "            nn.Linear(128, 10),\n",
        "        )\n",
        "        self.logsoft = nn.LogSoftmax(dim=1)\n",
        "\n",
        "\n",
        "    def forward(self, x):\n",
        "        x = self.flatten(x)\n",
        "        logits = self.linear_relu_stack(x)\n",
        "        log_probs = self.logsoft(logits)\n",
        "        #log_probs = nn.functional.log_softmax(logits, dim=1)\n",
        "        return log_probs"
      ],
      "metadata": {
        "id": "INvT2BAFBSlW"
      },
      "execution_count": null,
      "outputs": []
    },
    {
      "cell_type": "code",
      "source": [
        "model_7 = NeuralNetwork_4().to(device)\n",
        "optimizer_ft = torch.optim.SGD(model_7.parameters(), lr=0.0077, momentum=0.9)\n",
        "\n",
        "model_7, loss_acc = train_model_and_log(model_7, \n",
        "                    dataloaders,\n",
        "                       criterion, \n",
        "                       optimizer_ft, \n",
        "                       exp_lr_scheduler,\n",
        "                       num_epochs=15\n",
        "                       )\n",
        "\n",
        "plot_acc_loss(loss_acc)"
      ],
      "metadata": {
        "colab": {
          "base_uri": "https://localhost:8080/",
          "height": 1000
        },
        "id": "ZCOQzXv-B-Ls",
        "outputId": "2384ead6-0c10-4743-bf73-e89b5647b980"
      },
      "execution_count": null,
      "outputs": [
        {
          "output_type": "stream",
          "name": "stdout",
          "text": [
            "Epoch 0/14\n",
            "----------\n",
            "train Loss: 2.0539 Acc: 0.2357\n",
            "val Loss: 1.8781 Acc: 0.3215\n",
            "\n",
            "Epoch 1/14\n",
            "----------\n",
            "train Loss: 1.7957 Acc: 0.3518\n",
            "val Loss: 1.6884 Acc: 0.3924\n",
            "\n",
            "Epoch 2/14\n",
            "----------\n",
            "train Loss: 1.6844 Acc: 0.3929\n",
            "val Loss: 1.6293 Acc: 0.4111\n",
            "\n",
            "Epoch 3/14\n",
            "----------\n",
            "train Loss: 1.6076 Acc: 0.4240\n",
            "val Loss: 1.5959 Acc: 0.4195\n",
            "\n",
            "Epoch 4/14\n",
            "----------\n",
            "train Loss: 1.5522 Acc: 0.4438\n",
            "val Loss: 1.5206 Acc: 0.4535\n",
            "\n",
            "Epoch 5/14\n",
            "----------\n",
            "train Loss: 1.5013 Acc: 0.4619\n",
            "val Loss: 1.4736 Acc: 0.4743\n",
            "\n",
            "Epoch 6/14\n",
            "----------\n",
            "train Loss: 1.4599 Acc: 0.4766\n",
            "val Loss: 1.4725 Acc: 0.4763\n",
            "\n",
            "Epoch 7/14\n",
            "----------\n",
            "train Loss: 1.4348 Acc: 0.4879\n",
            "val Loss: 1.4512 Acc: 0.4755\n",
            "\n",
            "Epoch 8/14\n",
            "----------\n",
            "train Loss: 1.3940 Acc: 0.5001\n",
            "val Loss: 1.4209 Acc: 0.4952\n",
            "\n",
            "Epoch 9/14\n",
            "----------\n",
            "train Loss: 1.3662 Acc: 0.5099\n",
            "val Loss: 1.4082 Acc: 0.5013\n",
            "\n",
            "Epoch 10/14\n",
            "----------\n",
            "train Loss: 1.3372 Acc: 0.5215\n",
            "val Loss: 1.4048 Acc: 0.4928\n",
            "\n",
            "Epoch 11/14\n",
            "----------\n",
            "train Loss: 1.3058 Acc: 0.5335\n",
            "val Loss: 1.3885 Acc: 0.4981\n",
            "\n",
            "Epoch 12/14\n",
            "----------\n",
            "train Loss: 1.2886 Acc: 0.5387\n",
            "val Loss: 1.3974 Acc: 0.4993\n",
            "\n",
            "Epoch 13/14\n",
            "----------\n",
            "train Loss: 1.2695 Acc: 0.5458\n",
            "val Loss: 1.3671 Acc: 0.5138\n",
            "\n",
            "Epoch 14/14\n",
            "----------\n",
            "train Loss: 1.2411 Acc: 0.5573\n",
            "val Loss: 1.3453 Acc: 0.5233\n",
            "\n",
            "Training complete in 2m 26s\n",
            "Best val Acc: 0.523300\n"
          ]
        },
        {
          "output_type": "display_data",
          "data": {
            "text/plain": [
              "<Figure size 864x288 with 2 Axes>"
            ],
            "image/png": "[encoded data removed]"
          },
          "metadata": {
            "needs_background": "light"
          }
        }
      ]
    },
    {
      "cell_type": "code",
      "source": [
        "class NeuralNetwork_5(nn.Module):\n",
        "    def __init__(self, p=0.3):\n",
        "        super(NeuralNetwork_5, self).__init__()\n",
        "        self.flatten = nn.Flatten()\n",
        "        self.linear_relu_stack = nn.Sequential(\n",
        "            nn.Linear(32*32*3, 512),\n",
        "            nn.ReLU(),\n",
        "            nn.Dropout(p=p),  # Add dropout layer with probability p\n",
        "            nn.Linear(512, 256),\n",
        "            nn.ReLU(),\n",
        "            nn.Dropout(p=p),  # Add dropout layer with probability p\n",
        "            nn.Linear(256, 10),\n",
        "        )\n",
        "        self.logsoft = nn.LogSoftmax(dim=1)\n",
        "\n",
        "\n",
        "    def forward(self, x):\n",
        "        x = self.flatten(x)\n",
        "        logits = self.linear_relu_stack(x)\n",
        "        log_probs = self.logsoft(logits)\n",
        "        #log_probs = nn.functional.log_softmax(logits, dim=1)\n",
        "        return log_probs"
      ],
      "metadata": {
        "id": "bVXG-3SzCwSE"
      },
      "execution_count": null,
      "outputs": []
    },
    {
      "cell_type": "code",
      "source": [
        "model_8 = NeuralNetwork_5().to(device)\n",
        "optimizer_ft = torch.optim.SGD(model_8.parameters(), lr=0.0077, momentum=0.9)\n",
        "\n",
        "model_8, loss_acc = train_model_and_log(model_8, \n",
        "                    dataloaders,\n",
        "                       criterion, \n",
        "                       optimizer_ft, \n",
        "                       exp_lr_scheduler,\n",
        "                       num_epochs=15\n",
        "                       )\n",
        "\n",
        "plot_acc_loss(loss_acc)"
      ],
      "metadata": {
        "colab": {
          "base_uri": "https://localhost:8080/",
          "height": 1000
        },
        "id": "_YuowCULDAqJ",
        "outputId": "c58aa643-b38e-4e62-87f8-84ad8c51b2b6"
      },
      "execution_count": null,
      "outputs": [
        {
          "output_type": "stream",
          "name": "stdout",
          "text": [
            "Epoch 0/14\n",
            "----------\n",
            "train Loss: 2.0091 Acc: 0.2638\n",
            "val Loss: 1.8276 Acc: 0.3408\n",
            "\n",
            "Epoch 1/14\n",
            "----------\n",
            "train Loss: 1.8107 Acc: 0.3482\n",
            "val Loss: 1.7046 Acc: 0.3907\n",
            "\n",
            "Epoch 2/14\n",
            "----------\n",
            "train Loss: 1.7294 Acc: 0.3797\n",
            "val Loss: 1.6473 Acc: 0.4094\n",
            "\n",
            "Epoch 3/14\n",
            "----------\n",
            "train Loss: 1.6809 Acc: 0.4002\n",
            "val Loss: 1.5932 Acc: 0.4322\n",
            "\n",
            "Epoch 4/14\n",
            "----------\n",
            "train Loss: 1.6431 Acc: 0.4127\n",
            "val Loss: 1.5667 Acc: 0.4467\n",
            "\n",
            "Epoch 5/14\n",
            "----------\n",
            "train Loss: 1.6162 Acc: 0.4241\n",
            "val Loss: 1.5341 Acc: 0.4583\n",
            "\n",
            "Epoch 6/14\n",
            "----------\n",
            "train Loss: 1.5857 Acc: 0.4330\n",
            "val Loss: 1.4957 Acc: 0.4736\n",
            "\n",
            "Epoch 7/14\n",
            "----------\n",
            "train Loss: 1.5632 Acc: 0.4418\n",
            "val Loss: 1.4960 Acc: 0.4704\n",
            "\n",
            "Epoch 8/14\n",
            "----------\n",
            "train Loss: 1.5448 Acc: 0.4487\n",
            "val Loss: 1.4774 Acc: 0.4680\n",
            "\n",
            "Epoch 9/14\n",
            "----------\n",
            "train Loss: 1.5223 Acc: 0.4571\n",
            "val Loss: 1.4696 Acc: 0.4773\n",
            "\n",
            "Epoch 10/14\n",
            "----------\n",
            "train Loss: 1.5067 Acc: 0.4609\n",
            "val Loss: 1.4628 Acc: 0.4715\n",
            "\n",
            "Epoch 11/14\n",
            "----------\n",
            "train Loss: 1.5001 Acc: 0.4662\n",
            "val Loss: 1.4428 Acc: 0.4877\n",
            "\n",
            "Epoch 12/14\n",
            "----------\n",
            "train Loss: 1.4797 Acc: 0.4717\n",
            "val Loss: 1.4250 Acc: 0.4977\n",
            "\n",
            "Epoch 13/14\n",
            "----------\n",
            "train Loss: 1.4651 Acc: 0.4766\n",
            "val Loss: 1.3986 Acc: 0.5027\n",
            "\n",
            "Epoch 14/14\n",
            "----------\n",
            "train Loss: 1.4502 Acc: 0.4809\n",
            "val Loss: 1.3996 Acc: 0.5017\n",
            "\n",
            "Training complete in 2m 25s\n",
            "Best val Acc: 0.502700\n"
          ]
        },
        {
          "output_type": "display_data",
          "data": {
            "text/plain": [
              "<Figure size 864x288 with 2 Axes>"
            ],
            "image/png": "[encoded data removed]"
          },
          "metadata": {
            "needs_background": "light"
          }
        }
      ]
    },
    {
      "cell_type": "code",
      "source": [
        "model_9 = NeuralNetwork_3().to(device)\n",
        "optimizer_ft = optim.SGD(model_9.parameters(), lr=0.0077, momentum=0.9)\n",
        "\n",
        "model_9, loss_acc = train_model_and_log(model_9, \n",
        "                    dataloaders,\n",
        "                       criterion_nll, \n",
        "                       optimizer_ft, \n",
        "                       exp_lr_scheduler,\n",
        "                       num_epochs=17)\n",
        "\n",
        "plot_acc_loss(loss_acc)"
      ],
      "metadata": {
        "colab": {
          "base_uri": "https://localhost:8080/",
          "height": 1000
        },
        "id": "FkExdDntEy_5",
        "outputId": "e4209e17-14e3-4750-bd38-b6e386d65010"
      },
      "execution_count": null,
      "outputs": [
        {
          "output_type": "stream",
          "name": "stdout",
          "text": [
            "Epoch 0/16\n",
            "----------\n",
            "train Loss: 1.9584 Acc: 0.2883\n",
            "val Loss: 1.7752 Acc: 0.3625\n",
            "\n",
            "Epoch 1/16\n",
            "----------\n",
            "train Loss: 1.7265 Acc: 0.3805\n",
            "val Loss: 1.6566 Acc: 0.4097\n",
            "\n",
            "Epoch 2/16\n",
            "----------\n",
            "train Loss: 1.6258 Acc: 0.4217\n",
            "val Loss: 1.5608 Acc: 0.4400\n",
            "\n",
            "Epoch 3/16\n",
            "----------\n",
            "train Loss: 1.5621 Acc: 0.4464\n",
            "val Loss: 1.5632 Acc: 0.4447\n",
            "\n",
            "Epoch 4/16\n",
            "----------\n",
            "train Loss: 1.5102 Acc: 0.4643\n",
            "val Loss: 1.5347 Acc: 0.4497\n",
            "\n",
            "Epoch 5/16\n",
            "----------\n",
            "train Loss: 1.4612 Acc: 0.4788\n",
            "val Loss: 1.4736 Acc: 0.4795\n",
            "\n",
            "Epoch 6/16\n",
            "----------\n",
            "train Loss: 1.4327 Acc: 0.4903\n",
            "val Loss: 1.4514 Acc: 0.4869\n",
            "\n",
            "Epoch 7/16\n",
            "----------\n",
            "train Loss: 1.4010 Acc: 0.5012\n",
            "val Loss: 1.4290 Acc: 0.4915\n",
            "\n",
            "Epoch 8/16\n",
            "----------\n",
            "train Loss: 1.3718 Acc: 0.5107\n",
            "val Loss: 1.3914 Acc: 0.5056\n",
            "\n",
            "Epoch 9/16\n",
            "----------\n",
            "train Loss: 1.3341 Acc: 0.5235\n",
            "val Loss: 1.4222 Acc: 0.4960\n",
            "\n",
            "Epoch 10/16\n",
            "----------\n",
            "train Loss: 1.3198 Acc: 0.5288\n",
            "val Loss: 1.4179 Acc: 0.4928\n",
            "\n",
            "Epoch 11/16\n",
            "----------\n",
            "train Loss: 1.3009 Acc: 0.5355\n",
            "val Loss: 1.3883 Acc: 0.5075\n",
            "\n",
            "Epoch 12/16\n",
            "----------\n",
            "train Loss: 1.2682 Acc: 0.5495\n",
            "val Loss: 1.3691 Acc: 0.5124\n",
            "\n",
            "Epoch 13/16\n",
            "----------\n",
            "train Loss: 1.2576 Acc: 0.5534\n",
            "val Loss: 1.3297 Acc: 0.5304\n",
            "\n",
            "Epoch 14/16\n",
            "----------\n",
            "train Loss: 1.2279 Acc: 0.5637\n",
            "val Loss: 1.3557 Acc: 0.5218\n",
            "\n",
            "Epoch 15/16\n",
            "----------\n",
            "train Loss: 1.2035 Acc: 0.5722\n",
            "val Loss: 1.3534 Acc: 0.5251\n",
            "\n",
            "Epoch 16/16\n",
            "----------\n",
            "train Loss: 1.1867 Acc: 0.5783\n",
            "val Loss: 1.3402 Acc: 0.5264\n",
            "\n",
            "Training complete in 2m 46s\n",
            "Best val Acc: 0.530400\n"
          ]
        },
        {
          "output_type": "display_data",
          "data": {
            "text/plain": [
              "<Figure size 864x288 with 2 Axes>"
            ],
            "image/png": "[encoded data removed]"
          },
          "metadata": {
            "needs_background": "light"
          }
        }
      ]
    },
    {
      "metadata": {
        "id": "N40TSSK0b1s-"
      },
      "cell_type": "markdown",
      "source": [
        "# Interview Question (15 points)\n",
        "\n",
        "Now that you have trained a Neural Network classifier, you may find that your testing accuracy is lower than the training accuracy. In what ways can we decrease this gap? Select all that apply.\n",
        "1. Train on a larger dataset.\n",
        "2. Add more hidden units.\n",
        "3. Increase the regularization strength.\n",
        "4. None of the above.\n",
        "\n",
        "*Your answer*:\n",
        "\n",
        "\n",
        "*Your explanation:*\n",
        "\n",
        "\n",
        "\n",
        "We saw that L1 regularization helped to decrease this gap in the examples above, but it tends to overfitt on the train data, so we have to be carefull with the values of the parametrs. We could think that it because with this regularisation we trying to avoid some features to be more strong that might just hold the data from train data.\n",
        "\n",
        "Also hidden layes with the same amount of data most probably will lead to more higher accuracy on a train data while the NN will learn ot better with more place to save knoledge. But if we will add more data and use some drop out all this together could help if our model will became more generalise and less specific for the train data.\n",
        "\n",
        "\n",
        "Using larger dataset could help us decrease the gap in terms of increasing the loss in a train dataset - because the NN wouldn't be able to \"remember\" data."
      ]
    },
    {
      "cell_type": "code",
      "source": [],
      "metadata": {
        "id": "_fMV9mnvVWiJ"
      },
      "execution_count": null,
      "outputs": []
    }
  ]
}