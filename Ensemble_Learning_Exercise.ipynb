{
  "cells": [
    {
      "cell_type": "markdown",
      "metadata": {
        "id": "HxuOSmJ4mdfp"
      },
      "source": [
        "# Ensemble Learning Exercise"
      ]
    },
    {
      "cell_type": "markdown",
      "metadata": {
        "id": "AYTXX2E6mdfr"
      },
      "source": [
        "## 1. Implementing Random Forest From Scratch (30 points)\n",
        "In this exercise you will need to implement a simple version of Random Forest Regressor from scratch. Your model will handle **continuous input and output**. \n",
        "\n",
        "1.1. Compelete the skeleton class below (you should use scikit-learn's `DecisionTreeRegressor` model that the `TreeEnsemble` will use)\n",
        "  - `X` is a matrix of data values (rows are samples, columns are attributes)\n",
        "  - `y` is a vector of corresponding target values\n",
        "  - `n_trees` is the number of trees to create\n",
        "  - `sample_sz` is the size of the sample set to use of each of the trees in the forest (chose the samples randomly, with or without repetition)\n",
        "  - `n_features` is the size of features to sample. This can be a natrual number > 0, or a ratio of the features as a number in range (0,1]\n",
        "  - `min_leaf` is the minimal number of samples in each leaf node of each tree in the forest\n",
        "  \n",
        "\n",
        "1.2. The `predict` function will use mean of the target values of the trees. The result is a vector of predictions matching the number of rows in `X`.\n",
        "\n",
        "1.3. The `oob_mse` function will compute the mean squared error over all **out of bag (oob)** samples. That is, for each sample calculate the squared error using  predictions from the trees that do not contain x in their respective bootstrap sample, then average this score for all samples. See:  [OOB Errors for Random Forests](https://scikit-learn.org/stable/auto_examples/ensemble/plot_ensemble_oob.html).\n",
        "\n",
        "1.4. To check your random forest implementation, use the boston dataset (`from sklearn.datasets import load_boston`)\n",
        "\n",
        "  - Use the following to estimate what are the best hyper parameters to use for your model\n",
        "```\n",
        "for n in [1,5,10,20,50,100]:\n",
        "  for sz in [50,100,300,500]:\n",
        "    for min_leaf in [1,5]:\n",
        "      forest = TreeEnsemble(X, y, n, sz, min_leaf)\n",
        "      mse = forest.oob_mse()\n",
        "      print(\"n_trees:{0}, sz:{1}, min_leaf:{2} --- oob mse: {3}\".format(n, sz, min_leaf, mse))\n",
        "```\n",
        "  \n",
        "  - Using your chosen hyperparameters as a final model, plot the predictions vs. true values of all the samples in the training set . Use something like:\n",
        "  ```\n",
        "  y_hat = forest.predict(X)  # forest is the chosen model\n",
        "  plt.scatter(y_hat, y)\n",
        "  ```\n",
        " \n"
      ]
    },
    {
      "cell_type": "code",
      "execution_count": 186,
      "metadata": {
        "id": "sHamBoBemdfs"
      },
      "outputs": [],
      "source": [
        "from sklearn.tree import DecisionTreeRegressor\n",
        "from sklearn.metrics import mean_absolute_error\n",
        "\n",
        "class TreeEnsemble():\n",
        "    def __init__(self, X, y, n_trees, sample_sz, n_features, min_leaf):\n",
        "        # let get the number of features, not fraction:\n",
        "        if n_features < 1:\n",
        "            self.n_features = round(X.shape[1] * n_features)\n",
        "        else:\n",
        "            self.n_features = n_features\n",
        "        self.trees = []\n",
        "        self.features = []\n",
        "        self.n_trees = n_trees\n",
        "        self.row_indexes = []\n",
        "        self.X = X\n",
        "        self.y = y\n",
        "        for i in range(self.n_trees):\n",
        "            ind_rows = np.random.choice(X.shape[0], sample_sz, replace=True)\n",
        "            ind_features = np.random.choice(X.shape[1], self.n_features, replace=False)\n",
        "            x_sample = X.iloc[ind_rows,:].iloc[:,ind_features]\n",
        "            y_sample = y.iloc[ind_rows]\n",
        "            tree = DecisionTreeRegressor(min_samples_leaf=min_leaf).fit(x_sample, y_sample)\n",
        "            self.trees.append(tree)\n",
        "            self.features.append(ind_features)\n",
        "            self.row_indexes.append(ind_rows)\n",
        "\n",
        "\n",
        "    def predict(self, X):\n",
        "        predictions = np.zeros(X.shape[0])\n",
        "        for i in range(self.n_trees):\n",
        "            tree = self.trees[i]\n",
        "            ind_features = self.features[i]\n",
        "            prediction = tree.predict(X.iloc[:,ind_features])\n",
        "            predictions += prediction / self.n_trees\n",
        "        return prediction\n",
        "\n",
        "    def oob_mse(self):\n",
        "        all_indexes = set(range(self.X.shape[0]))\n",
        "        mse = 0\n",
        "        for i in range(self.n_trees):   \n",
        "            ind_rows = list(all_indexes - set(self.row_indexes[i]))\n",
        "            if len(ind_rows) == 0:\n",
        "                continue\n",
        "            ind_features = self.features[i]\n",
        "            # print(ind_rows,ind_features)\n",
        "            x_sample = self.X.iloc[ind_rows,:].iloc[:,ind_features]\n",
        "            y_sample = self.y.iloc[ind_rows]\n",
        "            pred = self.trees[i].predict(x_sample)\n",
        "            mse +=  mean_absolute_error(pred,y_sample) / self.n_trees\n",
        "        return mse\n"
      ]
    },
    {
      "cell_type": "code",
      "execution_count": null,
      "metadata": {},
      "outputs": [],
      "source": [
        "from sklearn.datasets import load_boston\n",
        "boston_dataset = load_boston()\n",
        "import pandas as pd\n",
        "import numpy as np\n",
        "from sklearn.model_selection import train_test_split\n",
        "boston = pd.DataFrame(boston_dataset.data, columns=boston_dataset.feature_names)\n",
        "X = pd.DataFrame(boston)\n",
        "Y = pd.DataFrame(boston_dataset.target)\n",
        "\n",
        "X_train, X_test, Y_train, Y_test = train_test_split(X, Y, test_size = 0.2, random_state=317)"
      ]
    },
    {
      "cell_type": "code",
      "execution_count": 179,
      "metadata": {},
      "outputs": [
        {
          "data": {
            "text/plain": [
              "4.811862003859367"
            ]
          },
          "execution_count": 179,
          "metadata": {},
          "output_type": "execute_result"
        }
      ],
      "source": [
        "ens = TreeEnsemble(X_train, Y_train, n_trees=15, sample_sz=100, n_features=5, min_leaf=5)\n",
        "ens.oob_mse()"
      ]
    },
    {
      "cell_type": "code",
      "execution_count": 200,
      "metadata": {},
      "outputs": [
        {
          "name": "stderr",
          "output_type": "stream",
          "text": [
            "/var/folders/w6/3gxjz5p507nbml8f724sbh_r0000gn/T/ipykernel_28790/1330144751.py:3: DataConversionWarning: A column-vector y was passed when a 1d array was expected. Please change the shape of y to (n_samples,), for example using ravel().\n",
            "  clf.fit(X_train, Y_train)\n"
          ]
        },
        {
          "data": {
            "text/plain": [
              "0.7136002370582393"
            ]
          },
          "execution_count": 200,
          "metadata": {},
          "output_type": "execute_result"
        }
      ],
      "source": [
        "from sklearn.ensemble import RandomForestRegressor\n",
        "clf = RandomForestRegressor(max_depth=2, random_state=0,oob_score=True)\n",
        "clf.fit(X_train, Y_train)\n",
        "clf.oob_score_"
      ]
    },
    {
      "cell_type": "code",
      "execution_count": 204,
      "metadata": {},
      "outputs": [
        {
          "name": "stdout",
          "output_type": "stream",
          "text": [
            "n_trees:1, sz:50, min_leaf:1 --- oob mse: 4.283150984682713\n",
            "n_trees:1, sz:50, min_leaf:5 --- oob mse: 5.57809211211837\n",
            "n_trees:1, sz:100, min_leaf:1 --- oob mse: 4.506746987951808\n",
            "n_trees:1, sz:100, min_leaf:5 --- oob mse: 3.5502823786519437\n",
            "n_trees:1, sz:300, min_leaf:1 --- oob mse: 5.57452807646356\n",
            "n_trees:1, sz:300, min_leaf:5 --- oob mse: 5.406814420803783\n",
            "n_trees:1, sz:500, min_leaf:1 --- oob mse: 5.792742551566081\n",
            "n_trees:1, sz:500, min_leaf:5 --- oob mse: 4.1777165062916355\n",
            "n_trees:5, sz:50, min_leaf:1 --- oob mse: 6.1320604282724815\n",
            "n_trees:5, sz:50, min_leaf:5 --- oob mse: 4.564859740715522\n",
            "n_trees:5, sz:100, min_leaf:1 --- oob mse: 4.136296624755682\n",
            "n_trees:5, sz:100, min_leaf:5 --- oob mse: 5.34863311929926\n",
            "n_trees:5, sz:300, min_leaf:1 --- oob mse: 4.440952425580851\n",
            "n_trees:5, sz:300, min_leaf:5 --- oob mse: 4.856677933186704\n",
            "n_trees:5, sz:500, min_leaf:1 --- oob mse: 4.0523678371896334\n",
            "n_trees:5, sz:500, min_leaf:5 --- oob mse: 4.74162747281836\n",
            "n_trees:10, sz:50, min_leaf:1 --- oob mse: 5.142312147376309\n",
            "n_trees:10, sz:50, min_leaf:5 --- oob mse: 5.184742784781245\n",
            "n_trees:10, sz:100, min_leaf:1 --- oob mse: 4.785107806301081\n",
            "n_trees:10, sz:100, min_leaf:5 --- oob mse: 4.631140025213395\n",
            "n_trees:10, sz:300, min_leaf:1 --- oob mse: 4.860687938297998\n",
            "n_trees:10, sz:300, min_leaf:5 --- oob mse: 4.158219843824667\n",
            "n_trees:10, sz:500, min_leaf:1 --- oob mse: 4.5031874116693205\n",
            "n_trees:10, sz:500, min_leaf:5 --- oob mse: 4.291517925133412\n",
            "n_trees:20, sz:50, min_leaf:1 --- oob mse: 5.4861919303550275\n",
            "n_trees:20, sz:50, min_leaf:5 --- oob mse: 4.9612357489541115\n",
            "n_trees:20, sz:100, min_leaf:1 --- oob mse: 4.828969327113212\n",
            "n_trees:20, sz:100, min_leaf:5 --- oob mse: 4.7833222328382865\n",
            "n_trees:20, sz:300, min_leaf:1 --- oob mse: 4.836943604515182\n",
            "n_trees:20, sz:300, min_leaf:5 --- oob mse: 4.131205005621303\n",
            "n_trees:20, sz:500, min_leaf:1 --- oob mse: 4.663107407120816\n",
            "n_trees:20, sz:500, min_leaf:5 --- oob mse: 4.310079432785962\n",
            "n_trees:50, sz:50, min_leaf:1 --- oob mse: 5.472007328566975\n",
            "n_trees:50, sz:50, min_leaf:5 --- oob mse: 5.3665030364056845\n",
            "n_trees:50, sz:100, min_leaf:1 --- oob mse: 5.175047316846665\n",
            "n_trees:50, sz:100, min_leaf:5 --- oob mse: 4.63175139998064\n",
            "n_trees:50, sz:300, min_leaf:1 --- oob mse: 4.675814545996936\n",
            "n_trees:50, sz:300, min_leaf:5 --- oob mse: 4.323511191801632\n",
            "n_trees:50, sz:500, min_leaf:1 --- oob mse: 4.459549829793493\n",
            "n_trees:50, sz:500, min_leaf:5 --- oob mse: 3.989639687067212\n",
            "n_trees:100, sz:50, min_leaf:1 --- oob mse: 5.457969218930407\n",
            "n_trees:100, sz:50, min_leaf:5 --- oob mse: 5.092748573849062\n",
            "n_trees:100, sz:100, min_leaf:1 --- oob mse: 5.016414948421996\n",
            "n_trees:100, sz:100, min_leaf:5 --- oob mse: 4.6925099751479316\n",
            "n_trees:100, sz:300, min_leaf:1 --- oob mse: 4.560073920146045\n",
            "n_trees:100, sz:300, min_leaf:5 --- oob mse: 4.1089652558585845\n",
            "n_trees:100, sz:500, min_leaf:1 --- oob mse: 4.5778156625192485\n",
            "n_trees:100, sz:500, min_leaf:5 --- oob mse: 4.067969483224828\n"
          ]
        }
      ],
      "source": [
        "for n in [1,5,10,20,50,100]:\n",
        "  for sz in [50,100,300,500]:\n",
        "    for min_leaf in [1,5]:\n",
        "      forest = TreeEnsemble(X=X, y=Y, n_trees=n, sample_sz=sz, min_leaf=min_leaf, n_features=5)\n",
        "      mse = forest.oob_mse()\n",
        "      print(\"n_trees:{0}, sz:{1}, min_leaf:{2} --- oob mse: {3}\".format(n, sz, min_leaf, mse))"
      ]
    },
    {
      "cell_type": "code",
      "execution_count": 206,
      "metadata": {},
      "outputs": [
        {
          "data": {
            "text/plain": [
              "<matplotlib.collections.PathCollection at 0x7fd6403d6df0>"
            ]
          },
          "execution_count": 206,
          "metadata": {},
          "output_type": "execute_result"
        },
        {
          "data": {
            "image/png": "[encoded data removed]",
            "text/plain": [
              "<Figure size 640x480 with 1 Axes>"
            ]
          },
          "metadata": {},
          "output_type": "display_data"
        }
      ],
      "source": [
        "import matplotlib.pyplot as plt\n",
        "# n_trees:1, sz:300, min_leaf:1 --- oob mse: 3.9354166666666663\n",
        "forest = TreeEnsemble(X=X, y=Y, n_trees=1, sample_sz=300, min_leaf=1, n_features=5)\n",
        "\n",
        "y_hat = forest.predict(X)  # forest is the chosen model\n",
        "plt.scatter(y_hat, Y)"
      ]
    },
    {
      "cell_type": "markdown",
      "metadata": {
        "id": "kt7N2c7tmdfs"
      },
      "source": [
        "## 2. Implementing AdaBoost From Scratch (30 points)\n",
        "\n",
        "\n",
        "2.1.   Implement the AdaBoost algorithm for classification task. Your `AdaBoost` class should receive a method for creating a weak learner, which has a fit and predict methods (**hint**: you can simulate re-weighting of the samples by an appropriate re-sampling of the train set).\n",
        "\n",
        "2.2.   Use your model to find a strong classifier on the sample set given below, using $n$ weak learners:\n",
        "\n",
        "2.2.1. For the base weak learners, use any classifier you want (check different types with different configuration, keep them simple = Weak). \n",
        "\n",
        "2.2.2. Split the sample set into train and test sets.\n",
        "\n",
        "2.2.3 Plot the final decision plane of your classifier for $n\\in \\{1, 2, 3, 5, 10, 50\\}$, and visualize the final iteration weights of the samples in those plots.\n",
        "    - How does the overall train set accuracy changes with $n$?\n",
        "    - Does you model starts to overfit at some point?\n",
        "\n",
        "\n",
        "\n"
      ]
    },
    {
      "cell_type": "code",
      "execution_count": 369,
      "metadata": {},
      "outputs": [],
      "source": [
        "import numpy as np\n",
        "import pandas as pd\n",
        "\n",
        "\n",
        "class AdaBoost():\n",
        "    def __init__(self, weak_learner, n_learners=50):\n",
        "        self.weak_learner = weak_learner\n",
        "        self.n_learners = n_learners\n",
        "        self.learners = []\n",
        "        self.alphas = []\n",
        "\n",
        "    def fit(self, X, y):\n",
        "        n_samples, _ = X.shape\n",
        "        for i in range(self.n_learners):\n",
        "            w = np.ones(n_samples) / n_samples\n",
        "            learner = self.weak_learner\n",
        "            learner.fit(X, y, sample_weight=w)\n",
        "            predictions = learner.predict(X)\n",
        "            error = np.sum(w[predictions != y])\n",
        "            alpha = 0.5 * np.log((1 - error) / error)\n",
        "            w *= np.exp(-alpha * y * predictions)\n",
        "            w /= np.sum(w)\n",
        "            self.learners.append(learner)\n",
        "            self.alphas.append(alpha)\n",
        "            X, y = self.resample(X, y, w)\n",
        "\n",
        "\n",
        "    def resample(self, X, y, w):\n",
        "        # Combine the data, target, and weights into a single DataFrame\n",
        "        combined = pd.DataFrame(np.hstack((X, np.vstack((y, w)).T)))\n",
        "        # Resample the DataFrame based on the weights\n",
        "        df_resampled = combined.sample(n=len(y), replace=True, weights=combined.iloc[:,-1])\n",
        "\n",
        "        return df_resampled.iloc[:,:X.shape[1]], df_resampled.iloc[:,X.shape[1]:-1].squeeze()\n",
        "\n",
        "\n",
        "\n",
        "    def predict(self, X):\n",
        "        n_samples, _ = X.shape\n",
        "        y_pred = np.zeros(n_samples)\n",
        "        for learner, alpha in zip(self.learners, self.alphas):\n",
        "            y_pred += alpha * learner.predict(X)\n",
        "        y_pred = np.sign(y_pred)\n",
        "        return y_pred\n"
      ]
    },
    {
      "cell_type": "code",
      "execution_count": 207,
      "metadata": {
        "id": "Hw1uXpshmdft"
      },
      "outputs": [
        {
          "data": {
            "image/png": "[encoded data removed]",
            "text/plain": [
              "<Figure size 640x480 with 1 Axes>"
            ]
          },
          "metadata": {},
          "output_type": "display_data"
        }
      ],
      "source": [
        "from sklearn.datasets import make_circles\n",
        "from matplotlib import pyplot\n",
        "from pandas import DataFrame\n",
        "\n",
        "# generate 2d classification dataset\n",
        "X, y = make_circles(n_samples=1500, noise=0.2, random_state=101, factor=0.5)\n",
        "\n",
        "# scatter plot, dots colored by class value\n",
        "df = DataFrame(dict(x=X[:,0], y=X[:,1], label=y))\n",
        "colors = {0:'red', 1:'blue'}\n",
        "fig, ax = pyplot.subplots()\n",
        "grouped = df.groupby('label')\n",
        "for key, group in grouped:\n",
        "    group.plot(ax=ax, kind='scatter', x='x', y='y', label=key, color=colors[key])\n",
        "pyplot.show()"
      ]
    },
    {
      "cell_type": "code",
      "execution_count": 236,
      "metadata": {
        "id": "oEutkwR2mdft"
      },
      "outputs": [],
      "source": [
        "from sklearn.tree import DecisionTreeClassifier\n",
        "from sklearn.naive_bayes import GaussianNB\n",
        "from sklearn.neighbors import KNeighborsClassifier\n",
        "from sklearn.linear_model import Perceptron\n",
        "from sklearn.linear_model import SGDClassifier\n",
        "from sklearn.metrics import mean_absolute_error\n",
        "\n",
        "X, y = make_circles(n_samples=1500, noise=0.2, random_state=101, factor=0.5)\n",
        "X_train, X_test, y_train, y_test = train_test_split(X, y, test_size = 0.2, random_state=317)\n"
      ]
    },
    {
      "cell_type": "code",
      "execution_count": 370,
      "metadata": {},
      "outputs": [
        {
          "name": "stdout",
          "output_type": "stream",
          "text": [
            "For DecisionTreeClassifier(max_depth=1): n=1, the mse=0.4433\n",
            "For DecisionTreeClassifier(max_depth=1): n=2, the mse=0.4433\n",
            "For DecisionTreeClassifier(max_depth=1): n=3, the mse=0.4533\n",
            "For DecisionTreeClassifier(max_depth=1): n=5, the mse=0.4533\n",
            "For DecisionTreeClassifier(max_depth=1): n=10, the mse=0.4533\n",
            "For DecisionTreeClassifier(max_depth=1): n=50, the mse=0.4533\n",
            "For GaussianNB(): n=1, the mse=0.1100\n",
            "For GaussianNB(): n=2, the mse=0.3433\n",
            "For GaussianNB(): n=3, the mse=0.4100\n",
            "For GaussianNB(): n=5, the mse=0.4400\n",
            "For GaussianNB(): n=10, the mse=0.4533\n",
            "For GaussianNB(): n=50, the mse=0.4533\n",
            "For Perceptron(): n=1, the mse=0.4233\n",
            "For Perceptron(): n=2, the mse=0.4067\n",
            "For Perceptron(): n=3, the mse=0.4267\n",
            "For Perceptron(): n=5, the mse=0.5200\n",
            "For Perceptron(): n=10, the mse=0.4933\n",
            "For Perceptron(): n=50, the mse=0.4533\n",
            "For SGDClassifier(): n=1, the mse=0.5467\n",
            "For SGDClassifier(): n=2, the mse=0.4533\n",
            "For SGDClassifier(): n=3, the mse=0.5467\n",
            "For SGDClassifier(): n=5, the mse=0.5467\n",
            "For SGDClassifier(): n=10, the mse=0.4533\n",
            "For SGDClassifier(): n=50, the mse=0.4533\n"
          ]
        }
      ],
      "source": [
        "\n",
        "for learner in [DecisionTreeClassifier(max_depth=1),GaussianNB(),Perceptron(),SGDClassifier()]:\n",
        "\n",
        "# for learner in [DecisionTreeClassifier]:\n",
        "    for n in [1,2,3,5,10,50]:\n",
        "        ada = AdaBoost(weak_learner=learner, n_learners=n)\n",
        "        ada.fit(X_train,y_train)\n",
        "        y_pred = ada.predict(X_test)\n",
        "        print(f'For {learner}: n={n}, the mse={mean_absolute_error(y_test,y_pred):.4f}')"
      ]
    },
    {
      "cell_type": "code",
      "execution_count": null,
      "metadata": {},
      "outputs": [],
      "source": []
    },
    {
      "cell_type": "markdown",
      "metadata": {
        "id": "_WA2heXLmdft"
      },
      "source": [
        "## 3. Boosting Trees from Scratch (40 points)\n",
        "1. Use the scikit-learn's DecisionTreeRegressor (again :) with `max_depth = 1` (stumps)  to write a L2Boost model which minimize the L2 square loss iteration by iteration.\n",
        "Reminder: in each step, build a decision tree to minimize the error between the true label and the accumulated (sum) of the previous step predictions.\n",
        "![alt text](https://explained.ai/gradient-boosting/images/latex-321A7951E78381FB73D2A6874916134D.svg)\n",
        "2. Use the Boston dataset to plot the MSE as a function of the number of trees for a logspace of `n_trees` up to 1,000. What is the optimal value of `n_trees`? of learning rate?\n",
        "3. Compare the performance with a deep DecisionTreeRegressor (find the optimal `max_depth`).  Who wins?\n",
        "4. Add an early-stopping mechanisim to the GBTL2 model to use a validation set to detect over-fit."
      ]
    },
    {
      "cell_type": "code",
      "execution_count": null,
      "metadata": {
        "id": "mKIhqCTEmdft"
      },
      "outputs": [],
      "source": []
    }
  ],
  "metadata": {
    "colab": {
      "provenance": []
    },
    "kernelspec": {
      "display_name": "base",
      "language": "python",
      "name": "python3"
    },
    "language_info": {
      "codemirror_mode": {
        "name": "ipython",
        "version": 3
      },
      "file_extension": ".py",
      "mimetype": "text/x-python",
      "name": "python",
      "nbconvert_exporter": "python",
      "pygments_lexer": "ipython3",
      "version": "3.9.13"
    },
    "vscode": {
      "interpreter": {
        "hash": "4afb1a9de92a1480aa03d8cf2eb92200404e379489b42821adaf7654ce4ec22a"
      }
    }
  },
  "nbformat": 4,
  "nbformat_minor": 0
}
