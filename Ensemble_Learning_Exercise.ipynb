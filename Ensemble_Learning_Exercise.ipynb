{
  "cells": [
    {
      "cell_type": "markdown",
      "metadata": {
        "id": "HxuOSmJ4mdfp"
      },
      "source": [
        "# Ensemble Learning Exercise"
      ]
    },
    {
      "cell_type": "markdown",
      "metadata": {
        "id": "AYTXX2E6mdfr"
      },
      "source": [
        "## 1. Implementing Random Forest From Scratch (30 points)\n",
        "In this exercise you will need to implement a simple version of Random Forest Regressor from scratch. Your model will handle **continuous input and output**. \n",
        "\n",
        "1.1. Compelete the skeleton class below (you should use scikit-learn's `DecisionTreeRegressor` model that the `TreeEnsemble` will use)\n",
        "  - `X` is a matrix of data values (rows are samples, columns are attributes)\n",
        "  - `y` is a vector of corresponding target values\n",
        "  - `n_trees` is the number of trees to create\n",
        "  - `sample_sz` is the size of the sample set to use of each of the trees in the forest (chose the samples randomly, with or without repetition)\n",
        "  - `n_features` is the size of features to sample. This can be a natrual number > 0, or a ratio of the features as a number in range (0,1]\n",
        "  - `min_leaf` is the minimal number of samples in each leaf node of each tree in the forest\n",
        "  \n",
        "\n",
        "1.2. The `predict` function will use mean of the target values of the trees. The result is a vector of predictions matching the number of rows in `X`.\n",
        "\n",
        "1.3. The `oob_mse` function will compute the mean squared error over all **out of bag (oob)** samples. That is, for each sample calculate the squared error using  predictions from the trees that do not contain x in their respective bootstrap sample, then average this score for all samples. See:  [OOB Errors for Random Forests](https://scikit-learn.org/stable/auto_examples/ensemble/plot_ensemble_oob.html).\n",
        "\n",
        "1.4. To check your random forest implementation, use the boston dataset (`from sklearn.datasets import load_boston`)\n",
        "\n",
        "  - Use the following to estimate what are the best hyper parameters to use for your model\n",
        "```\n",
        "for n in [1,5,10,20,50,100]:\n",
        "  for sz in [50,100,300,500]:\n",
        "    for min_leaf in [1,5]:\n",
        "      forest = TreeEnsemble(X, y, n, sz, min_leaf)\n",
        "      mse = forest.oob_mse()\n",
        "      print(\"n_trees:{0}, sz:{1}, min_leaf:{2} --- oob mse: {3}\".format(n, sz, min_leaf, mse))\n",
        "```\n",
        "  \n",
        "  - Using your chosen hyperparameters as a final model, plot the predictions vs. true values of all the samples in the training set . Use something like:\n",
        "  ```\n",
        "  y_hat = forest.predict(X)  # forest is the chosen model\n",
        "  plt.scatter(y_hat, y)\n",
        "  ```\n",
        " \n"
      ]
    },
    {
      "cell_type": "code",
      "execution_count": 30,
      "metadata": {},
      "outputs": [
        {
          "name": "stderr",
          "output_type": "stream",
          "text": [
            "/Users/tansla/opt/anaconda3/lib/python3.9/site-packages/sklearn/utils/deprecation.py:87: FutureWarning: Function load_boston is deprecated; `load_boston` is deprecated in 1.0 and will be removed in 1.2.\n",
            "\n",
            "    The Boston housing prices dataset has an ethical problem. You can refer to\n",
            "    the documentation of this function for further details.\n",
            "\n",
            "    The scikit-learn maintainers therefore strongly discourage the use of this\n",
            "    dataset unless the purpose of the code is to study and educate about\n",
            "    ethical issues in data science and machine learning.\n",
            "\n",
            "    In this special case, you can fetch the dataset from the original\n",
            "    source::\n",
            "\n",
            "        import pandas as pd\n",
            "        import numpy as np\n",
            "\n",
            "\n",
            "        data_url = \"http://lib.stat.cmu.edu/datasets/boston\"\n",
            "        raw_df = pd.read_csv(data_url, sep=\"\\s+\", skiprows=22, header=None)\n",
            "        data = np.hstack([raw_df.values[::2, :], raw_df.values[1::2, :2]])\n",
            "        target = raw_df.values[1::2, 2]\n",
            "\n",
            "    Alternative datasets include the California housing dataset (i.e.\n",
            "    :func:`~sklearn.datasets.fetch_california_housing`) and the Ames housing\n",
            "    dataset. You can load the datasets as follows::\n",
            "\n",
            "        from sklearn.datasets import fetch_california_housing\n",
            "        housing = fetch_california_housing()\n",
            "\n",
            "    for the California housing dataset and::\n",
            "\n",
            "        from sklearn.datasets import fetch_openml\n",
            "        housing = fetch_openml(name=\"house_prices\", as_frame=True)\n",
            "\n",
            "    for the Ames housing dataset.\n",
            "    \n",
            "  warnings.warn(msg, category=FutureWarning)\n"
          ]
        }
      ],
      "source": [
        "from sklearn.datasets import load_boston\n",
        "boston_dataset = load_boston()"
      ]
    },
    {
      "cell_type": "code",
      "execution_count": 36,
      "metadata": {},
      "outputs": [],
      "source": [
        "import pandas as pd\n",
        "from sklearn.model_selection import train_test_split\n",
        "boston = pd.DataFrame(boston_dataset.data, columns=boston_dataset.feature_names)\n",
        "X = pd.DataFrame(boston)\n",
        "Y = pd.DataFrame(boston_dataset.target)\n",
        "\n",
        "X_train, X_test, Y_train, Y_test = train_test_split(X, Y, test_size = 0.2, random_state=317)"
      ]
    },
    {
      "cell_type": "code",
      "execution_count": 43,
      "metadata": {},
      "outputs": [],
      "source": [
        "from sklearn.tree import DecisionTreeRegressor\n",
        "tree = DecisionTreeRegressor().fit(X_train, Y_train)\n",
        "pred = tree.predict(X_test)"
      ]
    },
    {
      "cell_type": "code",
      "execution_count": 59,
      "metadata": {},
      "outputs": [
        {
          "data": {
            "text/plain": [
              "array([ 6.8       ,  8.33333333,  6.76666667,  2.46666667, 16.66666667,\n",
              "        7.93333333,  2.83333333,  6.36666667, 15.13333333,  6.9       ,\n",
              "        4.86666667,  3.96666667,  7.73333333,  4.03333333,  7.23333333,\n",
              "        9.16666667,  8.23333333, 14.5       ,  4.46666667,  4.66666667,\n",
              "       11.06666667,  6.3       ,  8.16666667,  5.23333333,  6.26666667,\n",
              "        9.7       ,  7.5       ,  3.4       ,  4.        , 11.13333333,\n",
              "        5.13333333,  5.7       ,  2.33333333,  4.36666667,  5.36666667,\n",
              "        8.23333333,  4.86666667,  6.43333333, 12.4       ,  4.86666667,\n",
              "        4.36666667,  9.33333333,  9.56666667,  5.36666667,  4.5       ,\n",
              "        5.13333333, 10.5       ,  5.        ,  6.4       ,  5.4       ,\n",
              "       10.16666667,  2.76666667,  3.4       ,  5.36666667, 12.16666667,\n",
              "        6.16666667,  7.23333333,  6.36666667,  6.46666667,  7.03333333,\n",
              "        9.7       , 16.66666667,  7.23333333,  6.83333333,  4.46666667,\n",
              "        4.6       ,  9.96666667,  5.8       ,  6.3       ,  2.9       ,\n",
              "        3.4       ,  9.16666667,  5.1       ,  7.16666667,  7.        ,\n",
              "        7.23333333, 10.23333333,  5.6       ,  9.5       ,  7.9       ,\n",
              "        8.16666667, 12.43333333,  6.56666667,  8.16666667,  5.36666667,\n",
              "       11.1       ,  5.06666667,  7.5       ,  6.3       , 15.13333333,\n",
              "        5.83333333,  2.76666667,  9.46666667,  8.9       ,  8.26666667,\n",
              "        6.46666667,  2.8       , 10.16666667,  7.76666667,  5.03333333,\n",
              "        4.53333333,  6.66666667])"
            ]
          },
          "execution_count": 59,
          "metadata": {},
          "output_type": "execute_result"
        }
      ],
      "source": [
        "pred/3"
      ]
    },
    {
      "cell_type": "code",
      "execution_count": 24,
      "metadata": {},
      "outputs": [
        {
          "data": {
            "text/plain": [
              "array([[0.718  , 7.02259],\n",
              "       [0.538  , 1.61282],\n",
              "       [0.4379 , 0.03466]])"
            ]
          },
          "execution_count": 24,
          "metadata": {},
          "output_type": "execute_result"
        }
      ],
      "source": [
        "\n",
        "import numpy as np\n",
        "s = boston.data[np.random.choice(boston.data.shape[0], 3, replace=True), :][:,np.random.choice(boston.data.shape[1], 2, replace=False)]\n",
        "s"
      ]
    },
    {
      "cell_type": "code",
      "execution_count": 29,
      "metadata": {},
      "outputs": [
        {
          "data": {
            "text/plain": [
              "(2, 2.041)"
            ]
          },
          "execution_count": 29,
          "metadata": {},
          "output_type": "execute_result"
        }
      ],
      "source": [
        "round(0.157 * boston.data.shape[1]),0.157 * boston.data.shape[1]"
      ]
    },
    {
      "cell_type": "code",
      "execution_count": 102,
      "metadata": {
        "id": "sHamBoBemdfs"
      },
      "outputs": [],
      "source": [
        "from sklearn.tree import DecisionTreeRegressor\n",
        "\n",
        "class TreeEnsemble():\n",
        "    def __init__(self, X, y, n_trees, sample_sz, n_features, min_leaf):\n",
        "        # let get the number of features, not fraction:\n",
        "        if n_features < 1:\n",
        "            self.n_features = round(X.shape[1] * n_features)\n",
        "        else:\n",
        "            self.n_features = n_features\n",
        "        self.trees = []\n",
        "        self.features = []\n",
        "        self.n_trees = n_trees\n",
        "        for i in range(self.n_trees):\n",
        "            ind_rows = np.random.choice(X.shape[0], sample_sz, replace=True)\n",
        "            ind_features = np.random.choice(X.shape[1], self.n_features, replace=False)\n",
        "            x_sample = X.iloc[ind_rows,:].iloc[:,ind_features]\n",
        "            y_sample = y.iloc[ind_rows]\n",
        "            tree = DecisionTreeRegressor(min_samples_leaf=min_leaf).fit(x_sample, y_sample)\n",
        "            self.trees.append(tree)\n",
        "            self.features.append(ind_features)\n",
        "\n",
        "\n",
        "    def predict(self, X):\n",
        "        predictions = np.zeros(X.shape[0])\n",
        "        n_trees = len(self.trees)\n",
        "        for i in range(self.n_trees):\n",
        "            tree = self.trees[i]\n",
        "            ind_features = self.features[i]\n",
        "            prediction = tree.predict(X.iloc[:,ind_features])\n",
        "            predictions += prediction / n_trees\n",
        "        return prediction\n",
        "\n",
        "    def oob_mse(self):\n",
        "        pass\n",
        "\n"
      ]
    },
    {
      "cell_type": "code",
      "execution_count": null,
      "metadata": {},
      "outputs": [],
      "source": [
        "from sklearn.datasets import load_boston\n",
        "boston_dataset = load_boston()\n",
        "import pandas as pd\n",
        "import numpy as np\n",
        "from sklearn.model_selection import train_test_split\n",
        "boston = pd.DataFrame(boston_dataset.data, columns=boston_dataset.feature_names)\n",
        "X = pd.DataFrame(boston)\n",
        "Y = pd.DataFrame(boston_dataset.target)\n",
        "\n",
        "X_train, X_test, Y_train, Y_test = train_test_split(X, Y, test_size = 0.2, random_state=317)"
      ]
    },
    {
      "cell_type": "code",
      "execution_count": 90,
      "metadata": {},
      "outputs": [
        {
          "data": {
            "text/html": [
              "<div>\n",
              "<style scoped>\n",
              "    .dataframe tbody tr th:only-of-type {\n",
              "        vertical-align: middle;\n",
              "    }\n",
              "\n",
              "    .dataframe tbody tr th {\n",
              "        vertical-align: top;\n",
              "    }\n",
              "\n",
              "    .dataframe thead th {\n",
              "        text-align: right;\n",
              "    }\n",
              "</style>\n",
              "<table border=\"1\" class=\"dataframe\">\n",
              "  <thead>\n",
              "    <tr style=\"text-align: right;\">\n",
              "      <th></th>\n",
              "      <th>0</th>\n",
              "    </tr>\n",
              "  </thead>\n",
              "  <tbody>\n",
              "    <tr>\n",
              "      <th>291</th>\n",
              "      <td>37.3</td>\n",
              "    </tr>\n",
              "    <tr>\n",
              "      <th>99</th>\n",
              "      <td>33.2</td>\n",
              "    </tr>\n",
              "    <tr>\n",
              "      <th>108</th>\n",
              "      <td>19.8</td>\n",
              "    </tr>\n",
              "    <tr>\n",
              "      <th>357</th>\n",
              "      <td>21.7</td>\n",
              "    </tr>\n",
              "    <tr>\n",
              "      <th>239</th>\n",
              "      <td>23.3</td>\n",
              "    </tr>\n",
              "  </tbody>\n",
              "</table>\n",
              "</div>"
            ],
            "text/plain": [
              "        0\n",
              "291  37.3\n",
              "99   33.2\n",
              "108  19.8\n",
              "357  21.7\n",
              "239  23.3"
            ]
          },
          "execution_count": 90,
          "metadata": {},
          "output_type": "execute_result"
        }
      ],
      "source": [
        "ind_rows = np.random.choice(X_train.shape[0], 5, replace=True)\n",
        "ind_features = np.random.choice(X_train.shape[1], 5, replace=False)\n",
        "sample = X_train.iloc[ind_rows,:].iloc[:,ind_features]\n",
        "# [:,ind_features]\n",
        "sample\n",
        "# X_train.iloc[ind_rows,:]\n",
        "Y_train.loc[ind_rows]"
      ]
    },
    {
      "cell_type": "code",
      "execution_count": 103,
      "metadata": {},
      "outputs": [
        {
          "data": {
            "text/plain": [
              "array([19.5375    , 36.15      , 20.7875    , 16.77142857, 47.98571429,\n",
              "       29.48      ,  9.7       ,  9.7       , 47.98571429, 22.46      ,\n",
              "       16.77142857, 22.46      , 22.55714286,  9.7       , 22.46      ,\n",
              "       25.72      , 20.7875    , 36.15      , 16.77142857, 19.5375    ,\n",
              "       36.15      , 20.02857143, 19.5375    , 20.02857143, 17.175     ,\n",
              "       24.46666667, 22.46      ,  9.7       , 29.48      , 36.15      ,\n",
              "       20.7875    , 16.77142857, 17.175     , 16.77142857, 16.77142857,\n",
              "       20.7875    , 19.5375    , 19.5375    , 36.15      , 15.58333333,\n",
              "       15.58333333, 25.72      , 22.55714286, 16.77142857, 19.5375    ,\n",
              "       16.77142857, 30.55      , 36.15      , 17.175     , 20.02857143,\n",
              "       30.55      ,  9.7       , 25.72      , 16.77142857, 36.15      ,\n",
              "       19.5375    , 20.02857143,  9.7       , 17.175     , 20.7875    ,\n",
              "       25.72      , 47.98571429, 19.5375    , 20.02857143, 16.77142857,\n",
              "       15.58333333, 25.72      , 17.175     , 20.7875    ,  9.7       ,\n",
              "       15.58333333, 25.72      , 16.77142857, 20.02857143, 25.72      ,\n",
              "       16.77142857, 36.15      , 16.77142857, 25.72      , 20.02857143,\n",
              "       29.48      , 36.15      , 19.5375    , 19.5375    , 16.77142857,\n",
              "       36.15      , 15.58333333, 20.02857143, 20.02857143, 47.98571429,\n",
              "       20.02857143,  9.7       , 30.55      , 36.15      , 30.55      ,\n",
              "       22.46      ,  9.7       , 30.55      , 20.7875    , 29.48      ,\n",
              "       17.175     , 20.02857143])"
            ]
          },
          "execution_count": 103,
          "metadata": {},
          "output_type": "execute_result"
        }
      ],
      "source": [
        "ens = TreeEnsemble(X_train, Y_train, n_trees=15, sample_sz=100, n_features=5, min_leaf=5)\n",
        "ens.predict(X_test)"
      ]
    },
    {
      "cell_type": "markdown",
      "metadata": {
        "id": "kt7N2c7tmdfs"
      },
      "source": [
        "## 2. Implementing AdaBoost From Scratch (30 points)\n",
        "\n",
        "\n",
        "2.1.   Implement the AdaBoost algorithm for classification task. Your `AdaBoost` class should receive a method for creating a weak learner, which has a fit and predict methods (**hint**: you can simulate re-weighting of the samples by an appropriate re-sampling of the train set).\n",
        "\n",
        "2.2.   Use your model to find a strong classifier on the sample set given below, using $n$ weak learners:\n",
        "\n",
        "2.2.1. For the base weak learners, use any classifier you want (check different types with different configuration, keep them simple = Weak). \n",
        "\n",
        "2.2.2. Split the sample set into train and test sets.\n",
        "\n",
        "2.2.3 Plot the final decision plane of your classifier for $n\\in \\{1, 2, 3, 5, 10, 50\\}$, and visualize the final iteration weights of the samples in those plots.\n",
        "    - How does the overall train set accuracy changes with $n$?\n",
        "    - Does you model starts to overfit at some point?\n",
        "\n",
        "\n",
        "\n"
      ]
    },
    {
      "cell_type": "code",
      "execution_count": null,
      "metadata": {
        "id": "Hw1uXpshmdft"
      },
      "outputs": [],
      "source": [
        "from sklearn.datasets import make_circles\n",
        "from matplotlib import pyplot\n",
        "from pandas import DataFrame\n",
        "\n",
        "# generate 2d classification dataset\n",
        "X, y = make_circles(n_samples=1500, noise=0.2, random_state=101, factor=0.5)\n",
        "\n",
        "# scatter plot, dots colored by class value\n",
        "df = DataFrame(dict(x=X[:,0], y=X[:,1], label=y))\n",
        "colors = {0:'red', 1:'blue'}\n",
        "fig, ax = pyplot.subplots()\n",
        "grouped = df.groupby('label')\n",
        "for key, group in grouped:\n",
        "    group.plot(ax=ax, kind='scatter', x='x', y='y', label=key, color=colors[key])\n",
        "pyplot.show()"
      ]
    },
    {
      "cell_type": "code",
      "execution_count": null,
      "metadata": {
        "id": "oEutkwR2mdft"
      },
      "outputs": [],
      "source": []
    },
    {
      "cell_type": "markdown",
      "metadata": {
        "id": "_WA2heXLmdft"
      },
      "source": [
        "## 3. Boosting Trees from Scratch (40 points)\n",
        "1. Use the scikit-learn's DecisionTreeRegressor (again :) with `max_depth = 1` (stumps)  to write a L2Boost model which minimize the L2 square loss iteration by iteration.\n",
        "Reminder: in each step, build a decision tree to minimize the error between the true label and the accumulated (sum) of the previous step predictions.\n",
        "![alt text](https://explained.ai/gradient-boosting/images/latex-321A7951E78381FB73D2A6874916134D.svg)\n",
        "2. Use the Boston dataset to plot the MSE as a function of the number of trees for a logspace of `n_trees` up to 1,000. What is the optimal value of `n_trees`? of learning rate?\n",
        "3. Compare the performance with a deep DecisionTreeRegressor (find the optimal `max_depth`).  Who wins?\n",
        "4. Add an early-stopping mechanisim to the GBTL2 model to use a validation set to detect over-fit."
      ]
    },
    {
      "cell_type": "code",
      "execution_count": null,
      "metadata": {
        "id": "mKIhqCTEmdft"
      },
      "outputs": [],
      "source": []
    }
  ],
  "metadata": {
    "colab": {
      "provenance": []
    },
    "kernelspec": {
      "display_name": "base",
      "language": "python",
      "name": "python3"
    },
    "language_info": {
      "codemirror_mode": {
        "name": "ipython",
        "version": 3
      },
      "file_extension": ".py",
      "mimetype": "text/x-python",
      "name": "python",
      "nbconvert_exporter": "python",
      "pygments_lexer": "ipython3",
      "version": "3.9.13"
    },
    "vscode": {
      "interpreter": {
        "hash": "4afb1a9de92a1480aa03d8cf2eb92200404e379489b42821adaf7654ce4ec22a"
      }
    }
  },
  "nbformat": 4,
  "nbformat_minor": 0
}
